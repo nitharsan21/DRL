{
 "nbformat": 4,
 "nbformat_minor": 0,
 "metadata": {
  "colab": {
   "name": "DeepLearning.ipynb",
   "provenance": [],
   "collapsed_sections": []
  },
  "kernelspec": {
   "name": "python3",
   "display_name": "Python 3"
  },
  "language_info": {
   "name": "python"
  }
 },
 "cells": [
  {
   "cell_type": "markdown",
   "source": [
    "# DeepLearning\n",
    "\n",
    "\n",
    "\n",
    "\n"
   ],
   "metadata": {
    "id": "blL78rjkHdUl",
    "pycharm": {
     "name": "#%% md\n"
    }
   }
  },
  {
   "cell_type": "markdown",
   "source": [
    "# Partie 1\n",
    "##- Dynamic Programming"
   ],
   "metadata": {
    "id": "N-RUFgkqHVDk",
    "pycharm": {
     "name": "#%% md\n"
    }
   }
  },
  {
   "cell_type": "code",
   "source": [
    "import numpy as np\n",
    "import matplotlib.pyplot as plt\n",
    "\n",
    "def plot_values(V , row , colonne):\n",
    "\t# reshape value function\n",
    "\tV_sq = np.reshape(V, (row , colonne))\n",
    "\n",
    "\t# plot the state-value function\n",
    "\tfig = plt.figure(figsize=(10, 10))\n",
    "\tax = fig.add_subplot(111)\n",
    "\tim = ax.imshow(V_sq, cmap='cool')\n",
    "\tfor (j,i),label in np.ndenumerate(V_sq):\n",
    "\t    ax.text(i, j, np.round(label, 5), ha='center', va='center', fontsize=14)\n",
    "\tplt.tick_params(bottom=False, left=False, labelbottom=False, labelleft=False)\n",
    "\tplt.title('State-Value Function')\n",
    "\tplt.show()"
   ],
   "metadata": {
    "id": "ioixtEqyynI-",
    "pycharm": {
     "name": "#%%\n"
    }
   },
   "execution_count": null,
   "outputs": []
  },
  {
   "cell_type": "markdown",
   "source": [
    "##  Line World"
   ],
   "metadata": {
    "id": "QQ3ayN1lJdYh",
    "pycharm": {
     "name": "#%% md\n"
    }
   }
  },
  {
   "cell_type": "code",
   "source": [
    "import numpy as np\n",
    "import numba\n",
    "import numpy.random\n",
    "from more_itertools import take\n",
    "from tqdm import tqdm\n",
    "\n",
    "import matplotlib.pyplot as plt\n",
    "\n",
    "\n",
    "class SingleAgentEnv:\n",
    "    def state_id(self) -> int:\n",
    "        pass\n",
    "\n",
    "    def is_game_over(self) -> bool:\n",
    "        pass\n",
    "\n",
    "    def act_with_action_id(self, action_id: int):\n",
    "        pass\n",
    "\n",
    "    def score(self) -> float:\n",
    "        pass\n",
    "\n",
    "    def available_actions_ids(self) -> np.ndarray:\n",
    "        pass\n",
    "\n",
    "    def reset(self):\n",
    "        pass\n",
    "\n",
    "    def view(self):\n",
    "        pass\n",
    "\n",
    "    def reset_random(self):\n",
    "        pass\n",
    "\n",
    "\n",
    "class MDPEnv:\n",
    "    def states(self) -> np.ndarray:\n",
    "        pass\n",
    "\n",
    "    def actions(self) -> np.ndarray:\n",
    "        pass\n",
    "\n",
    "    def rewards(self) -> np.ndarray:\n",
    "        pass\n",
    "\n",
    "    def is_state_terminal(self, s: int) -> bool:\n",
    "        pass\n",
    "\n",
    "    def transition_probability(self, s: int, a: int, s_p: int, r: float) -> float:\n",
    "        pass\n",
    "\n",
    "    def view_state(self, s: int):\n",
    "        pass\n",
    "\n",
    "\n",
    "class LineWorldMLP(MDPEnv):\n",
    "    def __init__(self, nb_cells: int = 5):\n",
    "        self.nb_cells = nb_cells\n",
    "        self.state = np.arange(nb_cells)\n",
    "        self.action = np.array([0, 1])\n",
    "        self.reward = np.array([-1, 0, 1])\n",
    "\n",
    "        self.probability = np.zeros((len(self.state), len(self.action), len(self.state), len(self.reward)))\n",
    "\n",
    "        for s in self.state[1:-1]:\n",
    "            if s == 1:\n",
    "                self.probability[s, 0, s - 1, 0] = 1.0\n",
    "            else:\n",
    "                self.probability[s, 0, s - 1, 1] = 1.0\n",
    "\n",
    "            if s == nb_cells - 2:\n",
    "                self.probability[s, 1, s + 1, 2] = 1.0\n",
    "            else:\n",
    "                self.probability[s, 1, s + 1, 1] = 1.0\n",
    "\n",
    "    def states(self) -> np.ndarray:\n",
    "        return self.state\n",
    "\n",
    "    def actions(self) -> np.ndarray:\n",
    "        return self.action\n",
    "\n",
    "    def rewards(self) -> np.ndarray:\n",
    "        return self.reward\n",
    "\n",
    "    def is_state_terminal(self, s: int) -> bool:\n",
    "        return s == 0 or s == self.nb_cells - 1\n",
    "\n",
    "    def transition_probability(self, s: int, a: int, s_p: int, r: float) -> float:\n",
    "        return self.probability[s, a, s_p, r]\n",
    "\n",
    "    def view_state(self, s: int):\n",
    "        for i in self.state:\n",
    "            if i == s:\n",
    "                print(\"X\", end='')\n",
    "            else:\n",
    "                print(\"_\", end='')\n",
    "        print()\n",
    "\n",
    "\n",
    "class GridWorldMLP(MDPEnv):\n",
    "    def __init__(self, rows: int = 5, cols: int = 5):\n",
    "        self.rows = rows\n",
    "        self.cols = cols\n",
    "        self.state = np.arange(rows * cols)\n",
    "        self.nbcells = rows * cols\n",
    "        self.action = np.array([0, 1, 2, 3])\n",
    "        self.reward = np.array([-1.0, 0.0, 1.0])\n",
    "\n",
    "        self.probability = np.zeros((len(self.state), len(self.action), len(self.state), len(self.reward)))\n",
    "\n",
    "        def to_s(row, col):\n",
    "            return ((row * self.cols) + (col + 1)) - 1\n",
    "\n",
    "        def inc(row, col, a):\n",
    "            if a == 0:  # left\n",
    "                col = max(col - 1, 0)\n",
    "            elif a == 1:  # right\n",
    "                col = min(col + 1, self.cols - 1)\n",
    "            elif a == 2:  # up\n",
    "                row = max(row - 1, 0)\n",
    "            elif a == 3:  # down\n",
    "                row = min(row + 1, self.rows - 1)\n",
    "            return (row, col)\n",
    "\n",
    "        for row in range(rows):\n",
    "            for col in range(cols):\n",
    "                s = to_s(row, col)\n",
    "                if s in self.state[1:-1]:\n",
    "                    for a in self.action:\n",
    "                        r, c = inc(row, col, a)\n",
    "                        s_p = to_s(r, c)\n",
    "                        if s != s_p:\n",
    "                            if (s == 1 and a == 0) or (s == to_s(1, 0) and a == 2):\n",
    "                                self.probability[s, a, s_p, 0] = 1.0\n",
    "                            elif (s == self.nbcells - 2 and a == 1) or (s == to_s(rows - 2, cols - 1) and a == 3):\n",
    "                                self.probability[s, a, s_p, 2] = 1.0\n",
    "                            else:\n",
    "                                self.probability[s, a, s_p, 1] = 1.0\n",
    "\n",
    "\n",
    "\n",
    "    def states(self) -> np.ndarray:\n",
    "        return self.state\n",
    "\n",
    "    def actions(self) -> np.ndarray:\n",
    "        return self.action\n",
    "\n",
    "    def rewards(self) -> np.ndarray:\n",
    "        return self.reward\n",
    "\n",
    "    def is_state_terminal(self, s: int) -> bool:\n",
    "        return s == 0 or s == self.nb_cells - 1\n",
    "\n",
    "    def transition_probability(self, s: int, a: int, s_p: int, r: float) -> float:\n",
    "        return self.probability[s, a, s_p, r]\n",
    "\n",
    "    def viewstate(self, s: int):\n",
    "        for i in range(self.rows):\n",
    "            for j in range(self.cols):\n",
    "                if s == (((i * self.cols) + (j + 1)) - 1):\n",
    "                    print(\"X\", end='')\n",
    "                else:\n",
    "                    print(\"\", end='')\n",
    "            print('\\n')\n",
    "        print()\n",
    "\n",
    "\n",
    "\n",
    "\n",
    "def plot_values(V, row, colonne):\n",
    "    # reshape value function\n",
    "    V_sq = np.reshape(V, (row, colonne))\n",
    "\n",
    "    # plot the state-value function\n",
    "    fig = plt.figure(figsize=(10, 10))\n",
    "    ax = fig.add_subplot(111)\n",
    "    im = ax.imshow(V_sq, cmap='cool')\n",
    "    for (j, i), label in np.ndenumerate(V_sq):\n",
    "        ax.text(i, j, np.round(label, 5), ha='center', va='center', fontsize=14)\n",
    "    plt.tick_params(bottom=False, left=False, labelbottom=False, labelleft=False)\n",
    "    plt.title('State-Value Function')\n",
    "    plt.show()\n"
   ],
   "metadata": {
    "id": "NYuJJ6Leybtu",
    "pycharm": {
     "name": "#%%\n"
    }
   },
   "execution_count": null,
   "outputs": []
  },
  {
   "cell_type": "markdown",
   "source": [
    "### Policy Evaluation"
   ],
   "metadata": {
    "id": "Ilr2eTaKIezb",
    "pycharm": {
     "name": "#%% md\n"
    }
   }
  },
  {
   "cell_type": "code",
   "execution_count": null,
   "metadata": {
    "colab": {
     "base_uri": "https://localhost:8080/",
     "height": 431
    },
    "id": "KnTL0YTeGyYK",
    "outputId": "70e9dd3a-5aa5-4e97-9775-4ff48a2358ee",
    "pycharm": {
     "name": "#%%\n"
    }
   },
   "outputs": [
    {
     "output_type": "stream",
     "name": "stdout",
     "text": [
      "policy_evaluation_on_line_world of 7 cells :\n"
     ]
    },
    {
     "output_type": "display_data",
     "data": {
      "text/plain": [
       "<Figure size 432x288 with 1 Axes>"
      ],
      "image/png": "[encoded data removed]"
     },
     "metadata": {
      "needs_background": "light"
     }
    },
    {
     "output_type": "display_data",
     "data": {
      "text/plain": [
       "<Figure size 720x720 with 1 Axes>"
      ],
      "image/png": "[encoded data removed]"
     },
     "metadata": {}
    },
    {
     "output_type": "stream",
     "name": "stdout",
     "text": [
      "[ 0.         -0.0077857   0.0008665   0.01595072  0.12867812  0.51592392\n",
      "  0.        ]\n"
     ]
    }
   ],
   "source": [
    "\n",
    "def policy_evaluation_on_line_world(theta: float = 1e-6, gamma: float = 0.99):\n",
    "    \"\"\"\n",
    "    Creates a Line World of 7 cells (leftmost and rightmost are terminal, with -1 and 1 reward respectively)\n",
    "    Launches a Policy Evaluation Algorithm in order to find the Value Function of a uniform random policy\n",
    "    Returns the Value function (V(s)) of this policy\n",
    "    \"\"\"\n",
    "\n",
    "    print('policy_evaluation_on_line_world of 7 cells :')\n",
    "\n",
    "    # Line World of 7 cells\n",
    "    nb_cells = 7\n",
    "    env = LineWorldMLP(7)\n",
    "\n",
    "    # uniform random policy\n",
    "    policy = np.ones([len(env.states()), len(env.actions())]) / len(env.actions())\n",
    "    # policy = np.random.random((len(env.states()), len(env.actions())))\n",
    "\n",
    "    V = np.random.random((len(env.states()),))\n",
    "    V[0] = 0.0\n",
    "    V[nb_cells - 1] = 0.0\n",
    "\n",
    "    while True:\n",
    "        delta = 0\n",
    "        for s in env.states():\n",
    "            v = V[s]\n",
    "            V[s] = 0.0\n",
    "            for a in env.actions():\n",
    "                total = 0.0\n",
    "                for s_p in env.states():\n",
    "                    for r in range(len(env.rewards())):\n",
    "                        total += env.transition_probability(s, a, s_p, r) * (env.rewards()[r] + gamma * V[s_p])\n",
    "                    total *= policy[s, a]\n",
    "                V[s] += total\n",
    "            delta = max(delta, np.abs(v - V[s]))\n",
    "        if delta < theta:\n",
    "            break\n",
    "    # Env.plot_values(V,1,7\n",
    "    plt.plot(V)\n",
    "    plt.show()\n",
    "    plot_values(V ,1 , nb_cells)\n",
    "\n",
    "    return V\n",
    "\n",
    "\n",
    "print(policy_evaluation_on_line_world())"
   ]
  },
  {
   "cell_type": "markdown",
   "source": [
    "###TEST"
   ],
   "metadata": {
    "id": "TLYEolxuNu8n",
    "pycharm": {
     "name": "#%% md\n"
    }
   }
  },
  {
   "cell_type": "code",
   "source": [
    "def policy_evaluation(env, policy, gamma=1, theta=1e-8):\n",
    "    V = np.zeros(len(env.states()))\n",
    "    while True:\n",
    "        delta = 0\n",
    "        for s in range(len(env.states())):\n",
    "            Vs = 0\n",
    "            for a in env.actions():\n",
    "                total = 0.0\n",
    "                for s_p in env.states():\n",
    "                    for r in range(len(env.rewards())):\n",
    "                        total += env.transition_probability(s, a, s_p, r) * (env.rewards()[r] + gamma * V[s_p])\n",
    "                    total *= policy[s, a]\n",
    "                Vs += total\n",
    "            delta = max(delta, np.abs(V[s] - Vs))\n",
    "\n",
    "            V[s] = Vs\n",
    "        if delta < theta:\n",
    "            break\n",
    "    return V\n",
    "\n",
    "\n",
    "nb_cells = 7\n",
    "env = LineWorldMLP(7)\n",
    "\n",
    "policy = np.ones([len(env.states()), len(env.actions())]) / len(env.actions())\n",
    "print(policy)\n",
    "\n",
    "V = policy_evaluation(env, policy)\n",
    "\n",
    "plot_values(V , 1, 7)\n",
    "\n"
   ],
   "metadata": {
    "colab": {
     "base_uri": "https://localhost:8080/",
     "height": 259
    },
    "id": "asF6AWd-1KeG",
    "outputId": "897ca3b9-cfb4-4d8f-b7d8-68db5cfe2d5e",
    "pycharm": {
     "name": "#%%\n"
    }
   },
   "execution_count": null,
   "outputs": [
    {
     "output_type": "stream",
     "name": "stdout",
     "text": [
      "[[0.5 0.5]\n",
      " [0.5 0.5]\n",
      " [0.5 0.5]\n",
      " [0.5 0.5]\n",
      " [0.5 0.5]\n",
      " [0.5 0.5]\n",
      " [0.5 0.5]]\n"
     ]
    },
    {
     "output_type": "display_data",
     "data": {
      "text/plain": [
       "<Figure size 720x720 with 1 Axes>"
      ],
      "image/png": "[encoded data removed]"
     },
     "metadata": {}
    }
   ]
  },
  {
   "cell_type": "markdown",
   "source": [
    "### Policy Iteration"
   ],
   "metadata": {
    "id": "N6A16_c5cnh2",
    "pycharm": {
     "name": "#%% md\n"
    }
   }
  },
  {
   "cell_type": "code",
   "source": [
    "def policy_iteration_on_line_world(theta: float = 1e-6, gamma: float = 0.99):\n",
    "    \"\"\"\n",
    "    Creates a Line World of 7 cells (leftmost and rightmost are terminal, with -1 and 1 reward respectively)\n",
    "    Launches a Policy Iteration Algorithm in order to find the Optimal Policy and its Value Function\n",
    "    Returns the Policy (Pi(s,a)) and its Value Function (V(s))\n",
    "    \"\"\"\n",
    "\n",
    "    print('policy_iteration_on_line_world of 7 cells :')\n",
    "\n",
    "    # Line World of 7 cells\n",
    "    nb_cells = 7\n",
    "    env = LineWorldMLP(7)\n",
    "\n",
    "    V = np.random.random((len(env.states()),))\n",
    "    V[0] = 0.0\n",
    "    V[nb_cells - 1] = 0.0\n",
    "\n",
    "    # policy\n",
    "    policy = np.random.random((len(env.states()), len(env.actions())))\n",
    "\n",
    "    for s in env.states():\n",
    "        policy[s] /= np.sum(policy[s])\n",
    "\n",
    "    policy[0] = 0.0\n",
    "    policy[nb_cells - 1] = 0.0\n",
    "    # print('Initial policy : ', policy)\n",
    "\n",
    "    while True:\n",
    "        # policy evalution\n",
    "        while True:\n",
    "            delta = 0\n",
    "            for s in env.states():\n",
    "                v = V[s]\n",
    "                V[s] = 0.0\n",
    "                for a in env.actions():\n",
    "                    total = 0.0\n",
    "                    for s_p in env.states():\n",
    "                        for r in range(len(env.rewards())):\n",
    "                            total += env.transition_probability(s, a, s_p, r) * (env.rewards()[r] + gamma * V[s_p])\n",
    "                        total *= policy[s, a]\n",
    "                    V[s] += total\n",
    "                delta = max(delta, np.abs(v - V[s]))\n",
    "            if delta < theta:\n",
    "                break\n",
    "\n",
    "        # policy improvement\n",
    "        stable = True\n",
    "        for s in env.states():\n",
    "            old_policy_s = policy[s].copy()\n",
    "            q = np.zeros(len(env.actions()))\n",
    "            for a in env.actions():\n",
    "                for s_p in env.states():\n",
    "                    for r in range(len(env.rewards())):\n",
    "                        q[a] += env.transition_probability(s, a, s_p, r) * (env.rewards()[r] + gamma * V[s_p])\n",
    "            best_a = np.argwhere(q == np.max(q)).flatten()\n",
    "            policy[s] = np.sum([np.eye(len(env.actions()))[i] for i in best_a], axis=0) / len(best_a)\n",
    "\n",
    "            if np.any(policy[s] != old_policy_s):\n",
    "                stable = False\n",
    "        if stable:\n",
    "            plt.plot(V)\n",
    "            plt.show()\n",
    "            plot_values(V ,1 , nb_cells)\n",
    "            return policy, V\n",
    "\n",
    "\n",
    "print(policy_iteration_on_line_world())"
   ],
   "metadata": {
    "colab": {
     "base_uri": "https://localhost:8080/",
     "height": 545
    },
    "id": "xIRAtYzFHPj9",
    "outputId": "1fddb1ab-0eae-45e1-8f5e-65f4e31e8e39",
    "pycharm": {
     "name": "#%%\n"
    }
   },
   "execution_count": null,
   "outputs": [
    {
     "output_type": "stream",
     "name": "stdout",
     "text": [
      "policy_iteration_on_line_world of 7 cells :\n"
     ]
    },
    {
     "output_type": "display_data",
     "data": {
      "text/plain": [
       "<Figure size 432x288 with 1 Axes>"
      ],
      "image/png": "[encoded data removed]"
     },
     "metadata": {
      "needs_background": "light"
     }
    },
    {
     "output_type": "display_data",
     "data": {
      "text/plain": [
       "<Figure size 720x720 with 1 Axes>"
      ],
      "image/png": "[encoded data removed]"
     },
     "metadata": {}
    },
    {
     "output_type": "stream",
     "name": "stdout",
     "text": [
      "(array([[0.5, 0.5],\n",
      "       [0. , 1. ],\n",
      "       [0. , 1. ],\n",
      "       [0. , 1. ],\n",
      "       [0. , 1. ],\n",
      "       [0. , 1. ],\n",
      "       [0.5, 0.5]]), array([0.        , 0.96059601, 0.970299  , 0.9801    , 0.99      ,\n",
      "       1.        , 0.        ]))\n"
     ]
    }
   ]
  },
  {
   "cell_type": "markdown",
   "source": [
    "###TEST"
   ],
   "metadata": {
    "id": "I-OGjTMrOb--",
    "pycharm": {
     "name": "#%% md\n"
    }
   }
  },
  {
   "cell_type": "code",
   "source": [
    "def q_from_v(env, V, s, gamma=1):\n",
    "    q = np.zeros(len(env.actions()))\n",
    "    for a in env.actions():\n",
    "      total = 0.0\n",
    "      for s_p in env.states():\n",
    "          for r in range(len(env.rewards())):\n",
    "              q[a] += env.transition_probability(s, a, s_p, r) * (env.rewards()[r] + gamma * V[s_p])\n",
    "    return q\n",
    "\n",
    "\n",
    "def value_iteration(env, gamma=1, theta=1e-8):\n",
    "    V = np.random.random((len(env.states()),))\n",
    "    V[0] = 0.0\n",
    "    V[nb_cells - 1] = 0.0\n",
    "\n",
    "\n",
    "    # policy\n",
    "    policy = np.random.random((len(env.states()), len(env.actions())))\n",
    "    \n",
    "\n",
    "    for s in env.states():\n",
    "        policy[s] /= np.sum(policy[s])\n",
    "\n",
    "    policy[0] = 0.0\n",
    "    policy[nb_cells - 1] = 0.0\n",
    "\n",
    "    while True:\n",
    "        delta = 0\n",
    "        for s in env.states():\n",
    "            v = V[s]\n",
    "            q = np.zeros(len(env.actions()))\n",
    "            for a in env.actions():\n",
    "              total = 0.0\n",
    "              for s_p in env.states():\n",
    "                  for r in range(len(env.rewards())):\n",
    "                      q[a] += env.transition_probability(s, a, s_p, r) * (env.rewards()[r] + gamma * V[s_p])\n",
    "\n",
    "            V[s] = max(q)\n",
    "            delta = max(delta,abs(V[s]-v))\n",
    "        if delta < theta:\n",
    "            break\n",
    "\n",
    "    # policy improvement\n",
    "    for s in env.states():\n",
    "      v = V[s]\n",
    "      q = np.zeros(len(env.actions()))\n",
    "      for a in env.actions():\n",
    "        total = 0.0\n",
    "        for s_p in env.states():\n",
    "            for r in range(len(env.rewards())):\n",
    "                q[a] += env.transition_probability(s, a, s_p, r) * (env.rewards()[r] + gamma * V[s_p])\n",
    "      best_a = np.argwhere(q==np.max(q)).flatten()\n",
    "      policy[s] = np.sum([np.eye(len(env.actions()))[i] for i in best_a], axis=0)/len(best_a)\n",
    "      \n",
    "    return policy, V    \n",
    "\n",
    "\n",
    "\n",
    "nb_cells = 7\n",
    "env = LineWorldMLP(7)\n",
    "value_iteration(env)\n",
    "\n",
    "print(value_iteration(env))\n"
   ],
   "metadata": {
    "colab": {
     "base_uri": "https://localhost:8080/"
    },
    "id": "qD7jn83U4Kpo",
    "outputId": "7c7bbc79-8b8f-4ff7-9438-c3450c98f47d",
    "pycharm": {
     "name": "#%%\n"
    }
   },
   "execution_count": null,
   "outputs": [
    {
     "output_type": "stream",
     "name": "stdout",
     "text": [
      "(array([[0.5, 0.5],\n",
      "       [0. , 1. ],\n",
      "       [0.5, 0.5],\n",
      "       [0.5, 0.5],\n",
      "       [0.5, 0.5],\n",
      "       [0.5, 0.5],\n",
      "       [0.5, 0.5]]), array([0., 1., 1., 1., 1., 1., 0.]))\n"
     ]
    }
   ]
  },
  {
   "cell_type": "code",
   "source": [
    "def policy_iteration_on_line_world(theta: float = 1e-6 , gamma: float = 0.99):\n",
    "    \"\"\"\n",
    "    Creates a Line World of 7 cells (leftmost and rightmost are terminal, with -1 and 1 reward respectively)\n",
    "    Launches a Policy Iteration Algorithm in order to find the Optimal Policy and its Value Function\n",
    "    Returns the Policy (Pi(s,a)) and its Value Function (V(s))\n",
    "    \"\"\"\n",
    "\n",
    "    print('policy iteration on line world of 7 cells :')\n",
    "\n",
    "    # Line World of 7 cells\n",
    "    nb_cells = 7\n",
    "    env = LineWorldMLP(7)\n",
    "\n",
    "    V = np.random.random((len(env.states()),))\n",
    "    V[0] = 0.0\n",
    "    V[nb_cells - 1] = 0.0\n",
    "\n",
    "    # policy\n",
    "    policy = np.random.random((len(env.states()), len(env.actions())))\n",
    "\n",
    "    for s in env.states():\n",
    "        policy[s] /= np.sum(policy[s])\n",
    "\n",
    "    policy[0] = 0.0\n",
    "    policy[nb_cells - 1] = 0.0\n",
    "    print('Initial policy : ', policy)\n",
    "\n",
    "\n",
    "    while True:\n",
    "        delta = 0\n",
    "        for s in env.states():\n",
    "            v = V[s]\n",
    "            q = np.zeros(len(env.actions()))\n",
    "            for a in env.actions():\n",
    "              total = 0.0\n",
    "              for s_p in env.states():\n",
    "                  for r in range(len(env.rewards())):\n",
    "                      q[a] += env.transition_probability(s, a, s_p, r) * (env.rewards()[r] + gamma * V[s_p])\n",
    "\n",
    "            V[s] = max(q)\n",
    "            delta = max(delta,abs(V[s]-v))\n",
    "        if delta < theta:\n",
    "            break\n",
    "\n",
    "    for s in env.states():\n",
    "      v = V[s]\n",
    "      q = np.zeros(len(env.actions()))\n",
    "      for a in env.actions():\n",
    "        total = 0.0\n",
    "        for s_p in env.states():\n",
    "            for r in range(len(env.rewards())):\n",
    "                q[a] += env.transition_probability(s, a, s_p, r) * (env.rewards()[r] + gamma * V[s_p])\n",
    "      best_a = np.argwhere(q==np.max(q)).flatten()\n",
    "      print(best_a)\n",
    "      policy[s] = np.sum([np.eye(len(env.actions()))[i] for i in best_a], axis=0)/len(best_a)\n",
    "    return policy, V\n",
    "\n",
    "print(policy_iteration_on_line_world())"
   ],
   "metadata": {
    "colab": {
     "base_uri": "https://localhost:8080/"
    },
    "id": "oysioQn_phqc",
    "outputId": "f9cc5fe7-f72b-48ba-afe2-578f692faca0",
    "pycharm": {
     "name": "#%%\n"
    }
   },
   "execution_count": null,
   "outputs": [
    {
     "output_type": "stream",
     "name": "stdout",
     "text": [
      "policy iteration on line world of 7 cells :\n",
      "Initial policy :  [[0.         0.        ]\n",
      " [0.52838713 0.47161287]\n",
      " [0.75669797 0.24330203]\n",
      " [0.58181461 0.41818539]\n",
      " [0.75238399 0.24761601]\n",
      " [0.22983789 0.77016211]\n",
      " [0.         0.        ]]\n",
      "[0 1]\n",
      "[1]\n",
      "[1]\n",
      "[1]\n",
      "[1]\n",
      "[1]\n",
      "[0 1]\n",
      "(array([[0.5, 0.5],\n",
      "       [0. , 1. ],\n",
      "       [0. , 1. ],\n",
      "       [0. , 1. ],\n",
      "       [0. , 1. ],\n",
      "       [0. , 1. ],\n",
      "       [0.5, 0.5]]), array([0.        , 0.96059601, 0.970299  , 0.9801    , 0.99      ,\n",
      "       1.        , 0.        ]))\n"
     ]
    }
   ]
  },
  {
   "cell_type": "markdown",
   "source": [
    "### Value Iteration"
   ],
   "metadata": {
    "id": "FvybVrjxJaNy",
    "pycharm": {
     "name": "#%% md\n"
    }
   }
  },
  {
   "cell_type": "code",
   "source": [
    "def value_iteration_on_line_world(theta: float = 1e-6, gamma: float = 0.99):\n",
    "    \"\"\"\n",
    "    Creates a Line World of 7 cells (leftmost and rightmost are terminal, with -1 and 1 reward respectively)\n",
    "    Launches a Value Iteration Algorithm in order to find the Optimal Policy and its Value Function\n",
    "    Returns the Policy (Pi(s,a)) and its Value Function (V(s))\n",
    "    \"\"\"\n",
    "    # TODO\n",
    "    print('value_iteration_on_line_world of 7 cells :')\n",
    "\n",
    "    # Line World of 7 cells\n",
    "    nb_cells = 7\n",
    "    env = LineWorldMLP(7)\n",
    "\n",
    "    V = np.random.random((len(env.states()),))\n",
    "    V[0] = 0.0\n",
    "    V[nb_cells - 1] = 0.0\n",
    "\n",
    "    # policy\n",
    "    policy = np.random.random((len(env.states()), len(env.actions())))\n",
    "\n",
    "    for s in env.states():\n",
    "        policy[s] /= np.sum(policy[s])\n",
    "\n",
    "    policy[0] = 0.0\n",
    "    policy[nb_cells - 1] = 0.0\n",
    "    # print('Initial policy : ', policy)\n",
    "\n",
    "    while True:\n",
    "        delta = 0\n",
    "        for s in env.states():\n",
    "            v = V[s]\n",
    "            q = np.zeros(len(env.actions()))\n",
    "            for a in env.actions():\n",
    "                total = 0.0\n",
    "                for s_p in env.states():\n",
    "                    for r in range(len(env.rewards())):\n",
    "                        q[a] += env.transition_probability(s, a, s_p, r) * (env.rewards()[r] + gamma * V[s_p])\n",
    "            V[s] = max(q)\n",
    "            delta = max(delta, abs(V[s] - v))\n",
    "        if delta < theta:\n",
    "            break\n",
    "\n",
    "    for s in env.states():\n",
    "        q = np.zeros(len(env.actions()))\n",
    "        for a in env.actions():\n",
    "            total = 0.0\n",
    "            for s_p in env.states():\n",
    "                for r in range(len(env.rewards())):\n",
    "                    q[a] += env.transition_probability(s, a, s_p, r) * (env.rewards()[r] + gamma * V[s_p])\n",
    "        best_a = np.argwhere(q == np.max(q)).flatten()\n",
    "        policy[s] = np.sum([np.eye(len(env.actions()))[i] for i in best_a], axis=0) / len(best_a)\n",
    "\n",
    "\n",
    "    plt.plot(V)\n",
    "    plt.show()\n",
    "    plot_values(V ,1 , nb_cells)\n",
    "    return policy, V\n",
    "\n",
    "print(value_iteration_on_line_world())"
   ],
   "metadata": {
    "colab": {
     "base_uri": "https://localhost:8080/",
     "height": 531
    },
    "id": "-v0b2Fsx0kP0",
    "outputId": "373d4d94-5e08-4738-ac3f-af9616b8fcf4",
    "pycharm": {
     "name": "#%%\n"
    }
   },
   "execution_count": null,
   "outputs": [
    {
     "output_type": "stream",
     "name": "stdout",
     "text": [
      "value_iteration_on_line_world of 7 cells :\n"
     ]
    },
    {
     "output_type": "display_data",
     "data": {
      "text/plain": [
       "<Figure size 432x288 with 1 Axes>"
      ],
      "image/png": "[encoded data removed]"
     },
     "metadata": {
      "needs_background": "light"
     }
    },
    {
     "output_type": "display_data",
     "data": {
      "text/plain": [
       "<Figure size 720x720 with 1 Axes>"
      ],
      "image/png": "[encoded data removed]"
     },
     "metadata": {}
    },
    {
     "output_type": "stream",
     "name": "stdout",
     "text": [
      "(array([[0.5, 0.5],\n",
      "       [0. , 1. ],\n",
      "       [0. , 1. ],\n",
      "       [0. , 1. ],\n",
      "       [0. , 1. ],\n",
      "       [0. , 1. ],\n",
      "       [0.5, 0.5]]), array([0.        , 0.96059601, 0.970299  , 0.9801    , 0.99      ,\n",
      "       1.        , 0.        ]))\n"
     ]
    }
   ]
  },
  {
   "cell_type": "markdown",
   "source": [
    "###TEST"
   ],
   "metadata": {
    "id": "rfYxJHKLO_1F",
    "pycharm": {
     "name": "#%% md\n"
    }
   }
  },
  {
   "cell_type": "code",
   "source": [
    "def value_iteration_on_line_world(theta: float = 1e-6 , gamma: float = 0.99):\n",
    "    \"\"\"\n",
    "    Creates a Line World of 7 cells (leftmost and rightmost are terminal, with -1 and 1 reward respectively)\n",
    "    Launches a Value Iteration Algorithm in order to find the Optimal Policy and its Value Function\n",
    "    Returns the Policy (Pi(s,a)) and its Value Function (V(s))\n",
    "    \"\"\"\n",
    "    \n",
    "    # Line World of 7 cells\n",
    "    nb_cells = 7\n",
    "    env = LineWorldMLP(7)\n",
    "\n",
    "    V = np.random.random((len(env.states()),))\n",
    "    V[0] = 0.0\n",
    "    V[nb_cells - 1] = 0.0\n",
    "\n",
    "    # policy\n",
    "    policy = np.random.random((len(env.states()), len(env.actions())))\n",
    "\n",
    "    for s in env.states():\n",
    "        policy[s] /= np.sum(policy[s])\n",
    "\n",
    "    policy[0] = 0.0\n",
    "    policy[nb_cells - 1] = 0.0\n",
    "    print('Initial policy : ', policy)\n",
    "\n",
    "    while True:\n",
    "      while True:\n",
    "          delta = 0\n",
    "          for s in range(7):\n",
    "              v = V[s]\n",
    "              V[s] = max(q_from_v(env, V, s, gamma))\n",
    "              delta = max(delta,abs(V[s]-v))\n",
    "          if delta < theta:\n",
    "              break\n",
    "    policy = policy_improvement(env, V, gamma)\n",
    "\n",
    "\n",
    "\n",
    "\n",
    "\n",
    "    pass"
   ],
   "metadata": {
    "id": "xAIUDW4FJcGY",
    "pycharm": {
     "name": "#%%\n"
    }
   },
   "execution_count": null,
   "outputs": []
  },
  {
   "cell_type": "markdown",
   "source": [
    "## Grid World\n"
   ],
   "metadata": {
    "id": "yCgig5brJiP7",
    "pycharm": {
     "name": "#%% md\n"
    }
   }
  },
  {
   "cell_type": "markdown",
   "source": [
    "### Policy Evaluation"
   ],
   "metadata": {
    "id": "7S3wwj8wJtsU",
    "pycharm": {
     "name": "#%% md\n"
    }
   }
  },
  {
   "cell_type": "code",
   "source": [
    "\n",
    "def policy_evaluation_on_grid_world(theta: float = 1e-6, gamma: float = 0.99):\n",
    "    \"\"\"\n",
    "    Creates a Grid World of 5x5 cells (upper rightmost and lower rightmost are terminal, with -1 and 1 reward respectively)\n",
    "    Launches a Policy Evaluation Algorithm in order to find the Value Function of a uniform random policy\n",
    "    Returns the Value function (V(s)) of this policy\n",
    "    \"\"\"\n",
    "    # TODO\n",
    "    print('policy_evaluation_on_grid_world of 5x5 cells :')\n",
    "\n",
    "    # Grid World of 5x5\n",
    "    nb_cells = 5*5\n",
    "    env = GridWorldMLP(5,5)\n",
    "\n",
    "    # uniform random policy\n",
    "    policy = np.ones([len(env.states()), len(env.actions())]) / len(env.actions())\n",
    "    # policy = np.random.random((len(env.states()), len(env.actions())))\n",
    "\n",
    "    V = np.random.random((len(env.states()),))\n",
    "    V[0] = 0.0\n",
    "    V[nb_cells - 1] = 0.0\n",
    "\n",
    "    while True:\n",
    "        delta = 0\n",
    "        for s in env.states():\n",
    "            v = V[s]\n",
    "            V[s] = 0.0\n",
    "            for a in env.actions():\n",
    "                total = 0.0\n",
    "                for s_p in env.states():\n",
    "                    for r in range(len(env.rewards())):\n",
    "                        total += env.transition_probability(s, a, s_p, r) * (env.rewards()[r] + gamma * V[s_p])\n",
    "                    total *= policy[s, a]\n",
    "                V[s] += total\n",
    "            delta = max(delta, np.abs(v - V[s]))\n",
    "        if delta < theta:\n",
    "            break\n",
    "\n",
    "    plot_values(V,5,5)\n",
    "    return V\n",
    "\n",
    "v = policy_evaluation_on_grid_world()\n",
    "print(v)\n"
   ],
   "metadata": {
    "id": "qeQzzeGDJxkN",
    "colab": {
     "base_uri": "https://localhost:8080/",
     "height": 742
    },
    "outputId": "e91113d6-b8c4-434f-e257-678ba4c5f1c6",
    "pycharm": {
     "name": "#%%\n"
    }
   },
   "execution_count": null,
   "outputs": [
    {
     "output_type": "stream",
     "name": "stdout",
     "text": [
      "policy_evaluation_on_grid_world of 5x5 cells :\n"
     ]
    },
    {
     "output_type": "display_data",
     "data": {
      "text/plain": [
       "<Figure size 720x720 with 1 Axes>"
      ],
      "image/png": "[encoded data removed]"
     },
     "metadata": {}
    },
    {
     "output_type": "stream",
     "name": "stdout",
     "text": [
      "[ 0.00000000e+00 -8.88178420e-16  4.56104270e-26  1.76946746e-24\n",
      "  3.28750773e-21 -8.88176806e-16  7.66224466e-19  2.99517736e-17\n",
      "  5.54010665e-14  1.42623857e-11  5.02155285e-14  1.96376127e-12\n",
      "  3.63094810e-09  9.39260496e-07  6.04250318e-05  5.02716060e-10\n",
      "  9.29510652e-07  2.40465908e-04  1.55440575e-02  2.50000939e-01\n",
      "  9.25879760e-07  2.39527557e-04  1.54845588e-02  2.50240466e-01\n",
      "  0.00000000e+00]\n"
     ]
    }
   ]
  },
  {
   "cell_type": "markdown",
   "source": [
    "### Policy Iteration"
   ],
   "metadata": {
    "id": "XMa1cGUWJ5mu",
    "pycharm": {
     "name": "#%% md\n"
    }
   }
  },
  {
   "cell_type": "code",
   "source": [
    "\n",
    "def policy_iteration_on_grid_world(theta: float = 1e-6, gamma: float = 0.99):\n",
    "    \"\"\"\n",
    "    Creates a Grid World of 5x5 cells (upper rightmost and lower rightmost are terminal, with -1 and 1 reward respectively)\n",
    "    Launches a Policy Iteration Algorithm in order to find the Optimal Policy and its Value Function\n",
    "    Returns the Policy (Pi(s,a)) and its Value Function (V(s))\n",
    "    \"\"\"\n",
    "    # TODO\n",
    "    print('policy_iteration_on_grid_world of 5x5 cells :')\n",
    "\n",
    "    # Grid World of 5x5\n",
    "    nb_cells = 5 * 5\n",
    "    env = GridWorldMLP(5, 5)\n",
    "\n",
    "    V = np.random.random((len(env.states()),))\n",
    "    V[0] = 0.0\n",
    "    V[nb_cells - 1] = 0.0\n",
    "\n",
    "    # policy\n",
    "    policy = np.random.random((len(env.states()), len(env.actions())))\n",
    "\n",
    "    for s in env.states():\n",
    "        policy[s] /= np.sum(policy[s])\n",
    "\n",
    "    policy[0] = 0.0\n",
    "    policy[nb_cells - 1] = 0.0\n",
    "    # print('Initial policy : ', policy)\n",
    "\n",
    "    while True:\n",
    "        # policy evalution\n",
    "        while True:\n",
    "            delta = 0\n",
    "            for s in env.states():\n",
    "                v = V[s]\n",
    "                V[s] = 0.0\n",
    "                for a in env.actions():\n",
    "                    total = 0.0\n",
    "                    for s_p in env.states():\n",
    "                        for r in range(len(env.rewards())):\n",
    "                            total += env.transition_probability(s, a, s_p, r) * (env.rewards()[r] + gamma * V[s_p])\n",
    "                        total *= policy[s, a]\n",
    "                    V[s] += total\n",
    "                delta = max(delta, np.abs(v - V[s]))\n",
    "            if delta < theta:\n",
    "                break\n",
    "\n",
    "        # policy improvement\n",
    "        stable = True\n",
    "        for s in env.states():\n",
    "            old_policy_s = policy[s].copy()\n",
    "            q = np.zeros(len(env.actions()))\n",
    "            for a in env.actions():\n",
    "                for s_p in env.states():\n",
    "                    for r in range(len(env.rewards())):\n",
    "                        q[a] += env.transition_probability(s, a, s_p, r) * (env.rewards()[r] + gamma * V[s_p])\n",
    "            best_a = np.argwhere(q == np.max(q)).flatten()\n",
    "            policy[s] = np.sum([np.eye(len(env.actions()))[i] for i in best_a], axis=0) / len(best_a)\n",
    "\n",
    "            if np.any(policy[s] != old_policy_s):\n",
    "                stable = False\n",
    "        if stable:\n",
    "            plot_values(V,5,5)\n",
    "            return policy, V\n",
    "\n",
    "p,v = policy_iteration_on_grid_world()\n",
    "print(p)\n",
    "print(v)\n",
    "\n",
    "\n"
   ],
   "metadata": {
    "id": "tjRWoNjPJlwT",
    "colab": {
     "base_uri": "https://localhost:8080/",
     "height": 1000
    },
    "outputId": "4bc488f4-1b13-4635-a223-ee30fc14ea15",
    "pycharm": {
     "name": "#%%\n"
    }
   },
   "execution_count": null,
   "outputs": [
    {
     "output_type": "stream",
     "name": "stdout",
     "text": [
      "policy_iteration_on_grid_world of 5x5 cells :\n"
     ]
    },
    {
     "output_type": "display_data",
     "data": {
      "text/plain": [
       "<Figure size 720x720 with 1 Axes>"
      ],
      "image/png": "[encoded data removed]"
     },
     "metadata": {}
    },
    {
     "output_type": "stream",
     "name": "stdout",
     "text": [
      "[[0.25 0.25 0.25 0.25]\n",
      " [0.   1.   0.   0.  ]\n",
      " [0.   1.   0.   0.  ]\n",
      " [0.   1.   0.   0.  ]\n",
      " [0.   0.   0.   1.  ]\n",
      " [0.   0.   0.   1.  ]\n",
      " [0.25 0.25 0.25 0.25]\n",
      " [0.   0.   1.   0.  ]\n",
      " [0.   0.5  0.   0.5 ]\n",
      " [0.   0.   0.   1.  ]\n",
      " [0.   0.   0.   1.  ]\n",
      " [1.   0.   0.   0.  ]\n",
      " [0.   0.5  0.   0.5 ]\n",
      " [0.   1.   0.   0.  ]\n",
      " [0.   0.   0.   1.  ]\n",
      " [0.   0.   0.   1.  ]\n",
      " [0.   0.5  0.   0.5 ]\n",
      " [0.   0.   0.   1.  ]\n",
      " [0.   0.5  0.   0.5 ]\n",
      " [0.   0.   0.   1.  ]\n",
      " [0.   1.   0.   0.  ]\n",
      " [0.   1.   0.   0.  ]\n",
      " [0.   1.   0.   0.  ]\n",
      " [0.   1.   0.   0.  ]\n",
      " [0.25 0.25 0.25 0.25]]\n",
      "[0.00000000e+00 9.41480149e-01 9.50990050e-01 9.60596010e-01\n",
      " 9.70299000e-01 9.41480149e-01 3.48662835e-09 9.41480149e-01\n",
      " 2.51694992e-04 9.80100000e-01 9.50990050e-01 9.41480149e-01\n",
      " 4.02711987e-03 9.80100000e-01 9.90000000e-01 9.60596010e-01\n",
      " 6.44339180e-02 9.80100000e-01 2.62968750e-01 1.00000000e+00\n",
      " 9.70299000e-01 9.80100000e-01 9.90000000e-01 1.00000000e+00\n",
      " 0.00000000e+00]\n"
     ]
    }
   ]
  },
  {
   "cell_type": "markdown",
   "source": [
    "### Value Iteration"
   ],
   "metadata": {
    "id": "0Ob4xOKUKImw",
    "pycharm": {
     "name": "#%% md\n"
    }
   }
  },
  {
   "cell_type": "code",
   "source": [
    "\n",
    "\n",
    "def value_iteration_on_grid_world(theta: float = 1e-6, gamma: float = 0.99):\n",
    "    \"\"\"\n",
    "    Creates a Grid World of 5x5 cells (upper rightmost and lower rightmost are terminal, with -1 and 1 reward respectively)\n",
    "    Launches a Value Iteration Algorithm in order to find the Optimal Policy and its Value Function\n",
    "    Returns the Policy (Pi(s,a)) and its Value Function (V(s))\n",
    "    \"\"\"\n",
    "    # TODO\n",
    "\n",
    "    print('value_iteration_on_grid_world of 5x5 cells :')\n",
    "\n",
    "    # Grid World of 5x5\n",
    "    nb_cells = 5 * 5\n",
    "    env = GridWorldMLP(5, 5)\n",
    "\n",
    "    V = np.random.random((len(env.states()),))\n",
    "    V[0] = 0.0\n",
    "    V[nb_cells - 1] = 0.0\n",
    "\n",
    "    # policy\n",
    "    policy = np.random.random((len(env.states()), len(env.actions())))\n",
    "\n",
    "    for s in env.states():\n",
    "        policy[s] /= np.sum(policy[s])\n",
    "\n",
    "    policy[0] = 0.0\n",
    "    policy[nb_cells - 1] = 0.0\n",
    "    # print('Initial policy : ', policy)\n",
    "\n",
    "    while True:\n",
    "        delta = 0\n",
    "        for s in env.states():\n",
    "            v = V[s]\n",
    "            q = np.zeros(len(env.actions()))\n",
    "            for a in env.actions():\n",
    "                total = 0.0\n",
    "                for s_p in env.states():\n",
    "                    for r in range(len(env.rewards())):\n",
    "                        q[a] += env.transition_probability(s, a, s_p, r) * (env.rewards()[r] + gamma * V[s_p])\n",
    "            V[s] = max(q)\n",
    "            delta = max(delta, abs(V[s] - v))\n",
    "        if delta < theta:\n",
    "            break\n",
    "\n",
    "    for s in env.states():\n",
    "        q = np.zeros(len(env.actions()))\n",
    "        for a in env.actions():\n",
    "            total = 0.0\n",
    "            for s_p in env.states():\n",
    "                for r in range(len(env.rewards())):\n",
    "                    q[a] += env.transition_probability(s, a, s_p, r) * (env.rewards()[r] + gamma * V[s_p])\n",
    "        best_a = np.argwhere(q == np.max(q)).flatten()\n",
    "        policy[s] = np.sum([np.eye(len(env.actions()))[i] for i in best_a], axis=0) / len(best_a)\n",
    "    plot_values(V,5,5)\n",
    "    return policy, V\n",
    "\n",
    "\n",
    "p,v = value_iteration_on_grid_world()\n",
    "print(p)\n",
    "print(v)\n"
   ],
   "metadata": {
    "id": "liJKFnqCKJEQ",
    "colab": {
     "base_uri": "https://localhost:8080/",
     "height": 1000
    },
    "outputId": "d4dddc30-a381-451e-bb30-788b22cccdc7",
    "pycharm": {
     "name": "#%%\n"
    }
   },
   "execution_count": null,
   "outputs": [
    {
     "output_type": "stream",
     "name": "stdout",
     "text": [
      "value_iteration_on_grid_world of 5x5 cells :\n"
     ]
    },
    {
     "output_type": "display_data",
     "data": {
      "text/plain": [
       "<Figure size 720x720 with 1 Axes>"
      ],
      "image/png": "[encoded data removed]"
     },
     "metadata": {}
    },
    {
     "output_type": "stream",
     "name": "stdout",
     "text": [
      "[[0.25 0.25 0.25 0.25]\n",
      " [0.   0.5  0.   0.5 ]\n",
      " [0.   0.5  0.   0.5 ]\n",
      " [0.   0.5  0.   0.5 ]\n",
      " [0.   0.   0.   1.  ]\n",
      " [0.   0.5  0.   0.5 ]\n",
      " [0.   0.5  0.   0.5 ]\n",
      " [0.   0.5  0.   0.5 ]\n",
      " [0.   0.5  0.   0.5 ]\n",
      " [0.   0.   0.   1.  ]\n",
      " [0.   0.5  0.   0.5 ]\n",
      " [0.   0.5  0.   0.5 ]\n",
      " [0.   0.5  0.   0.5 ]\n",
      " [0.   0.5  0.   0.5 ]\n",
      " [0.   0.   0.   1.  ]\n",
      " [0.   0.5  0.   0.5 ]\n",
      " [0.   0.5  0.   0.5 ]\n",
      " [0.   0.5  0.   0.5 ]\n",
      " [0.   0.5  0.   0.5 ]\n",
      " [0.   0.   0.   1.  ]\n",
      " [0.   1.   0.   0.  ]\n",
      " [0.   1.   0.   0.  ]\n",
      " [0.   1.   0.   0.  ]\n",
      " [0.   1.   0.   0.  ]\n",
      " [0.25 0.25 0.25 0.25]]\n",
      "[0.         0.94148015 0.95099005 0.96059601 0.970299   0.94148015\n",
      " 0.95099005 0.96059601 0.970299   0.9801     0.95099005 0.96059601\n",
      " 0.970299   0.9801     0.99       0.96059601 0.970299   0.9801\n",
      " 0.99       1.         0.970299   0.9801     0.99       1.\n",
      " 0.        ]\n"
     ]
    }
   ]
  },
  {
   "cell_type": "markdown",
   "source": [],
   "metadata": {
    "id": "v0oRGUUuScq5",
    "pycharm": {
     "name": "#%% md\n"
    }
   }
  },
  {
   "cell_type": "markdown",
   "source": [
    "## - Méthodes Monte Carlo"
   ],
   "metadata": {
    "id": "_9y4GhIVKLt-",
    "pycharm": {
     "name": "#%% md\n"
    }
   }
  },
  {
   "cell_type": "markdown",
   "source": [
    "### TicTacToe 1"
   ],
   "metadata": {
    "id": "YI0JM50QKZpg",
    "pycharm": {
     "name": "#%% md\n"
    }
   }
  },
  {
   "cell_type": "code",
   "source": [
    "import numpy as np\n",
    "import numba\n",
    "import numpy.random\n",
    "from more_itertools import take\n",
    "from tqdm import tqdm\n",
    "from typing import Optional\n",
    "import matplotlib.pyplot as plt\n",
    "\n",
    "\n",
    "class SingleAgentEnv:\n",
    "    def state_id(self) -> int:\n",
    "        pass\n",
    "\n",
    "    def is_game_over(self) -> bool:\n",
    "        pass\n",
    "\n",
    "    def act_with_action_id(self, action_id: int):\n",
    "        pass\n",
    "\n",
    "    def score(self) -> float:\n",
    "        pass\n",
    "\n",
    "    def available_actions_ids(self) -> np.ndarray:\n",
    "        pass\n",
    "\n",
    "    def reset(self):\n",
    "        pass\n",
    "\n",
    "    def view(self):\n",
    "        pass\n",
    "\n",
    "    def reset_random(self):\n",
    "        pass\n",
    "\n",
    "\n",
    "\n",
    "class Player:\n",
    "    def __init__(self, sign: int, type: str) -> None:\n",
    "        self.sign = sign\n",
    "        self.is_winner = False\n",
    "        self.type = type  # 'H':human player, 'R': Random player, 'A'\n",
    "\n",
    "    def play(self, available_actions, state_id=None, policy=None) -> Optional[int]:\n",
    "        action_id = None\n",
    "        if self.type == 'H':\n",
    "            while action_id not in available_actions :\n",
    "                print(available_actions)\n",
    "                action_id = int (input(\"Please enter your action id IN : \"))\n",
    "                if action_id in available_actions:\n",
    "                    break\n",
    "        elif self.type == 'R':\n",
    "            action_id = np.random.choice(available_actions)\n",
    "        else:\n",
    "            if state_id is not None and policy is not None:\n",
    "                # action_id = max(policy[state_id], key=policy[state_id].get)\n",
    "                action_id = choices(available_actions, weights=policy)[0]\n",
    "                if(action_id == None):\n",
    "                   action_id = np.random.choice(available_actions)\n",
    "        return action_id\n",
    "\n",
    "\n",
    "class TicTacToeEnv(SingleAgentEnv):\n",
    "    def __init__(self, size=3) -> None:\n",
    "        self.size = size\n",
    "        self.board = np.zeros((size, size))\n",
    "        self.actions = np.arange(size * size)\n",
    "        self.players = np.array([Player(1, 'H'), Player(2, 'A')])\n",
    "        self.currentplayer = self.players[0]\n",
    "\n",
    "    def state_id(self) -> int:\n",
    "        state = 0\n",
    "        for i in range(self.size):\n",
    "            for j in range(self.size):\n",
    "                state += self.board[i][j] * pow(self.size, i * self.size + j)\n",
    "        return int(state)\n",
    "\n",
    "    def is_game_over(self) -> bool:\n",
    "        if len(self.available_actions_ids()) == 0:\n",
    "            return True\n",
    "        else:\n",
    "            # Check diagonals\n",
    "            if self.board[0][0] == self.board[1][1] == self.board[2][2] and self.board[0][0] != 0:\n",
    "                if self.players[0].sign == self.board[0][0]:\n",
    "                    self.players[0].is_winner = True\n",
    "                else:\n",
    "                    self.players[1].is_winner = True\n",
    "                return True\n",
    "            elif self.board[2][0] == self.board[1][1] == self.board[0][2] and self.board[2][0] != 0:\n",
    "                if self.players[0].sign == self.board[2][0]:\n",
    "                    self.players[0].is_winner = True\n",
    "                else:\n",
    "                    self.players[1].is_winner = True\n",
    "                return True\n",
    "            else:\n",
    "                for i in range(self.size):\n",
    "                    # Check horizontals\n",
    "                    if self.board[i][0] == self.board[i][1] == self.board[i][2] and self.board[i][0] != 0:\n",
    "                        if self.players[0].sign == self.board[i][0]:\n",
    "                            self.players[0].is_winner = True\n",
    "                        else:\n",
    "                            self.players[1].is_winner = True\n",
    "                        return True\n",
    "                    # Check verticals\n",
    "                    elif self.board[0][i] == self.board[1][i] == self.board[2][i] and self.board[0][i] != 0:\n",
    "                        if self.players[0].sign == self.board[0][0]:\n",
    "                            self.players[0].is_winner = True\n",
    "                        else:\n",
    "                            self.players[1].is_winner = True\n",
    "                        return True\n",
    "        return False\n",
    "\n",
    "    def act_with_action_id(self, action_id: int):\n",
    "        print(action_id)\n",
    "        i = action_id // self.size\n",
    "        j = action_id % self.size\n",
    "        self.board[i][j] = self.currentplayer.sign\n",
    "\n",
    "        if (self.currentplayer == self.players[0]):\n",
    "            self.currentplayer = self.players[1]\n",
    "        else:\n",
    "            self.currentplayer = self.players[0]\n",
    "        \n",
    "        print(self.convertStateToBoard(self.state_id()))\n",
    "\n",
    "    def score(self) -> float:\n",
    "        score = 0\n",
    "        if(self.is_game_over()):\n",
    "          if self.players[1].is_winner:\n",
    "              score = 10\n",
    "          elif self.players[0].is_winner == False and self.players[1].is_winner == False:\n",
    "              score = 0\n",
    "          else :\n",
    "              score = -1\n",
    "          \n",
    "          self.reset()\n",
    "        return 0\n",
    "\n",
    "    def available_actions_ids(self) -> np.ndarray:\n",
    "        positions = []\n",
    "        cpt = 0\n",
    "        for i in range(self.size):\n",
    "            for j in range(self.size):\n",
    "                if self.board[i, j] == 0:\n",
    "                    positions.append(cpt)\n",
    "                cpt += 1\n",
    "\n",
    "        return np.array(positions)\n",
    "\n",
    "    def reset(self):\n",
    "        self.board = np.zeros((self.size, self.size))\n",
    "        self.players[0].is_winner = False\n",
    "        self.players[1].is_winner = False\n",
    "        self.currentplayer = self.players[0]\n",
    "\n",
    "    def convertStateToBoard(self, state, b=3):\n",
    "        if state == 0:\n",
    "            return np.zeros((self.size, self.size))\n",
    "        digits = []\n",
    "        while len(digits) < self.size * self.size:\n",
    "            digits.append(int(state % b))\n",
    "            state //= b\n",
    "        digits = np.array(digits)\n",
    "        return digits.reshape(self.size, self.size)\n",
    "\n",
    "    def playWith(self, action):\n",
    "        self.act_with_action_id(self.currentplayer.sign, action)\n",
    "        if (self.currentplayer == self.players[0]):\n",
    "            self.currentplayer = self.players[1]\n",
    "        else:\n",
    "            self.currentplayer = self.players[0]\n",
    "\n",
    "        return self.state_id, self.score(), self.is_game_over()\n"
   ],
   "metadata": {
    "id": "uuuyEcyk926F",
    "pycharm": {
     "name": "#%%\n"
    }
   },
   "execution_count": 115,
   "outputs": []
  },
  {
   "cell_type": "code",
   "source": [],
   "metadata": {
    "id": "DChudrMPHpae",
    "pycharm": {
     "name": "#%%\n"
    }
   },
   "execution_count": 115,
   "outputs": []
  },
  {
   "cell_type": "code",
   "source": [
    "\n",
    "def monte_carlo_es_on_tic_tac_toe_solo(gamma: float = 0.99, max_episodes: int = 1):\n",
    "\n",
    "  env = TicTacToeEnv()\n",
    "  actions = env.available_actions_ids()\n",
    "  pi = defaultdict(lambda: {a: random() for a in actions})\n",
    "  Q = defaultdict(lambda: {a: 0.0 for a in actions})\n",
    "  Returns = defaultdict()\n",
    "\n",
    "  for ep in range(max_episodes):\n",
    "      env.reset()\n",
    "      s0 = env.state_id()\n",
    "      pis = [pi[s0][a] for a in env.available_actions_ids()]\n",
    "      a0 = choices(env.available_actions_ids(), weights=pis)[0]\n",
    "      s = s0\n",
    "      a = a0\n",
    "\n",
    "      env.act_with_action_id(env.currentplayer.play(env.available_actions_ids(),env.state_id(), pis))\n",
    "\n",
    "      s_history = [s0]\n",
    "      a_history = [a0]\n",
    "      s_p_history = [env.state_id()]\n",
    "      r_history = [env.score()]\n",
    "\n",
    "\n",
    "\n",
    "      while (not env.is_game_over() or env.available_actions_ids() != []):\n",
    "          s = env.state_id()\n",
    "          pis = [pi[s][a] for a in env.available_actions_ids()]\n",
    "          \n",
    "          if(not env.is_game_over()):\n",
    "              a = choices(env.available_actions_ids(), weights=pis)[0]\n",
    "              # faire jouer player[1]\n",
    "              env.act_with_action_id(env.currentplayer.play(env.available_actions_ids(),env.state_id(), pis))\n",
    "\n",
    "          s_history.append(s)\n",
    "          a_history.append(a)\n",
    "          s_p_history.append(env.state_id())\n",
    "          r_history.append(env.score())\n",
    "      \n",
    "      G = 0\n",
    "      for t in reversed(range(len(s_history))):\n",
    "            G = 0.999 * G + r_history[t]\n",
    "            s_t = s_history[t]\n",
    "            a_t = a_history[t]\n",
    "      \n",
    "            appear = False\n",
    "            for t_p in range(t - 1):\n",
    "                if s_history[t_p] == s_t and a_history[t_p] == a_t:\n",
    "                    appear = True\n",
    "                    break\n",
    "            if appear:\n",
    "                continue\n",
    "\n",
    "            Returns[s_t][a_t].append(G)\n",
    "            q[s_t, a_t] = np.mean(Returns[s_t][a_t])\n",
    "            pi[s_t, :] = 0.0\n",
    "            pi[s_t, np.argmax(q[s_t])] = 1.0\n",
    "\n",
    "  return pi, q\n",
    "\n",
    "print(monte_carlo_es_on_tic_tac_toe_solo())\n"
   ],
   "metadata": {
    "id": "Bl8VCx-HHpSy",
    "colab": {
     "base_uri": "https://localhost:8080/",
     "height": 345
    },
    "outputId": "5827c2ad-a82d-4150-af60-b52a0cd58de9",
    "pycharm": {
     "name": "#%%\n"
    }
   },
   "execution_count": 118,
   "outputs": [
    {
     "output_type": "error",
     "ename": "KeyboardInterrupt",
     "evalue": "ignored",
     "traceback": [
      "\u001B[0;31m---------------------------------------------------------------------------\u001B[0m",
      "\u001B[0;31mKeyboardInterrupt\u001B[0m                         Traceback (most recent call last)",
      "\u001B[0;32m<ipython-input-118-f137af1589ae>\u001B[0m in \u001B[0;36m<module>\u001B[0;34m()\u001B[0m\n\u001B[1;32m     60\u001B[0m   \u001B[0;32mreturn\u001B[0m \u001B[0mpi\u001B[0m\u001B[0;34m,\u001B[0m \u001B[0mq\u001B[0m\u001B[0;34m\u001B[0m\u001B[0;34m\u001B[0m\u001B[0m\n\u001B[1;32m     61\u001B[0m \u001B[0;34m\u001B[0m\u001B[0m\n\u001B[0;32m---> 62\u001B[0;31m \u001B[0mprint\u001B[0m\u001B[0;34m(\u001B[0m\u001B[0mmonte_carlo_es_on_tic_tac_toe_solo\u001B[0m\u001B[0;34m(\u001B[0m\u001B[0;34m)\u001B[0m\u001B[0;34m)\u001B[0m\u001B[0;34m\u001B[0m\u001B[0;34m\u001B[0m\u001B[0m\n\u001B[0m",
      "\u001B[0;32m<ipython-input-118-f137af1589ae>\u001B[0m in \u001B[0;36mmonte_carlo_es_on_tic_tac_toe_solo\u001B[0;34m(gamma, max_episodes)\u001B[0m\n\u001B[1;32m     32\u001B[0m           \u001B[0ma\u001B[0m \u001B[0;34m=\u001B[0m \u001B[0mchoices\u001B[0m\u001B[0;34m(\u001B[0m\u001B[0menv\u001B[0m\u001B[0;34m.\u001B[0m\u001B[0mavailable_actions_ids\u001B[0m\u001B[0;34m(\u001B[0m\u001B[0;34m)\u001B[0m\u001B[0;34m,\u001B[0m \u001B[0mweights\u001B[0m\u001B[0;34m=\u001B[0m\u001B[0mpis\u001B[0m\u001B[0;34m)\u001B[0m\u001B[0;34m[\u001B[0m\u001B[0;36m0\u001B[0m\u001B[0;34m]\u001B[0m\u001B[0;34m\u001B[0m\u001B[0;34m\u001B[0m\u001B[0m\n\u001B[1;32m     33\u001B[0m           \u001B[0;31m# faire jouer player[1]\u001B[0m\u001B[0;34m\u001B[0m\u001B[0;34m\u001B[0m\u001B[0;34m\u001B[0m\u001B[0m\n\u001B[0;32m---> 34\u001B[0;31m           \u001B[0menv\u001B[0m\u001B[0;34m.\u001B[0m\u001B[0mact_with_action_id\u001B[0m\u001B[0;34m(\u001B[0m\u001B[0menv\u001B[0m\u001B[0;34m.\u001B[0m\u001B[0mcurrentplayer\u001B[0m\u001B[0;34m.\u001B[0m\u001B[0mplay\u001B[0m\u001B[0;34m(\u001B[0m\u001B[0menv\u001B[0m\u001B[0;34m.\u001B[0m\u001B[0mavailable_actions_ids\u001B[0m\u001B[0;34m(\u001B[0m\u001B[0;34m)\u001B[0m\u001B[0;34m,\u001B[0m\u001B[0menv\u001B[0m\u001B[0;34m.\u001B[0m\u001B[0mstate_id\u001B[0m\u001B[0;34m(\u001B[0m\u001B[0;34m)\u001B[0m\u001B[0;34m,\u001B[0m \u001B[0mpis\u001B[0m\u001B[0;34m)\u001B[0m\u001B[0;34m)\u001B[0m\u001B[0;34m\u001B[0m\u001B[0;34m\u001B[0m\u001B[0m\n\u001B[0m\u001B[1;32m     35\u001B[0m \u001B[0;34m\u001B[0m\u001B[0m\n\u001B[1;32m     36\u001B[0m         \u001B[0ms_history\u001B[0m\u001B[0;34m.\u001B[0m\u001B[0mappend\u001B[0m\u001B[0;34m(\u001B[0m\u001B[0ms\u001B[0m\u001B[0;34m)\u001B[0m\u001B[0;34m\u001B[0m\u001B[0;34m\u001B[0m\u001B[0m\n",
      "\u001B[0;32m<ipython-input-115-619df8ec64a8>\u001B[0m in \u001B[0;36mplay\u001B[0;34m(self, available_actions, state_id, policy)\u001B[0m\n\u001B[1;32m     48\u001B[0m                 \u001B[0maction_id\u001B[0m \u001B[0;34m=\u001B[0m \u001B[0mint\u001B[0m \u001B[0;34m(\u001B[0m\u001B[0minput\u001B[0m\u001B[0;34m(\u001B[0m\u001B[0;34m\"Please enter your action id IN : \"\u001B[0m\u001B[0;34m)\u001B[0m\u001B[0;34m)\u001B[0m\u001B[0;34m\u001B[0m\u001B[0;34m\u001B[0m\u001B[0m\n\u001B[1;32m     49\u001B[0m         \u001B[0;32melif\u001B[0m \u001B[0mself\u001B[0m\u001B[0;34m.\u001B[0m\u001B[0mtype\u001B[0m \u001B[0;34m==\u001B[0m \u001B[0;34m'R'\u001B[0m\u001B[0;34m:\u001B[0m\u001B[0;34m\u001B[0m\u001B[0;34m\u001B[0m\u001B[0m\n\u001B[0;32m---> 50\u001B[0;31m             \u001B[0maction_id\u001B[0m \u001B[0;34m=\u001B[0m \u001B[0mnp\u001B[0m\u001B[0;34m.\u001B[0m\u001B[0mrandom\u001B[0m\u001B[0;34m.\u001B[0m\u001B[0mchoice\u001B[0m\u001B[0;34m(\u001B[0m\u001B[0mavailable_actions\u001B[0m\u001B[0;34m)\u001B[0m\u001B[0;34m\u001B[0m\u001B[0;34m\u001B[0m\u001B[0m\n\u001B[0m\u001B[1;32m     51\u001B[0m         \u001B[0;32melse\u001B[0m\u001B[0;34m:\u001B[0m\u001B[0;34m\u001B[0m\u001B[0;34m\u001B[0m\u001B[0m\n\u001B[1;32m     52\u001B[0m             \u001B[0;32mif\u001B[0m \u001B[0mstate_id\u001B[0m \u001B[0;32mis\u001B[0m \u001B[0;32mnot\u001B[0m \u001B[0;32mNone\u001B[0m \u001B[0;32mand\u001B[0m \u001B[0mpolicy\u001B[0m \u001B[0;32mis\u001B[0m \u001B[0;32mnot\u001B[0m \u001B[0;32mNone\u001B[0m\u001B[0;34m:\u001B[0m\u001B[0;34m\u001B[0m\u001B[0;34m\u001B[0m\u001B[0m\n",
      "\u001B[0;31mKeyboardInterrupt\u001B[0m: "
     ]
    }
   ]
  },
  {
   "cell_type": "code",
   "source": [],
   "metadata": {
    "id": "d4jHucwskWMo",
    "pycharm": {
     "name": "#%%\n"
    }
   },
   "execution_count": null,
   "outputs": []
  },
  {
   "cell_type": "code",
   "source": [
    "from collections import defaultdict\n",
    "from random import random, choice, choices\n",
    "\n",
    "def off_policy_monte_carlo_control_on_tic_tac_toe_solo():\n",
    "    \"\"\"\n",
    "    Creates a TicTacToe Solo environment (Single player versus Uniform Random Opponent)\n",
    "    Launches an Off Policy Monte Carlo Control algorithm in order to find the optimal greedy Policy and its action-value function\n",
    "    Returns the Optimal Policy (Pi(s,a)) and its Action-Value function (Q(s,a))\n",
    "    Experiment with different values of hyper parameters and choose the most appropriate combination\n",
    "    \"\"\"\n",
    "    env = TicTacToeEnv()\n",
    "\n",
    "    actions = env.available_actions_ids()\n",
    "\n",
    "    Q = defaultdict(lambda: {a: 0.0 for a in actions})\n",
    "    C = defaultdict(lambda: {a: 0.0 for a in actions})\n",
    "\n",
    "    pi = defaultdict(lambda: {a: random() for a in actions})\n",
    "    target_policy = pi\n",
    "    num_episodes = 20\n",
    "\n",
    "    for i_episode in range(1, num_episodes + 1):\n",
    "        env.reset()\n",
    "        s0 = env.state_id()\n",
    "        pis = [pi[s0][a] for a in env.available_actions_ids()]\n",
    "        a0 = choices(env.available_actions_ids(), weights=pis)[0]\n",
    "\n",
    "        # faire jouer player[1]\n",
    "        env.act_with_action_id(env.currentplayer.play(env.available_actions_ids(),env.state_id(), pis))\n",
    "\n",
    "        s_history = [s0]\n",
    "        a_history = [a0]\n",
    "        s_p_history = [env.state_id()]\n",
    "        r_history = [env.score()]\n",
    "\n",
    "        while (not env.is_game_over() or env.available_actions_ids() != []):\n",
    "            s = env.state_id()\n",
    "            pis = [pi[s][a] for a in env.available_actions_ids()]\n",
    "            \n",
    "            if(not env.is_game_over()):\n",
    "              a = choices(env.available_actions_ids(), weights=pis)[0]\n",
    "              # faire jouer player[1]\n",
    "              env.act_with_action_id(env.currentplayer.play(env.available_actions_ids(),env.state_id(), pis))\n",
    "\n",
    "            s_history.append(s)\n",
    "            a_history.append(a)\n",
    "            s_p_history.append(env.state_id())\n",
    "            r_history.append(env.score())\n",
    "\n",
    "        G = 0.0\n",
    "        W = 1.0\n",
    "        delta = 0.999\n",
    "\n",
    "        for t in range(len(s_p_history))[::-1]:\n",
    "            state, action, reward = s_p_history[t], a_history[t], r_history[t]\n",
    "            G = delta * G + reward\n",
    "            C[state][action] += W\n",
    "            Q[state][action] += (W / C[state][action]) * (G - Q[state][action])\n",
    "            target_policy[state] = {a: 0.0 for a in actions}\n",
    "            best_action = max(Q[state], key=Q[state].get)\n",
    "            target_policy[state][best_action] = 1.0\n",
    "\n",
    "            if action != best_action:\n",
    "                break\n",
    "\n",
    "            W = W * (target_policy[state][action] / pi[state][action])\n",
    "\n",
    "    return Q, target_policy\n",
    "\n",
    "q, p = off_policy_monte_carlo_control_on_tic_tac_toe_solo()"
   ],
   "metadata": {
    "id": "QCi-y4uvHpKd",
    "pycharm": {
     "name": "#%%\n"
    }
   },
   "execution_count": null,
   "outputs": []
  },
  {
   "cell_type": "code",
   "source": [],
   "metadata": {
    "id": "gcLYs2aTHpCM",
    "pycharm": {
     "name": "#%%\n"
    }
   },
   "execution_count": null,
   "outputs": []
  },
  {
   "cell_type": "code",
   "source": [],
   "metadata": {
    "id": "W0t_YWTuHo5e",
    "pycharm": {
     "name": "#%%\n"
    }
   },
   "execution_count": null,
   "outputs": []
  },
  {
   "cell_type": "code",
   "source": [],
   "metadata": {
    "id": "FUhG7QlZHov-",
    "pycharm": {
     "name": "#%%\n"
    }
   },
   "execution_count": null,
   "outputs": []
  },
  {
   "cell_type": "code",
   "source": [
    "def sarsa_on_tic_tac_toe_solo( max_iter_count: int = 10000,\n",
    "               gamma: float = 0.99,\n",
    "               alpha: float = 0.05,\n",
    "               epsilon: float = 0.5):\n",
    "    \"\"\"\n",
    "    Creates a TicTacToe Solo environment (Single player versus Uniform Random Opponent)\n",
    "    Launches a SARSA Algorithm in order to find the optimal epsilon-greedy Policy and its action-value function\n",
    "    Returns the optimal epsilon-greedy Policy and its Action-Value function (Q(s,a))\n",
    "    Experiment with different values of hyper parameters and choose the most appropriate combination\n",
    "    \"\"\"\n",
    "\n",
    "    env = TicTacToeEnv()\n",
    "    q = {}\n",
    "    for it in range(max_iter_count):\n",
    "\n",
    "        if env.is_game_over():\n",
    "            env.reset()\n",
    "\n",
    "        s = env.state_id()\n",
    "        aa = env.available_actions_ids()\n",
    "        if s not in q:\n",
    "            q[s] = {}\n",
    "            for a in aa:\n",
    "                q[s][a] = 0.0 if env.is_game_over() else random.random()\n",
    "\n",
    "        if random.random() <= epsilon:\n",
    "            a = np.random.choice(aa)\n",
    "        else:\n",
    "            a = aa[np.argmax([q[s][a] for a in aa])]\n",
    "\n",
    "        old_score = env.score()\n",
    "        env.act_with_action_id(a)\n",
    "        new_score = env.score()\n",
    "        r = new_score - old_score\n",
    "\n",
    "        if env.is_game_over():\n",
    "            env.reset()\n",
    "        s_p = env.state_id()\n",
    "        aa_p = env.available_actions_ids()\n",
    "\n",
    "        if s_p not in q:\n",
    "            q[s_p] = {}\n",
    "            for a in aa_p:\n",
    "                q[s_p][a] = 0.0 if env.is_game_over() else random.random()\n",
    "\n",
    "        predict = q[s][a]\n",
    "        target = 0.0\n",
    "        for i in aa_p:\n",
    "            target = r + gamma * q[s_p][i]\n",
    "        q[s][a] += alpha * (target - predict)\n",
    "\n",
    "\n",
    "    pi = {}\n",
    "    for (s, a_dict) in q.items():\n",
    "        pi[s] = {}\n",
    "        actions = []\n",
    "        q_values = []\n",
    "        for (a, q_value) in a_dict.items():\n",
    "            actions.append(a)\n",
    "            q_values.append(q_value)\n",
    "\n",
    "        best_action_idx = np.argmax(q_values)\n",
    "        for i in range(len(actions)):\n",
    "            pi[s][actions[i]] = 1.0 if actions[i] == best_action_idx else 0.0\n",
    "\n",
    "    return q, pi\n",
    "\n",
    "print(sarsa_on_tic_tac_toe_solo)\n",
    "\n",
    "\n",
    "\n",
    "\n",
    "\n",
    "\n"
   ],
   "metadata": {
    "id": "nlnpD6TX94IB",
    "colab": {
     "base_uri": "https://localhost:8080/"
    },
    "outputId": "469f8623-6e86-42bf-8e5b-092a25dc19c6",
    "pycharm": {
     "name": "#%%\n"
    }
   },
   "execution_count": null,
   "outputs": [
    {
     "output_type": "stream",
     "name": "stdout",
     "text": [
      "<function sarsa_on_tic_tac_toe_solo at 0x7fc61caf8830>\n"
     ]
    }
   ]
  },
  {
   "cell_type": "code",
   "source": [
    "import random\n",
    "\n",
    "def q_learning_on_tic_tac_toe_solo( max_iter_count: int = 10000,\n",
    "               gamma: float = 0.99,\n",
    "               alpha: float = 0.1,\n",
    "               epsilon: float = 0.2):\n",
    "    \"\"\"\n",
    "    Creates a TicTacToe Solo environment (Single player versus Uniform Random Opponent)\n",
    "    Launches a Q-Learning algorithm in order to find the optimal greedy Policy and its action-value function\n",
    "    Returns the optimal greedy Policy and its Action-Value function (Q(s,a))\n",
    "    Experiment with different values of hyper parameters and choose the most appropriate combination\n",
    "    \"\"\"\n",
    "    q = {}\n",
    "    env = TicTacToeEnv()\n",
    "\n",
    "    for it in range(max_iter_count):\n",
    "\n",
    "        if env.is_game_over():\n",
    "          env.reset()\n",
    "\n",
    "        s = env.state_id()\n",
    "        aa = env.available_actions_ids()\n",
    "        if s not in q:\n",
    "            q[s] = {}\n",
    "            for a in aa:\n",
    "                q[s][a] = 0.0 if env.is_game_over() else random.random()\n",
    "\n",
    "        if random.random() <= epsilon:\n",
    "            a = np.random.choice(aa)\n",
    "        else:\n",
    "            a = aa[np.argmax([q[s][a] for a in aa])]\n",
    "\n",
    "        old_score = env.score()\n",
    "        env.act_with_action_id(a)\n",
    "        new_score = env.score()\n",
    "        r = new_score - old_score\n",
    "\n",
    "        if env.is_game_over():\n",
    "            env.reset()\n",
    "\n",
    "        s_p = env.state_id()\n",
    "        aa_p = env.available_actions_ids()\n",
    "\n",
    "        if s_p not in q:\n",
    "            q[s_p] = {}\n",
    "            for a in aa_p:\n",
    "                q[s_p][a] = 0.0 if env.is_game_over() else random.random()\n",
    "\n",
    "        q[s][a] += alpha * (r + gamma * np.max([q[s_p][a] for a in aa_p]) - q[s][a])\n",
    "\n",
    "    pi = {}\n",
    "    for (s, a_dict) in q.items():\n",
    "        pi[s] = {}\n",
    "        actions = []\n",
    "        q_values = []\n",
    "        for (a, q_value) in a_dict.items():\n",
    "            actions.append(a)\n",
    "            q_values.append(q_value)\n",
    "\n",
    "        best_action_idx = np.argmax(q_values)\n",
    "        for i in range(len(actions)):\n",
    "            pi[s][actions[i]] = 1.0 if actions[i] == best_action_idx else 0.0\n",
    "\n",
    "    return q, pi\n",
    "\n",
    "print(q_learning_on_tic_tac_toe_solo())"
   ],
   "metadata": {
    "colab": {
     "base_uri": "https://localhost:8080/"
    },
    "id": "QJFOPNt0FqxT",
    "outputId": "18fbdadc-ed82-41d0-b5f9-626716452897",
    "pycharm": {
     "name": "#%%\n"
    }
   },
   "execution_count": null,
   "outputs": [
    {
     "output_type": "stream",
     "name": "stdout",
     "text": [
      "({0: {0: 0.8406262433059187, 1: 0.8408021561484125, 2: 0.839772496159287, 3: 0.8231083020691217, 4: 0.840181883282761, 5: 0.8350517170078205, 6: 0.8301381974474551, 7: 0.8180306602104729, 8: 0.7900650813030157}, 6561: {0: 0.7860771318062529, 1: 0.62857411862863, 2: 0.73940109647461, 3: 0.674569993079379, 4: 0.7304006750932481, 5: 0.583991674510416, 6: 0.7949063861191924, 7: 0.7816300294749334}, 8019: {0: 0.7996856683396834, 1: 0.7594235087355651, 2: 0.5756205639661337, 3: 0.794923313537225, 4: 0.6372246850368907, 5: 0.7879868089743515, 7: 0.7996368638099436}, 8020: {1: 0.02896500692534698, 2: 0.7991757068761622, 3: 0.7775595180030669, 4: 0.587737804349623, 5: 0.6035643734693383, 7: 0.6986238225675206}, 8038: {1: 0.7995099082837748, 3: 0.27900681891070894, 4: 0.29136426552444306, 5: 0.24330074969944807, 7: 0.6419645508951684}, 8281: {1: 0.05228597503691146, 3: 0.1448606534607757, 4: 0.5978990621138487, 7: 0.1104326331436214}, 8046: {0: 0.5242966643044381, 1: 0.5765234173510945, 2: 0.2608178675122862, 4: 0.34456507593488483, 5: 0.4489001200878567, 7: 0.7818963231216173}, 8208: {0: 0.7195803596384134, 1: 0.274127758539654, 2: 0.8542961236980999, 5: 0.3403793440002678, 7: 0.7000020595518996}, 8217: {0: 0.781859459960974, 1: 0.2962046098693065, 5: 0.3366109531531025, 7: 0.7674852917612004}, 12591: {0: 0.04133491015289059, 1: 0.7016996685977179, 5: 0.616522154798301}, 8065: {1: 0.32588225934472026, 4: 0.55431982197311, 5: 0.2751855137852882, 7: 0.9218576839832895}, 12439: {1: 0.16778347879358468, 4: 0.5604638461539072, 5: 0.7959591862482539}, 12682: {1: 0.7419752522640715, 4: 0.12701283367529523}, 12688: {4: 0.42087151947918067}, 2187: {0: 0.6288432575246045, 1: 0.7605649577291402, 2: 0.8915175326269366, 3: 0.7845579283551789, 4: 0.7454435535351241, 5: 0.691366996890698, 6: 0.48156660623201014, 8: 0.39869224390068897}, 2241: {0: 0.5446081836887523, 1: 0.49977914851993344, 2: 0.271056196932543, 4: 0.38971903539943514, 5: 0.2639458302523976, 6: 0.7628435357175144, 8: 0.5420976474110235}, 2970: {0: 0.8755539005682647, 1: 0.7334815837410364, 2: 0.042495168346060375, 4: 0.30577685837695645, 5: 0.8462609219572897, 8: 0.31064623944880987}, 2972: {1: 0.8639242541283401, 2: 0.8552149711384658, 4: 0.7678565861541188, 5: 0.539263407542821, 8: 0.4349052041452111}, 2981: {1: 0.560081212800792, 4: 0.6738254193055366, 5: 0.3908834745712845, 8: 0.7466941973182566}, 16103: {1: 0.6122372542171058, 4: 0.10502032195317222, 5: 0.7139577928162684}, 16346: {1: 0.6659988444711833, 4: 0.43341196915713087}, 16352: {4: 0.7549311365544379}, 1: {1: 0.8311314683872894, 2: 0.8291857710398477, 3: 0.6943214796758741, 4: 0.43568438823218564, 5: 0.6999727088320015, 6: 0.3753273242943592, 7: 0.8443436225279694, 8: 0.7781466558210139}, 7: {2: 0.8327706484793712, 3: 0.44420910537021646, 4: 0.8173462784238501, 5: 0.22814720587244974, 6: 0.8255322247693305, 7: 0.33408537105208447, 8: 0.5506667851676531}, 736: {2: 0.043731546733727145, 3: 0.45596026375665855, 4: 0.7530359107919466, 5: 0.5362189804935878, 7: 0.5939357978663062, 8: 0.39827750868653644}, 898: {2: 0.777553752745464, 3: 0.35548602232291504, 5: 0.5264671009477468, 7: 0.6001288746525222, 8: 0.728013982162282}, 7459: {2: 0.6262587196401695, 3: 0.4820420207261287, 5: 0.5327137945204373, 7: 0.33353676190255965}, 7477: {3: 0.7510716558737279, 5: 0.750471875279485, 7: 0.8232524719840151}, 243: {0: 0.8215199277188683, 1: 0.6466157836198014, 2: 0.5369463051845782, 3: 0.35433176528992105, 4: 0.8298370994038669, 6: 0.5691752206363939, 7: 0.8359090810303553, 8: 0.6684501959905008}, 4617: {0: 0.6363350658050064, 1: 0.12739946502542043, 2: 0.171026195860428, 3: 0.36626948677015025, 4: 0.2807359350365361, 6: 0.8356443952726376, 8: 0.595940716219082}, 5346: {0: 0.2322206602544213, 1: 0.8352702796733321, 2: 0.1699829967272901, 3: 0.8102373616757094, 4: 0.8229656239628724, 8: 0.8352085612245453}, 5508: {0: 0.4932142484990063, 1: 0.4683517039100223, 2: 0.6673398812234976, 3: 0.1452693622086237, 8: 0.49272065684308824}, 5517: {0: 0.0884024542350853, 1: 0.19270179685957167, 3: 0.6718082544552455, 8: 0.1659404209549979}, 5571: {0: 0.526838911212371, 1: 0.04190556030123227, 8: 0.8315458298907541}, 10225: {1: 0.7115006482522854, 3: 0.5384314387595576, 4: 0.35711782408897774, 5: 0.41420558495783566}, 10231: {3: 0.391403555328398, 4: 0.8427988411730929, 5: 0.8209044681412928}, 10258: {4: 0.6500820325978618, 5: 0.284592370506081}, 10744: {4: 0.9522211512940892}, 7047: {0: 0.9611364803255464, 1: 0.6734080857163776, 2: 0.5556996816704342, 3: 0.07416323491988286, 4: 0.5054926049987105, 6: 0.8346306896459651, 7: 0.15564326443743298}, 7048: {1: 0.8671238843439291, 2: 0.9486804577622208, 3: 0.8395302817718896, 4: 0.5121459158530666, 6: 0.0948328415583165, 7: 0.5408640037143115}, 7066: {1: 0.8180850290561225, 3: 0.9243863488292321, 4: 0.8921537664503897, 6: 0.6748053071107235, 7: 0.5482600338237115}, 7093: {1: 0.64588046541074, 4: 0.19965091514074795, 6: 0.15708143839934374, 7: 0.47146858265259006}, 7099: {4: 0.25436136213157334, 6: 0.33360463923866324, 7: 0.4530975638658995}, 9286: {4: 0.9018045677597311, 6: 0.20802684788076303}, 9448: {6: 0.8040828290354982}, 8041: {3: 0.6748292418623818, 4: 0.6057027848004742, 5: 0.7941433868556317, 7: 0.8017729562052955}, 6563: {1: 0.1085998738475098, 2: 0.7810868367251657, 3: 0.28762430899967917, 4: 0.22035177635044007, 5: 0.49131822920486, 6: 0.767774883163874, 7: 0.7762589031083611}, 6644: {1: 0.36053202849674304, 2: 0.23078246319724982, 3: 0.34103032563541247, 5: 0.1971761718796936, 6: 0.917777437044658, 7: 0.9348348772607553}, 11018: {1: 0.9727447955741086, 2: 0.7454636086207672, 3: 0.8690147017016459, 5: 0.9574039832863164, 6: 0.7440541225508223}, 11021: {2: 0.30154314840567364, 3: 0.8034047583058407, 5: 0.45642094229734154, 6: 0.6297262065262853}, 11075: {2: 0.37264127170070094, 5: 0.3698218254348102, 6: 0.37810696836056124}, 11804: {2: 0.7404082079697756, 5: 0.3388110445415368}, 11822: {5: 0.8588392397112805}, 8527: {3: 0.5071327015459, 4: 0.7807295287124851, 7: 0.24164068857895987}, 729: {0: 0.8239165349050697, 1: 0.19758168585445257, 2: 0.4658695908473014, 3: 0.814797457526675, 4: 0.5930259718725994, 5: 0.4502906829668145, 7: 0.7019983928674844, 8: 0.7274296976035484}, 731: {1: 0.811936473687492, 2: 0.7662781940254549, 3: 0.5266903426235884, 4: 0.30861507423119283, 5: 0.05147287459149663, 7: 0.1288423946069717, 8: 0.6438039700260181}, 812: {1: 0.3535029496277329, 2: 0.42517511665657004, 3: 0.8991701783667414, 5: 0.17872818493677356, 7: 0.6980366492609965, 8: 0.4898912166366848}, 13934: {1: 0.6015512249889919, 2: 0.8084259163451577, 3: 0.5600276457468124, 5: 0.053138368005636205, 7: 0.7552166324897777}, 8262: {0: 0.5206917668388076, 1: 0.9032982082863119, 2: 0.713716170079082, 3: 0.48907242362930836, 4: 0.6747444778548013, 7: 0.6388546553551422}, 8424: {0: 0.5472566837663378, 1: 0.4802762112774055, 2: 0.45358447270728897, 3: 0.9622236115318517, 7: 0.6388654908917194}, 8451: {0: 0.47759946202942816, 1: 0.859214642644661, 2: 0.8003015675245101, 7: 0.4013465460417682}, 8457: {0: 0.6806880752278199, 2: 0.3717633133899667, 7: 0.7911984862869561}, 10644: {0: 0.78756488222709, 2: 0.5401201275205475}, 10646: {2: 0.6867109660329453}, 81: {0: 0.5388891173521679, 1: 0.5650285940166819, 2: 0.5656449312706631, 3: 0.8419583171881568, 5: 0.7323829630689276, 6: 0.32183914232178107, 7: 0.663423200580094, 8: 0.6219697961455609}, 135: {0: 0.1845345593243808, 1: 0.8413160827633704, 2: 0.7934325594160566, 5: 0.7488461832592894, 6: 0.8432744309082145, 7: 0.8449299415944163, 8: 0.5587964914292181}, 2322: {0: 0.6310638621755538, 1: 0.4120408755284551, 2: 0.8181267619350622, 5: 0.27884280005840245, 6: 0.8460646181940576, 8: 0.34539330663323575}, 2808: {0: 0.5029828266787489, 1: 0.3037414069375034, 2: 0.11018796042105994, 6: 0.16545767976866577, 8: 0.755756572485314}, 9369: {0: 0.6161597882269662, 1: 0.4749105956504588, 2: 0.3105911126381025, 6: 0.5402541778287039}, 10827: {0: 0.46663718318562575, 1: 0.520719228142759, 2: 0.6190195597860144}, 10836: {0: 0.4331812752599312, 1: 0.191539398963401}, 10842: {0: 0.27208953896237986}, 27: {0: 0.5585163826967342, 1: 0.8262182212835921, 2: 0.8164182019787798, 4: 0.413283292254281, 5: 0.3579890487743012, 6: 0.5907808040662178, 7: 0.72566072905604, 8: 0.8281427571430691}, 13149: {0: 0.844169766025183, 1: 0.6927282192590236, 2: 0.18303659949584428, 4: 0.7777426066162868, 5: 0.32236534518030413, 6: 0.3941396558418761, 7: 0.48381738732422414}, 13150: {1: 0.3689104872414095, 2: 0.753400396961962, 4: 0.1713495656272027, 5: 0.658502040008771, 6: 0.586441690464819, 7: 0.8495340822545644}, 14608: {1: 0.4486073894150856, 2: 0.3787766423891924, 4: 0.028212970953002015, 5: 0.9553534363020397, 7: 0.53454087049267}, 14851: {1: 0.22075789104459598, 2: 0.7688017684303863, 4: 0.012879737089258936, 7: 0.3177692275209244}, 14869: {1: 0.965371267539401, 4: 0.12127798323379213, 7: 0.8167622131226624}, 14872: {4: 0.8152708407313501, 7: 0.8593262805735513}, 10206: {0: 0.7322235556946631, 1: 0.3480248859217647, 2: 0.13446084718788076, 3: 0.5633088483632065, 4: 0.3563237378453486, 5: 0.7912547865303194}, 10692: {0: 0.5951268592287359, 1: 0.5304418229860252, 2: 0.7671823924524811, 3: 0.8044281430185476, 4: 0.4664887344627754}, 10719: {0: 0.5016269775285338, 1: 0.2165958884610289, 2: 0.5145621484842223, 4: 0.7931670080125088}, 10881: {0: 0.8149625204337869, 1: 0.1913466082712536, 2: 0.4701012374906745}, 10882: {1: 0.7053110235517822, 2: 0.8113818014564788}, 12415: {3: 0.5212373418999745, 4: 0.8201077392606553, 5: 0.5288897522290658}, 12442: {4: 0.8856272736849506, 5: 0.6833407079073226}, 8100: {0: 0.5070961389487798, 1: 0.8154792961770907, 2: 0.18536173372916687, 3: 0.6110484549721032, 5: 0.725269511035021, 7: 0.8156822274420797}, 12474: {0: 0.18264186362470025, 1: 0.7986722228347766, 2: 0.48848919604205276, 3: 0.2549622957991177, 5: 0.24437182992843304}, 12477: {0: 0.677871780495429, 2: 0.9164763516052888, 3: 0.1267621956688172, 5: 0.3168327569749708}, 12495: {0: 0.7468603709189968, 3: 0.8672842968979882, 5: 0.9042794083456394}, 12738: {0: 0.8884521399465336, 3: 0.7874180389665705}, 12740: {3: 0.8668221847231836}, 3: {0: 0.4520496658950556, 2: 0.2010761029886201, 3: 0.14284604244491073, 4: 0.16075903736741848, 5: 0.841810044594576, 6: 0.35639959930867937, 7: 0.5765797592599748, 8: 0.7064408276122411}, 489: {0: 0.4355788930908243, 2: 0.8438522966049747, 3: 0.547571667689764, 4: 0.15659115345576508, 6: 0.6371448260844862, 7: 0.3940469971588368, 8: 0.5262913637681261}, 498: {0: 0.847459365719607, 3: 0.6158847181271855, 4: 0.7904317102143367, 6: 0.0026507674219733435, 7: 0.8486422549676719, 8: 0.8490814840840867}, 500: {3: 0.8582493610922692, 4: 0.158092496335002, 6: 0.7228298031161742, 7: 0.8371709199047974, 8: 0.22895748920583187}, 2687: {3: 0.568470260407088, 4: 0.7073529131475391, 6: 0.7169475264310144, 8: 0.7616620580265437}, 15809: {3: 0.8924310428699816, 4: 0.15379500579851113, 6: 0.5423792892024399}, 15836: {4: 0.45301040022694294, 6: 0.7115696896613001}, 17294: {4: 0.7707171194474463}, 6579: {0: 0.5379648131818835, 1: 0.4498910378476465, 3: 0.08463525200370725, 4: 0.04080522702459666, 5: 0.8046571681320812, 6: 0.6524193477879037, 7: 0.2403079683461792}, 6822: {0: 0.006494861246613359, 1: 0.8090072442396532, 3: 0.09815450045742957, 4: 0.0776970234844474, 6: 0.043353707142868236, 7: 0.6031166058287473}, 6828: {0: 0.5433825267580206, 3: 0.2533537159524518, 4: 0.7131720024269962, 6: 0.7434446046516814, 7: 0.4708519011138879}, 9015: {0: 0.7582221404960935, 3: 0.4830666728776548, 4: 0.6894803983738929, 6: 0.6701964089913718}, 33: {0: 0.8283952030893111, 2: 0.7093813109342326, 4: 0.19898896209993688, 5: 0.6891125213586395, 6: 0.7782394489145544, 7: 0.532856785825578, 8: 0.49399526099329255}, 762: {0: 0.6562811102804084, 2: 0.38528704974461614, 4: 0.08777474064014024, 5: 0.7123895061019903, 7: 0.3447301739689738, 8: 0.6883388770250236}, 13884: {0: 0.5513533471005193, 2: 0.13026707629837242, 4: 0.6381986824280886, 5: 0.6810946941780479, 7: 0.4762907949711506}, 14127: {0: 0.691043063491522, 2: 0.03620445999280841, 4: 0.3363998565599632, 7: 0.7838506349424478}, 18501: {0: 0.8937051970280216, 2: 0.35475833187800454, 4: 0.4246439322450105}, 8268: {0: 0.39819016330706547, 2: 0.3135368071432937, 3: 0.8794382772032809, 4: 0.3185156250331238, 7: 0.5557130007009156}, 8269: {2: 0.9479830973869626, 3: 0.5971456778921254, 4: 0.1933073484667842, 7: 0.2956813677996614}, 8287: {3: 0.2593859904204996, 4: 0.16006863608354294, 7: 0.12322995592803887}, 8506: {1: 0.6677202789964863, 2: 0.07330107825544674, 3: 0.10853657709290043, 4: 0.5178919678261099, 7: 0.8674816436382163}, 10693: {1: 0.9043886785869116, 2: 0.8541462089479356, 3: 0.31606563046452085, 4: 0.3923179787748277}, 10699: {2: 0.8712754634854285, 3: 0.22148910497672525, 4: 0.28734909540611064}, 10708: {3: 0.6331729659203946, 4: 0.6645836947056141}, 10870: {3: 0.5897587012403843}, 8182: {1: 0.33013235649932327, 2: 0.8497646084043532, 3: 0.27621509791071863, 5: 0.7902184743772231, 7: 0.627783250619926}, 8191: {1: 0.765943017559484, 3: 0.2765232088415185, 5: 0.28801887739475185, 7: 0.3358717235422256}, 8197: {3: 0.2828799069229855, 5: 0.897442397355406, 7: 0.9295886586668256}, 10384: {3: 0.12780811257991143, 5: 0.7454405277680365}, 1485: {0: 0.24275931642581117, 1: 0.13875454593141512, 2: 0.5598659203135883, 4: 0.21161643632896643, 5: 0.14487289018941862, 7: 0.731494125795094, 8: 0.8165410502505605}, 12420: {0: 0.3147104777381111, 1: 0.7706604352905762, 2: 0.7462221529222289, 4: 0.7748473057065508, 5: 0.6682193601340571}, 12423: {0: 0.3308778691487555, 2: 0.7638032264760495, 4: 0.28833656218046577, 5: 0.7466970404065187}, 12909: {0: 0.7383552620495071, 2: 0.22348716815063505, 4: 0.13799448676783826}, 12990: {0: 0.45607517055604535, 2: 0.5996486623831254}, 13008: {0: 0.3385448492268327}, 6723: {0: 0.05185079280225735, 1: 0.8587625701681094, 2: 0.20321440989999895, 3: 0.06025211113062279, 5: 0.1870219654351022, 6: 0.771663244475601, 7: 0.14370973189182212}, 6726: {0: 0.8146065758351783, 2: 0.45006659644274216, 3: 0.869692658732934, 5: 0.029124541754351974, 6: 0.2536035327548509, 7: 0.7477337925757939}, 6780: {0: 0.8968408790048688, 2: 0.45629419420762096, 5: 0.048303508221629654, 6: 0.34855653672910303, 7: 0.280158328324799}, 7509: {0: 0.4997790592654604, 2: 0.7637957827071983, 5: 0.3855807185469081, 7: 0.7635967283841116}, 7527: {0: 0.34599282819747157, 5: 0.9106299652756877, 7: 0.16230579925738622}, 7770: {0: 0.24508852668159364, 7: 0.1981669507540243}, 7772: {7: 0.3404656998979683}, 10935: {0: 0.3414818554750092, 1: 0.7270335098896318, 2: 0.2237353341823784, 3: 0.9301681861855134, 4: 0.9319398102020054, 5: 0.8508431441446697, 6: 0.3388593592603565}, 10962: {0: 0.11694348493163198, 1: 0.154203733912462, 2: 0.5515953963633201, 4: 0.8541579755424976, 5: 0.47021971206128077, 6: 0.3718113514807685}, 10964: {1: 0.3962353168818894, 2: 0.3426264501418471, 4: 0.2815639489872893, 5: 0.33620739653779774, 6: 0.11683416358534221}, 10967: {2: 0.9963697677626475, 4: 0.609505688292551, 5: 0.6739129067642776, 6: 0.9062101194846299}, 10985: {4: 0.5793250283353155, 5: 0.2958670278990052, 6: 0.4308753745098909}, 11066: {5: 0.19928467581254328, 6: 0.3390613068399293}, 12524: {5: 0.8876552246053893}, 8750: {1: 0.5995666229920231, 2: 0.00037109351756925424, 3: 0.4470145804928518, 4: 0.4080903426903456, 5: 0.06596899266352418, 6: 0.44925650261420175}, 8756: {2: 0.24098412384069146, 3: 0.6754130402320897, 4: 0.978919844579304, 5: 0.5279209507935937, 6: 0.43612236697386203}, 8837: {2: 0.9358897337422722, 3: 0.18119993837283488, 5: 0.6417915236871045, 6: 0.425765057096816}, 10295: {2: 0.7716821405946442, 3: 0.716326448536233, 5: 0.6672738969258722}, 10304: {3: 0.07683587395183707, 5: 0.5301917252717847}, 10790: {3: 0.22464474077477553}, 8554: {4: 0.5102293423887128, 7: 0.02795435661604384}, 8295: {0: 0.10145773294900351, 2: 0.34560274323731477, 4: 0.6884561620762424, 7: 0.7559453462914507}, 12669: {0: 0.15052572665528297, 2: 0.2937171302557454, 4: 0.5964861323835207}, 6567: {0: 0.9308898364051966, 2: 0.39491730602600283, 3: 0.883360707567854, 4: 0.669115467951215, 5: 0.47412178091704504, 6: 0.4445933862914764, 7: 0.3426089304734273}, 6568: {2: 0.9146503675161005, 3: 0.30014997192239135, 4: 0.32612836181396887, 5: 0.5779516614349118, 6: 0.7274943435774635, 7: 0.3686078244815923}, 6586: {3: 0.17268285082846224, 4: 0.8516294118094778, 5: 0.06875825792550638, 6: 0.6518585132133622, 7: 0.6313793286140904}, 9: {0: 0.8367946608699928, 1: 0.20609985055658298, 3: 0.22444610887317096, 4: 0.46811535584785274, 5: 0.7005271289702105, 6: 0.3643834881808913, 7: 0.6393112076555169, 8: 0.4695832561346279}, 11: {1: 0.6949609645859864, 3: 0.6147285569377744, 4: 0.41722600040544655, 5: 0.5929028370842278, 6: 0.8340967541121539, 7: 0.3296761702596807, 8: 0.8167225790074535}, 2198: {1: 0.04416857391331197, 3: 0.021424275353818745, 4: 0.26358402851454577, 5: 0.4065863584150543, 6: 0.5811102585087324, 8: 0.7353157274774746}, 15320: {1: 0.47184297736435976, 3: 0.0030878486400338634, 4: 0.6961874477320029, 5: 0.34070640269810704, 6: 0.39566679886985084}, 15401: {1: 0.9463370121232563, 3: 0.6210020071853111, 5: 0.37175419713907487, 6: 0.9275604941435153}, 15407: {3: 0.15286720722145353, 5: 0.5107226942181062, 6: 0.7485851164568549}, 12394: {1: 0.9005070797322478, 2: 0.4947706377814082, 3: 0.5300675918701727, 4: 0.18424271686678118, 5: 0.3301634118915513}, 12397: {2: 0.3583699532838791, 3: 0.09058121178211354, 4: 0.7339297585592258, 5: 0.7322294928201778}, 12883: {2: 0.3223487003167361, 3: 0.3713215768230086, 4: 0.5688066706991414}, 8095: {4: 0.02196769751829364, 5: 0.43735104745139686, 7: 0.7334659386305131}, 10282: {4: 0.5637958985869789, 5: 0.15578035391126344}, 6781: {2: 0.5026991114179193, 5: 0.38406219910804135, 6: 0.9124756784607998, 7: 0.5602248111378839}, 8239: {2: 0.7276914072990167, 5: 0.9732924308071554, 7: 0.8474581133102174}, 8482: {2: 0.6029459188344015, 7: 0.9657337433620421}, 12856: {2: 0.9119750476994081}, 12501: {0: 0.16364622012863084, 1: 0.20285785326625397, 2: 0.2555656489325392, 5: 0.7978401668946313}, 12987: {0: 0.8339848315582232, 1: 0.22794728198644243, 2: 0.7695024420188094}, 12996: {0: 0.39559178468202727, 1: 0.18715517763727907}, 13002: {0: 0.8655592763192181}, 8224: {5: 0.9904074760091017, 7: 0.4858825587834465}, 8710: {7: 0.3428589486240313}, 2340: {0: 0.6622685816308669, 1: 0.23751952816060273, 5: 0.4188870330661978, 6: 0.6994610139893288, 8: 0.5021832547120922}, 2341: {1: 0.1902664836460981, 5: 0.1138273249783629, 6: 0.5074309605942637, 8: 0.1556535865624037}, 3799: {1: 0.7198585242488325, 5: 0.2311347829071999, 8: 0.8400217199854808}, 138: {0: 0.5124855806220647, 2: 0.8269035759721277, 5: 0.8057058585507945, 6: 0.21764599409254065, 7: 0.7653056670492293, 8: 0.6846584928020633}, 156: {0: 0.17960317705220996, 5: 0.14521314296764887, 6: 0.3094587433652588, 7: 0.8280869335187334, 8: 0.1675479322310948}, 8028: {0: 0.7158522732767137, 1: 0.7300840684845462, 3: 0.6009006209619435, 4: 0.09209794549213512, 5: 0.4702286118300628, 7: 0.6969738525938262}, 8034: {0: 0.03589798970857605, 3: 0.6295775795685282, 4: 0.08098528784843695, 5: 0.7484192867170154, 7: 0.252947836661516}, 9371: {1: 0.2850841032602759, 2: 0.22480024165332985, 6: 0.6179631549963929}, 4872: {0: 0.8513816717498928, 3: 0.5324221408835451, 4: 0.11391039306928319, 6: 0.1229091171357366, 8: 0.4973956531572738}, 4953: {0: 0.7281091706812983, 3: 0.4882519887758243, 6: 0.8458625295328086, 8: 0.7794148461684424}, 6411: {0: 0.8699102359620741, 3: 0.49535604727037585, 8: 0.5088542180454456}, 34: {2: 0.36428772826625366, 4: 0.8310609176291031, 5: 0.8142577729568127, 6: 0.7714871135193597, 7: 0.832478239862559, 8: 0.6678882187516518}, 196: {2: 0.03071413949704449, 5: 0.7977173155119354, 6: 0.802014237625306, 7: 0.10615487769132848, 8: 0.63405709896889}, 439: {2: 0.2934153057090315, 6: 0.822614441656943, 7: 0.4174545451694209, 8: 0.5520113960030654}, 1897: {2: 0.8648540718508374, 7: 0.2126466354718077, 8: 0.8766969375935729}, 8458: {2: 0.7256794497181687, 7: 0.862266508089929}, 4899: {0: 0.7150489595357771, 4: 0.666617726657821, 6: 0.8972206189271309, 8: 0.9688034773361589}, 18021: {0: 0.2731796371471765, 4: 0.8522856475805071, 6: 0.09259199128231432}, 18102: {0: 0.6474110141029693, 6: 0.4447874973854445}, 18104: {6: 0.8962299934859258}, 10944: {0: 0.20539097934762918, 1: 0.9037955849014612, 3: 0.26963925415393863, 4: 0.3968406350528141, 5: 0.7447780401117118, 6: 0.5645558038301867}, 10950: {0: 0.0028322782809374614, 3: 0.4819884488746179, 4: 0.3754920652690926, 5: 0.010773280205674807, 6: 0.46857112646781024}, 10977: {0: 0.2138917250374236, 4: 0.2569126116093382, 5: 0.5186818636647048, 6: 0.4643908041689656}, 11463: {0: 0.40456912670394496, 4: 0.7435695647290421, 6: 0.6210443889512229}, 11544: {0: 0.12286561658436734, 6: 0.848562260339878}, 8022: {0: 0.4761422953475385, 2: 0.062465549468078585, 3: 0.1362134368276431, 4: 0.4317504691791487, 5: 0.7484906441465884, 7: 0.28381057904695306}, 8508: {0: 0.438024791101172, 2: 0.7727909317245671, 3: 0.7767545900502052, 4: 0.32523969638001926, 7: 0.5196489516870979}, 8517: {0: 0.48456257065995745, 3: 0.3197108750739943, 4: 0.13264722810891466, 7: 0.31151497524803723}, 8519: {3: 0.7325155792459428, 4: 0.8607984883182352, 7: 0.43505088237202383}, 10706: {3: 0.37577057356094057, 4: 0.21432666039735881}, 12910: {2: 0.8418188119587872, 4: 0.5022775537235691}, 12928: {4: 0.8573433127795745}, 12998: {1: 0.7020753555863359}, 734: {2: 0.5730230136054213, 3: 0.7959423468994717, 4: 0.7515612365192129, 5: 0.10833277564980615, 7: 0.6582569435686431, 8: 0.48148237901492164}, 896: {2: 0.3215488363834508, 3: 0.3374839155467577, 5: 0.2833453196846427, 7: 0.5261246131074504, 8: 0.3400170443113054}, 3083: {2: 0.11664067896309138, 3: 0.5961364991055944, 5: 0.8554419013315514, 8: 0.627704516128968}, 3569: {2: 0.042515616612023965, 3: 0.8851565053857696, 8: 0.4208149297234296}, 3596: {2: 0.8816818645534812, 8: 0.794116131359139}, 3614: {8: 0.6730532171485218}, 12594: {0: 0.06267813634342184, 5: 0.7863031568787267}, 13080: {0: 0.21170515257429945}, 11124: {0: 0.1097080614877054, 1: 0.0580856131541484, 2: 0.5738658779580982, 5: 0.8286163805257901, 6: 0.8599643595875633}, 11853: {0: 0.05846186104209583, 1: 0.4966777770040073, 2: 0.21656424389509477, 5: 0.2535377400100082}, 12421: {1: 0.8703620322473671, 2: 0.13187069476375324, 4: 0.28984235354921495, 5: 0.8778046170960103}, 12907: {1: 0.4989196837530886, 2: 0.6475645959141187, 4: 0.27614085269037103}, 12425: {2: 0.46257030439832125, 4: 0.8069842743210393, 5: 0.31951065859353217}, 12434: {4: 0.3096610548489438, 5: 0.8665624800515855}, 12920: {4: 0.38601960730020124}, 12441: {0: 0.7511009447020598, 4: 0.6409853371290093, 5: 0.7934073694417244}, 12507: {0: 0.5010205334504799, 2: 0.3558441971664089, 5: 0.4579517820793499}, 12516: {0: 0.07821918823314655, 5: 0.5273495851741093}, 12663: {0: 0.5269203391195345, 1: 0.810445134619075, 2: 0.009240751219298349, 4: 0.8326297263093198}, 12429: {0: 0.8691273247700024, 1: 0.31675110179125787, 4: 0.39755153027246315, 5: 0.9543601601064496}, 12915: {0: 0.9268872681599962, 1: 0.7612865119414236, 4: 0.8864150129144884}, 12916: {1: 0.12100558786671434, 4: 0.33843684198037366}, 13078: {1: 0.2852036601773649}, 740: {1: 0.8290889002707551, 3: 0.4554410729874086, 4: 0.38717014319643384, 5: 0.2970698833166836, 7: 0.35473103785764065, 8: 0.44366474339373435}, 746: {3: 0.5356204509110792, 4: 0.8326879539756284, 5: 0.8096426898629393, 7: 0.10170462690362925, 8: 0.5083965808966642}, 989: {3: 0.7430017862236327, 4: 0.050851032155462716, 7: 0.7418828390148605, 8: 0.6067173715579883}, 5363: {3: 0.3243844742304699, 4: 0.28358510391576797, 8: 0.6752690211321284}, 11178: {0: 0.9335586668686222, 1: 0.6844441673382697, 2: 0.024070990506876777, 3: 0.9109177850869787, 4: 0.43349358761529855, 6: 0.6998033592199325}, 11180: {1: 0.5440540675305067, 2: 0.36507771510823206, 3: 0.6411609754546416, 4: 0.41855226595392725, 6: 0.8543472566365082}, 11909: {1: 0.14869198123601857, 2: 0.12518151702427405, 3: 0.23616155521823623, 4: 0.7182593725844704}, 11963: {1: 0.6614112358177956, 2: 0.0001885597828943375, 4: 0.4831284480811624}, 11966: {2: 0.6499986179039071, 4: 0.04524801286239189}, 11984: {4: 0.22045941303908703}, 6799: {5: 0.65229903045484, 6: 0.5303514666608976, 7: 0.29644779627264234}, 7042: {6: 0.6814385560195109, 7: 0.5025944437407487}, 8219: {1: 0.4685237530429529, 5: 0.15399970186265582, 7: 0.6987194246335577}, 10406: {1: 0.6255457991783403, 5: 0.7484836810090937}, 10892: {1: 0.3840023734740491}, 12684: {0: 0.6874614286242431, 4: 0.8249122620442773}, 12686: {4: 0.43684461097332716}, 12427: {2: 0.24581990466845172, 4: 0.6209519154307513, 5: 0.7692309896518882}, 12670: {2: 0.4970622551407792, 4: 0.8986394972839532}, 12585: {0: 0.13183096172347197, 2: 0.7914007637379095, 5: 0.11745937324661582}, 495: {0: 0.09629313281461716, 1: 0.5933497325727457, 3: 0.8110964294454185, 4: 0.7600666329175845, 6: 0.3591739100376098, 7: 0.510157887669033, 8: 0.382636335948978}, 522: {0: 0.4154676346545395, 1: 0.2702716304697681, 4: 0.3827259402868708, 6: 0.11786867799289436, 7: 0.6552601382579201, 8: 0.28840281343814084}, 4896: {0: 0.6155387785176738, 1: 0.5660166492302299, 4: 0.7110670558941148, 6: 0.2774703673169152, 8: 0.6506633140405441}, 4977: {0: 0.7614740035383667, 1: 0.2722688364787347, 6: 0.4962177909845982, 8: 0.6579115984040346}, 4979: {1: 0.7942985337466657, 6: 0.41264560142684925, 8: 0.7683600274915614}, 11540: {1: 0.1413030371267635, 6: 0.08635756749462546}, 11546: {6: 0.5508745209771719}, 8024: {2: 0.09651975157541104, 3: 0.3422978937129335, 4: 0.8300040973252893, 5: 0.45804853893243613, 7: 0.08159413760442154}, 8105: {2: 0.4712506837003576, 3: 0.48655910149190973, 5: 0.6459862254981437, 7: 0.560013619311499}, 8591: {2: 0.9292985884286845, 3: 0.12016125717921555, 7: 0.7696313143544957}, 8600: {3: 0.6925032438187838, 7: 0.2966921796430638}, 8154: {0: 0.041326122548121846, 1: 0.1196570745938006, 2: 0.08737204396224452, 5: 0.6510363826564061, 7: 0.9634371238134507}, 10341: {0: 0.38620197868532247, 1: 0.2037323391271717, 2: 0.7477971934103048, 5: 0.8030008685560565}, 12519: {0: 0.5998762997408117, 1: 0.9345487134580305, 5: 0.11103391277992801}, 12522: {0: 0.30610748958955164, 5: 0.13850739004898494}, 12891: {0: 0.7866096027265146, 3: 0.4634777298016708, 4: 0.7393593559833337}, 12972: {0: 0.2681061313360344, 3: 0.25138059649917416}, 12974: {3: 0.20642286085421085}, 8535: {0: 0.7238936413065441, 2: 0.4574983329235627, 4: 0.18066185652190458, 7: 0.6168352327155143}, 8537: {2: 0.7519543375463382, 4: 0.3913777364822502, 7: 0.4253586818442007}, 8546: {4: 0.6923862936306986, 7: 0.11848656726827879}, 8708: {7: 0.7239467505135524}, 3143: {1: 0.23748900974285303, 5: 0.8516343639264768, 8: 0.938973366032857}, 8532: {0: 0.39174429567654745, 1: 0.743716192214829, 2: 0.5360837547108047, 4: 0.2951770267345125, 7: 0.8810980878649554}, 10721: {1: 0.4706384310222063, 2: 0.16972282176756023, 4: 0.5039130721211241}, 10730: {1: 0.37227394636576366, 4: 0.30139588648888294}, 10736: {4: 0.3014361658021543}, 12658: {3: 0.5561344489027051, 4: 0.20244997655786542}, 12712: {4: 0.3599879260660496}, 136: {1: 0.07568266425066128, 2: 0.042882355771573955, 5: 0.5925581029492617, 6: 0.13842828248184536, 7: 0.11887059264532884, 8: 0.4259934365205521}, 622: {1: 0.8754924048532888, 2: 0.10001534398361367, 6: 0.035761679627902665, 7: 0.8689148954215363, 8: 0.14798290790464821}, 625: {2: 0.1496186917767941, 6: 0.21394984557992858, 7: 0.2505029860452077, 8: 0.030258002262758654}, 13747: {2: 0.6348689656901307, 6: 0.272842528956589, 7: 0.21706658960387115}, 8048: {1: 0.3052302203013897, 2: 0.6398692027677128, 4: 0.9123545428673878, 5: 0.8495206898204304, 7: 0.36223606296769184}, 8129: {1: 0.5901637396409452, 2: 0.1819460144180336, 5: 0.1780405100307176, 7: 0.6415792331635674}, 12503: {1: 0.6646720286523277, 2: 0.7683187671797445, 5: 0.2825268723555696}, 12512: {1: 0.9935683040820924, 5: 0.455148571780658}, 8618: {2: 0.5889046713991487, 7: 0.4110503212017888}, 8636: {7: 0.10945166312889129}, 905: {3: 0.5757124116459307, 5: 0.16134208521385163, 7: 0.04695709498335654, 8: 0.24726043529606967}, 959: {5: 0.4679346626601234, 7: 0.6589960601754109, 8: 0.1895356872978277}, 3146: {5: 0.0684717525064178, 8: 0.9530001531106969}, 5108: {2: 0.2578369962448197, 3: 0.3384446445188045, 4: 0.5033167043100796, 5: 0.3479882265058595, 8: 0.22287398464925273}, 5189: {2: 0.31490493860154, 3: 0.3958953045116258, 5: 0.8266506944563521, 8: 0.6851317059933926}, 5207: {3: 0.7802290385600366, 5: 0.7390323058930606, 8: 0.2696132931823008}, 5234: {5: 0.8028773804111161, 8: 0.17739135745820195}, 5720: {8: 0.8505811000160662}, 6615: {0: 0.7460847684808856, 1: 0.01778377285108146, 2: 0.9391542601127926, 4: 0.06535732807195116, 5: 0.29031409761620186, 6: 0.4447450396012834, 7: 0.6007983636662896}, 6624: {0: 0.048471224437380944, 1: 0.41921540026774584, 4: 0.23919942934374816, 5: 0.9658775120018905, 6: 0.9579653765647557, 7: 0.24374115200886148}, 7110: {0: 0.8664865569370748, 1: 0.3442790763724781, 4: 0.9041222467422827, 6: 0.3869220590559219, 7: 0.13769617773558465}, 7191: {0: 0.8421914908437187, 1: 0.9111641467854221, 6: 0.61794048085785, 7: 0.2767123848861866}, 7197: {0: 0.4831221063165278, 6: 0.16054153263652515, 7: 0.2534427154730522}, 12071: {1: 0.42681376816154826, 2: 0.8983959423961404, 3: 0.7852689987148399}, 4084: {2: 0.5413372830186283, 8: 0.8704290824685895}, 17206: {2: 0.833803366383581}, 8074: {1: 0.5859149786389842, 2: 0.25004616658150924, 4: 0.32431763572012473, 5: 0.5503202752999113, 7: 0.3706948629820893}, 8317: {1: 0.21421983231814123, 2: 0.3220194829793216, 4: 0.6456166983734475, 7: 0.8994760110506849}, 12691: {1: 0.3436798150382714, 2: 0.8144911990436575, 4: 0.4883109886336582}, 13561: {2: 0.11743927456548409, 6: 0.37598214740428076, 7: 0.511952295121882}, 15748: {2: 0.23293891391477312, 6: 0.6258902418268476}, 8082: {0: 0.8454741465405885, 1: 0.5455403863441075, 4: 0.5373140175595436, 5: 0.6826712319810517, 7: 0.9060061350071045}, 8083: {1: 0.07148257673380976, 4: 0.92614661709806, 5: 0.3478166402344328, 7: 0.4397433311946865}, 8245: {1: 0.09072073547728121, 5: 0.7274093906668653, 7: 0.3480016446078935}, 8589: {0: 0.8805689524618732, 2: 0.8155153581894767, 3: 0.906000017043049, 7: 0.13001139763217295}, 12963: {0: 0.6546164759079974, 2: 0.7016768552760192, 3: 0.7859038162521489}, 19: {1: 0.04339840173302412, 3: 0.08642578911059662, 4: 0.7362897691543167, 5: 0.7539099765056897, 6: 0.0042152952915640585, 7: 0.7777694888673905, 8: 0.8186847763477357}, 6580: {1: 0.753122959606697, 3: 0.8511117385219324, 4: 0.8038901768027736, 5: 0.41553678060489563, 6: 0.6577121093155806, 7: 0.28886018629252186}, 6634: {1: 0.8865677178732685, 4: 0.2417024141243692, 5: 0.6126525835027578, 6: 0.06257778036957184, 7: 0.42299513878048745}, 6877: {1: 0.4478503439554019, 4: 0.09133220587162172, 6: 0.9617260891457624, 7: 0.7476670972223045}, 8335: {1: 0.43501400057299877, 4: 0.14726841816430714, 7: 0.44899289004848475}, 10522: {1: 0.36149783966577864, 4: 0.9672889770458059}, 6909: {0: 0.1458028156066734, 3: 0.20722474899966314, 6: 0.0866898411747769, 7: 0.32683856793956345}, 11283: {0: 0.06778681351969829, 3: 0.16536535160268032, 6: 0.5744591690949898}, 12012: {0: 0.8076824198110595, 3: 0.020098279876520575}, 10747: {1: 0.30766326318077075, 2: 0.8151676664678997, 4: 0.5837542754260404}, 10756: {1: 0.7574146024274236, 4: 0.21400483885363594}, 10762: {4: 0.25893272178944365}, 6637: {4: 0.8823048944685129, 5: 0.9164946975647876, 6: 0.3446756444024604, 7: 0.15736969787081984}, 7123: {4: 0.8945337170872273, 6: 0.5843722927814464, 7: 0.267173083199383}, 7852: {4: 0.40233576030137436, 7: 0.011387896349282944}, 5364: {0: 0.6948220053190851, 1: 0.9917086595401611, 3: 0.900971312370698, 4: 0.7271941747654821, 8: 0.3871426069247399}, 5367: {0: 0.49444867299969153, 3: 0.8744884835006725, 4: 0.7685570748900682, 8: 0.7446231866278071}, 5421: {0: 0.40317640857819736, 4: 0.5531289645318583, 8: 0.08875513994523672}, 5422: {4: 0.36725781055742024, 8: 0.5663294204020806}, 18544: {4: 0.6547228483805022}, 10768: {4: 0.17232038466172733}, 12069: {0: 0.48169250300187083, 1: 0.9574448823088133, 2: 0.5249518146881172, 3: 0.9406484206755995}, 10474: {3: 0.2821248044321675, 4: 0.666790305077592}, 8077: {2: 0.6359262194671911, 4: 0.654931354142973, 5: 0.7404409362883538, 7: 0.5222030509597387}, 6572: {1: 0.21069343053068534, 3: 0.6509075520731659, 4: 0.5467204037794845, 5: 0.74082246481021, 6: 0.7201217993479675, 7: 0.3150744992297317}, 8030: {1: 0.3396386931947417, 3: 0.6163973793934399, 4: 0.19302108848278887, 5: 0.13888608370680644, 7: 0.34728978363101204}, 8057: {1: 0.061267338232212976, 4: 0.2916828169391482, 5: 0.7993366494889333, 7: 0.3946079115739549}, 8543: {1: 0.15105210462693403, 4: 0.9213979215381178, 7: 0.32771663863659767}, 8076: {0: 0.21719893695419923, 2: 0.29486828402012544, 4: 0.015699452745620346, 5: 0.3197355102185917, 7: 0.28622933088047403}, 8319: {0: 0.6625018830475965, 2: 0.21108559182550657, 4: 0.04092257970413471, 7: 0.23114293873239888}, 10261: {1: 0.030744740643364854, 2: 0.939744903114466, 4: 0.254366103581674, 5: 0.22482202875254897}, 10279: {1: 0.5086363862314525, 4: 0.887295234842671, 5: 0.1301077657490599}, 8118: {0: 0.4647318897993028, 1: 0.6510903409609273, 3: 0.7081249045177411, 5: 0.645623237634876, 7: 0.5638147173688689}, 8145: {0: 0.2233080879865169, 1: 0.8925414691245344, 5: 0.741323259399675, 7: 0.3351301523175395}, 8151: {0: 0.3467190827783807, 5: 0.42862483942512924, 7: 0.9668652847153403}, 10338: {0: 0.9216465418079026, 5: 0.9207534058480416}, 10824: {0: 0.9090317081529244}, 10938: {0: 0.9496487071710563, 2: 0.6160513302080626, 3: 0.6136620350748728, 4: 0.014804124927551787, 5: 0.7697180165251036, 6: 0.7873355091205493}, 10940: {2: 0.20422331269200444, 3: 0.5150563068156637, 4: 0.9627796034004941, 5: 0.6600911724219738, 6: 0.46606422029930505}, 11039: {3: 0.06722441600905471, 5: 0.7422599530136973, 6: 0.6100323406394581}, 11282: {3: 0.9808401230999866, 6: 0.8582768007186463}, 11336: {6: 0.8924475879666778}, 12559: {2: 0.8330358724759442, 3: 0.5132270469007656, 5: 0.5035612492019613}, 10701: {0: 0.26244667972715896, 1: 0.540793721463403, 3: 0.3444299767739113, 4: 0.25271574398063573}, 10707: {0: 0.9022376216200924, 3: 0.26523738263026275, 4: 0.9599560930762936}, 10788: {0: 0.13660862222094375, 3: 0.11658843490320991}, 907: {3: 0.6113674321103034, 5: 0.5018347892104869, 7: 0.8935329157419112, 8: 0.3805448979034344}, 55: {1: 0.6775235530974488, 2: 0.12126210831810535, 4: 0.39357548707207757, 5: 0.7985724775349138, 6: 0.4909933815892653, 7: 0.8222838839246719, 8: 0.5429420502760003}, 2242: {1: 0.6469401543018907, 2: 0.05427048947242452, 4: 0.8570256262215092, 5: 0.5547165516775675, 6: 0.369587370433036, 8: 0.6946107605167736}, 2404: {1: 0.3254243792677848, 2: 0.4186116765978324, 5: 0.8941723472985893, 6: 0.5818041117826956, 8: 0.5816829798601764}, 2647: {1: 0.7138312539986447, 2: 0.4443921705420565, 6: 0.2142167512813421, 8: 0.4688483192203183}, 2653: {2: 0.4067515276944884, 6: 0.5403161574164888, 8: 0.5027858183407362}, 3382: {2: 0.26379493357540695, 8: 0.3442370106179343}, 16504: {2: 0.48056218211291685}, 171: {0: 0.6407103035705776, 1: 0.7789604151514516, 3: 0.3471225839979224, 5: 0.016810752835910825, 6: 0.18055558023062945, 7: 0.06040608791007662, 8: 0.2642117222751806}, 174: {0: 0.014109077399689807, 3: 0.06324847101622932, 5: 0.5344349418191822, 6: 0.305868194194565, 7: 0.018311658518850527, 8: 0.2214376336019368}, 660: {0: 0.08361533749010674, 3: 0.3161787413949202, 6: 0.17203600047682288, 7: 0.2072824250660578, 8: 0.35558670526206737}, 687: {0: 0.10746920063853238, 6: 0.8523419995721357, 7: 0.9625883708060904, 8: 0.30072876327642}, 5061: {0: 0.25270645428973837, 6: 0.6345087444601644, 8: 0.9379560105335292}, 11622: {0: 0.7985600915570674, 6: 0.5288384105771058}, 11624: {6: 0.7758579080381904}, 8316: {0: 0.8484809008666089, 1: 0.04428724508554416, 2: 0.9486360836052808, 4: 0.012779227516980018, 7: 0.15926412366721598}, 245: {1: 0.3708191430390504, 2: 0.8912890119129163, 3: 0.718535565808879, 4: 0.7418348646638491, 6: 0.5528614092423062, 7: 0.24154464150574628, 8: 0.6933069164246187}, 254: {1: 0.8307250381791556, 3: 0.5559509157801112, 4: 0.3633593755185097, 6: 0.03297887320938819, 7: 0.5598781968907215, 8: 0.5456245933891339}, 260: {3: 0.34591023615721805, 4: 0.9401390524370912, 6: 0.03299907145841374, 7: 0.933796179637263, 8: 0.7871709911668594}, 341: {3: 0.5809676151164334, 6: 0.1378947871005175, 7: 0.8866780461575244, 8: 0.8178787718902978}, 4715: {3: 0.26762444201435454, 6: 0.39579541946472185, 8: 0.6482923139405978}, 10773: {0: 0.1522943535707097, 1: 0.8696614021191219, 2: 0.012828129886597428, 3: 0.8598873426544128}, 10791: {0: 0.6132674997430179, 1: 0.9414707271432623, 3: 0.9874350264217693}, 10818: {0: 0.45084052253778006, 1: 0.8522027112064552}, 10888: {2: 0.6093756860321479}, 5: {2: 0.2323665992121079, 3: 0.7648061770214767, 4: 0.15969643055930105, 5: 0.6180149750460723, 6: 0.5204591169211313, 7: 0.7109900677575153, 8: 0.27329626891583375}, 32: {2: 0.17062934344937364, 4: 0.03659855687988256, 5: 0.4806527489716347, 6: 0.9620079634689054, 7: 0.7526504290734016, 8: 0.6666977567082288}, 1490: {2: 0.5418258517218685, 4: 0.5622692166054937, 5: 0.2823551772704337, 7: 0.9313038063373312, 8: 0.7956667658595069}, 3677: {2: 0.8841353879170086, 4: 0.7586976332924293, 5: 0.2857476287433256, 8: 0.8675457766375035}, 4163: {2: 0.6593182994939267, 4: 0.8196440956772532, 8: 0.6701634581600252}, 6622: {2: 0.6890205427713121, 4: 0.4869117363509238, 5: 0.11069676365849557, 6: 0.5636128202539185, 7: 0.9441375737831385}, 8809: {2: 0.5452337825694503, 4: 0.37228311030850236, 5: 0.6956192113719073, 6: 0.8320418037975721}, 10267: {2: 0.5613741755444552, 4: 0.20350043217990968, 5: 0.6904028277923315}, 10510: {2: 0.813093922119623, 4: 0.4100511279984475}, 10528: {4: 0.9493191068253167}, 10725: {0: 0.1855797759521346, 2: 0.3598163867931965, 4: 0.7359307873219543}, 10806: {0: 0.11233637386484552, 2: 0.5594501647918035}, 29: {1: 0.27160091650890017, 2: 0.7206281870991181, 4: 0.026306943288715856, 5: 0.8478702232496117, 6: 0.3534780785590511, 7: 0.7545797814625645, 8: 0.8678799574475144}, 272: {1: 0.40524359863848025, 2: 0.09711888820165737, 4: 0.5030057664953356, 6: 0.3609031072560863, 7: 0.19811097745993322, 8: 0.5929388346926716}, 434: {1: 0.9445251378762715, 2: 0.9186105288622983, 6: 0.6749588134400671, 7: 0.9231009234257602, 8: 0.6919350493919691}, 443: {1: 0.8461135294080913, 6: 0.4998102943095647, 7: 0.2025217028661862, 8: 0.3663795966673561}, 449: {6: 0.9274438300254483, 7: 0.4677280200000724, 8: 0.5480293958017245}, 1178: {7: 0.017396759450268973, 8: 0.5562848807713817}, 11016: {0: 0.500892358177274, 1: 0.15607591534555387, 2: 0.547019479481401, 3: 0.21917652656698705, 5: 0.5551229877312356, 6: 0.6778803367832776}, 8533: {1: 0.2485464349895058, 2: 0.3960322677543716, 4: 0.8650029312648433, 7: 0.5144673234880613}, 10208: {1: 0.30740260431015587, 2: 0.26423851976599444, 3: 0.851327314889182, 4: 0.06685988552521338, 5: 0.36426106682694154}, 10235: {1: 0.5830336667794036, 2: 0.1967058089976802, 4: 0.3849003173767107, 5: 0.7817477190924701}, 10802: {1: 0.5907385137542374, 2: 0.1682730688059971}, 10808: {2: 0.666128555497815}, 10724: {2: 0.19009481465167405, 4: 0.6999146757624297}, 10886: {2: 0.4900940980309326}, 866: {1: 0.33080126695269707, 2: 0.6245046022609837, 5: 0.745662065103842, 7: 0.3198340961549955, 8: 0.45541423818467125}, 1109: {1: 0.7660760232434674, 2: 0.5487549593662662, 7: 0.12909704452980597, 8: 0.12507343402976678}, 1115: {2: 0.8796524667892337, 7: 0.09896613429762399, 8: 0.8880394365436622}, 7676: {2: 0.5632052984549404, 7: 0.32602412178851614}, 10979: {4: 0.6354014602042933, 5: 0.8922368466363005, 6: 0.0013665102910418447}, 262: {1: 0.7094773767482138, 3: 0.934545959669788, 4: 0.6002156914275931, 6: 0.7890810833860971, 7: 0.3738124060613365, 8: 0.5621098845428785}, 424: {1: 0.35703440515768536, 3: 0.14448623343935663, 6: 0.15888615750124258, 7: 0.588622622438386, 8: 0.6723395748244748}, 6985: {1: 0.40254132203801385, 3: 0.08075991319411902, 6: 0.040867316745764715, 7: 0.0761015820806753}, 7039: {1: 0.30701449606626696, 6: 0.11641019738415882, 7: 0.3365337771622925}, 9226: {1: 0.0621883129926768, 6: 0.3343397465321054}, 10775: {1: 0.016974628575501916, 2: 0.2909953230265492, 3: 0.5225717562702783}, 16: {3: 0.6287425227851731, 4: 0.7291762267785493, 5: 0.8325819425368068, 6: 0.734417632606066, 7: 0.3012812233837139, 8: 0.8304669008506781}, 1474: {3: 0.008006687032470983, 4: 0.12337968362592644, 5: 0.4018632353183714, 7: 0.1576672784111377, 8: 0.1593172425686106}, 1717: {3: 0.5370350907926109, 4: 0.8257370888728018, 7: 0.5951542034178919, 8: 0.9361106017466757}, 14839: {3: 0.1800612830104874, 4: 0.6031001136566579, 7: 0.916677719117069}, 17026: {3: 0.6103032620916757, 4: 0.6433330863773477}, 17188: {3: 0.3717824587911721}, 3780: {0: 0.32618466978455474, 1: 0.8471208873495845, 2: 0.523303723446936, 5: 0.5452561120348945, 8: 0.7579549819540424}, 10224: {0: 0.8504040202351143, 1: 0.48276175525434273, 3: 0.23513023112003018, 4: 0.9261340836644167, 5: 0.14108674471919916}, 10305: {0: 0.8197015840540013, 1: 0.375200549833861, 3: 0.5723223635175311, 5: 0.35642720468359634}, 10307: {1: 0.9715960501690494, 3: 0.13917681062858878, 5: 0.016277163940236927}, 10695: {0: 0.38266243955514756, 2: 0.5516215353286639, 3: 0.28158952743767424, 4: 0.7302813298662123}, 10857: {0: 0.8827582843559575, 2: 0.5930941627827883, 3: 0.5555037789938326}, 10858: {2: 0.6506419840031394, 3: 0.4302711003478229}, 10779: {0: 0.7920963304419851, 2: 0.6085341808311262, 3: 0.8177179411209868}, 2206: {1: 0.05137411861100549, 3: 0.5367488499646853, 4: 0.01804193234958429, 5: 0.9447780387139398, 6: 0.2417881858755515, 8: 0.5871882186905002}, 2692: {1: 0.37040238818759474, 3: 0.8835814625778657, 4: 0.4349384780581005, 6: 0.33660319924611404, 8: 0.32519153385111066}, 2719: {1: 0.09770949825249053, 4: 0.5660064187491591, 6: 0.7065944607621096, 8: 0.8992508338933521}, 8912: {1: 0.3366299207030211, 2: 0.42472197712312243, 3: 0.8089507344115819, 5: 0.21158593721658814, 6: 0.9372214298572646}, 17080: {4: 0.18298525807819355}, 13131: {0: 0.9605555621396691, 1: 0.16137123336051984, 3: 0.3527513960489498, 4: 0.29015513413042615, 5: 0.7788916394506119, 6: 0.39413929618444654, 7: 0.4078702453543255}, 13212: {0: 0.09978920992570706, 1: 0.7780269625522663, 3: 0.36438192841404426, 5: 0.4658072870176587, 6: 0.5377584868514818, 7: 0.43882683083996066}, 13218: {0: 0.3499035255092119, 3: 0.13563728060178137, 5: 0.6124864671409894, 6: 0.7047865425302944, 7: 0.7214387685809245}, 15405: {0: 0.5860727248571305, 3: 0.2008859636311383, 5: 0.24983696228871288, 6: 0.518771516324887}, 15891: {0: 0.9723984513237075, 3: 0.21022767767008632, 6: 0.39943058970070155}, 15892: {3: 0.10852193850994721, 6: 0.7581570422664232}, 17350: {3: 0.8828342318157256}, 10954: {1: 0.2606433368882667, 3: 0.6447510493228767, 4: 0.7712177387700299, 5: 0.23277956865595106, 6: 0.7426425903382762}, 10981: {1: 0.976740054096757, 4: 0.2820198448293184, 5: 0.517149908407402, 6: 0.21648440046204542}, 10987: {4: 0.34729451612269213, 5: 0.4263676835295618, 6: 0.40297375691475135}, 11230: {4: 0.52484059187069, 6: 0.020162273140733933}, 10253: {1: 0.8936292761392745, 4: 0.9843687856021544, 5: 0.14705365467841247}, 10334: {1: 0.7584872230448568, 5: 0.6470278634954005}, 4618: {1: 0.6505573920718642, 2: 0.2706224390659, 3: 0.825090851209487, 4: 0.8227582533296703, 6: 0.79429786765033, 8: 0.31945577952057114}, 4672: {1: 0.32657169296404975, 2: 0.8144967232327879, 4: 0.3598924271859546, 6: 0.605582987262294, 8: 0.492918903837257}, 4681: {1: 0.38304721215024684, 4: 0.9117176018793213, 6: 0.8942274477502878, 8: 0.8590783332519915}, 4843: {1: 0.440388007979937, 6: 0.7399684561080974, 8: 0.5192544798481837}, 6824: {1: 0.8800045917640587, 3: 0.1599908646787067, 4: 0.7921692862877414, 6: 0.8846570780320725, 7: 0.37275201327478036}, 7553: {1: 0.7728059634645764, 3: 0.5977743134472453, 4: 0.9980833630566514, 7: 0.4191155054431765}, 7715: {1: 0.39792726905269915, 3: 0.009853953449321162, 7: 0.3639357210199049}, 7718: {3: 0.5138805656764204, 7: 0.5716206472463171}, 12092: {3: 0.5018042345132396}, 249: {0: 0.4638512440752178, 2: 0.8404986258687323, 3: 0.007447349264342873, 4: 0.8794653586817811, 6: 0.03765673630150013, 7: 0.7506926552104071, 8: 0.23228819405172593}, 330: {0: 0.36600645999608483, 2: 0.8339413371113958, 3: 0.21775141360767258, 6: 0.20048512075111147, 7: 0.12251314381912637, 8: 0.4023943104277469}, 348: {0: 0.14778521408850342, 3: 0.2312644428456072, 6: 0.5496062229611928, 7: 0.7566505804252145, 8: 0.2613873355168876}, 2535: {0: 0.8342951755207394, 3: 0.12867934576175177, 6: 0.7901446339121204, 8: 0.42557625470297383}, 3993: {0: 0.2377055175095628, 3: 0.29054187019697736, 8: 0.47678829129736133}, 10554: {0: 0.24780869331932354, 3: 0.8880377712690455}, 10608: {0: 0.6239262654905182}, 570: {0: 0.763273932405893, 2: 0.8319010549874466, 3: 0.047944401565548356, 6: 0.27233622873644603, 7: 0.45846399325041254, 8: 0.7417538408508833}, 4944: {0: 0.01575483237369324, 2: 0.8731285708246355, 3: 0.014908556792967542, 6: 0.9514017428832525, 8: 0.6232877450678158}, 5673: {0: 0.08413772742536663, 2: 0.012533593518349706, 3: 0.19640535445161844, 8: 0.6178275646475195}, 18795: {0: 0.5795776454218108, 2: 0.46096254794727287, 3: 0.7970560119161555}, 18822: {0: 0.5666325582930063, 2: 0.48380600703348364}, 18824: {2: 0.30664093182458146}, 10713: {0: 0.9324275703552937, 3: 0.9924280134044517, 4: 0.834972453486198}, 10740: {0: 0.5068779144928062, 4: 0.4685399666622856}, 10742: {4: 0.9273933887737758}, 12717: {0: 0.38163068589019955, 1: 0.27442397522619477, 2: 0.549656983909464, 3: 0.6526449034427994}, 12771: {0: 0.8565511346650918, 1: 0.9894913542632633, 2: 0.6912488996610355}, 12774: {0: 0.37641533156089374, 2: 0.5185624048003891}, 12792: {0: 0.2895930699480004}, 735: {0: 0.19986265784960666, 2: 0.8751880624344652, 3: 0.6445560139205538, 4: 0.27311694488849303, 5: 0.8366260649116342, 7: 0.697552226341886, 8: 0.2633437661860094}, 744: {0: 0.26438228312146406, 3: 0.21534477095145033, 4: 0.9667490771848127, 5: 0.33848762329781024, 7: 0.1289086667007029, 8: 0.19770431988746318}, 906: {0: 0.9721480251836233, 3: 0.5454371450954106, 5: 0.46231743998598407, 7: 0.5957647547683637, 8: 0.07955589141869668}, 6876: {0: 0.5922145400136297, 1: 0.7310637149032715, 4: 0.8918571568913667, 6: 0.5498385464836416, 7: 0.6797295303428971}, 7605: {0: 0.046111544076369526, 1: 0.9510317824171686, 4: 0.585591494369745, 7: 0.2313415840543759}, 7611: {0: 0.7955666630605903, 4: 0.5372872792880017, 7: 0.19940517512750844}, 7612: {4: 0.9052061562631265, 7: 0.08219394351766242}, 7774: {7: 0.5003456542707291}, 9253: {1: 0.1342715689119105, 3: 0.476643010345869, 4: 0.28100640304252245, 6: 0.15402114337604197}, 9307: {1: 0.6111482820326525, 4: 0.019828732111777714, 6: 0.3876970114095545}, 9310: {4: 0.8223798902896112, 6: 0.8088200945207461}, 502: {3: 0.8125361606722413, 4: 0.36896593871816075, 6: 0.820316720558626, 7: 0.8238135406479189, 8: 0.5231947919039222}, 2689: {3: 0.8109986594028675, 4: 0.6007249377104573, 6: 0.597799178664665, 8: 0.8104684619999123}, 2743: {4: 0.16873569216487605, 6: 0.6432052487586079, 8: 0.37035151153534834}, 3472: {4: 0.5694568983804179, 8: 0.08022665733529566}, 4401: {0: 0.827131796087785, 1: 0.5904791862052186, 2: 0.7606633283188092, 4: 0.8955067170427834, 5: 0.3268412258536243, 6: 0.20736549108032543, 8: 0.3962497593797048}, 4482: {0: 0.6460071995313333, 1: 0.25328355307141226, 2: 0.3813290766977734, 5: 0.475974000216669, 6: 0.12614796280882223, 8: 0.1759010675118971}, 4484: {1: 0.48082006058370896, 2: 0.33399125966329124, 5: 0.026849968790319312, 6: 0.5711927771581014, 8: 0.6061696030769919}, 11045: {1: 0.39087141497075406, 2: 0.13299753280465954, 5: 0.1328679839285013, 6: 0.24778323516459866}, 11051: {2: 0.7879686833261303, 5: 0.5187154735488311, 6: 0.09515459750036921}, 11060: {5: 0.6970934761419131, 6: 0.4840557344841335}, 6594: {0: 0.047956846732779224, 2: 0.7807431554565273, 4: 0.6784135331392804, 5: 0.3368551582646583, 6: 0.3365721206400264, 7: 0.25269448467685873}, 6756: {0: 0.3350500306415658, 2: 0.5990885567392716, 5: 0.4314640781492548, 6: 0.36031746015840105, 7: 0.3061947577692794}, 8943: {0: 0.10209360473733708, 2: 0.3102599258042664, 5: 0.5003797811652757, 6: 0.3883023242875456}, 9429: {0: 0.6544911106286406, 2: 0.76254785829328, 6: 0.9252191117112774}, 52: {4: 0.15721853356344062, 5: 0.7801842197086509, 6: 0.6342640488484773, 7: 0.07745788638349416, 8: 0.461022933369915}, 295: {4: 0.8720853183325379, 6: 0.47842805786239495, 7: 0.8410268777490457, 8: 0.8208015120861359}, 4669: {4: 0.21169116670192245, 6: 0.257804699724268, 8: 0.48821134829870466}, 45: {0: 0.3379489465221678, 1: 0.7745359044884486, 4: 0.09727266962901548, 5: 0.7843289428191601, 6: 0.8644478018173359, 7: 0.9400208080706779, 8: 0.5988694659878389}, 2232: {0: 0.7993979967766341, 1: 0.017454881813953937, 4: 0.8606051420051308, 5: 0.009250768134364984, 6: 0.06721066784504781, 8: 0.7274039938178309}, 2234: {1: 0.5240800658680018, 4: 0.44795589316642914, 5: 0.27149657725193055, 6: 0.0975064666591271, 8: 0.8731021092707754}, 8795: {1: 0.4976025170980743, 4: 0.0076842460339267005, 5: 0.3716014937801576, 6: 0.09884002361407362}, 794: {1: 0.37333037109437794, 4: 0.6008491184943998, 5: 0.0054989076252065505, 7: 0.21618431149340234, 8: 0.4912002215069474}, 4408: {2: 0.5135035485175649, 4: 0.802479919368792, 5: 0.04009933818222, 6: 0.8460515030373734, 8: 0.6168585172629881}, 457: {6: 0.30655115522022514, 7: 0.6805502681181721, 8: 0.2923281533414542}, 2644: {6: 0.7243927386860861, 8: 0.2396364691028502}, 6612: {0: 0.9753442633090319, 4: 0.648090194677207, 5: 0.05496519179081194, 6: 0.787431256077106, 7: 0.2816190454311127}, 6613: {4: 0.9767428494999417, 5: 0.6952935056782176, 6: 0.5167935054159, 7: 0.8023628121893861}, 6775: {5: 0.9357711392161968, 6: 0.5704846077886031, 7: 0.5693061630229367}, 7018: {6: 0.4294277627336677, 7: 0.9503198894343198}, 114: {0: 0.3459693780677292, 2: 0.11646222905590131, 5: 0.7068183680781962, 6: 0.1904506803529722, 7: 0.8159854209759655, 8: 0.9628608406332885}, 13236: {0: 0.6234435603710075, 2: 0.17699607679351137, 5: 0.3203101714008456, 6: 0.7381556775777994, 7: 0.5259459573879124}, 13965: {0: 0.38659090285953224, 2: 0.15179733069172408, 5: 0.8351970891156013, 7: 0.11457356995045605}, 14451: {0: 0.6145678571650726, 2: 0.8615641010392854, 7: 0.8358047456979136}, 16638: {0: 0.3625489761762114, 2: 0.48776673946623095}, 16640: {2: 0.8376247558137235}, 178: {3: 0.09209414340429489, 5: 0.101105719863816, 6: 0.2551387662214134, 7: 0.937240006786345, 8: 0.5576462193374658}, 2365: {3: 0.22034580890844147, 5: 0.9731584150093041, 6: 0.19451860030969187, 8: 0.8489010486729285}, 2851: {3: 0.7657825205360895, 6: 0.883723905143393, 8: 0.6377013990378888}, 3580: {3: 0.1362188324062993, 8: 0.8942426264596094}, 16702: {3: 0.7760910606111266}, 8624: {1: 0.7262805216099303, 7: 0.3511647284198624}, 8630: {7: 0.3874495176723728}, 17524: {1: 0.4572486379439274, 2: 0.16203588194226304, 4: 0.4177458706452994, 5: 0.18021400207241936, 6: 0.8583909160691892}, 520: {2: 0.5223904777257491, 4: 0.7007860875912931, 6: 0.4676586933466138, 7: 0.7709803948213139, 8: 0.8903358875012221}, 7081: {2: 0.3903803860268312, 4: 0.3933052551754579, 6: 0.8090104922180849, 7: 0.5499983025715531}, 8539: {2: 0.8714538837872006, 4: 0.7508721382148339, 7: 0.31448005020297676}, 8548: {4: 0.7523316511887397, 7: 0.6001915405141545}, 42: {0: 0.44079050879902837, 4: 0.6409100982779836, 5: 0.5504587254571311, 6: 0.5618959154336911, 7: 0.4062059739114866, 8: 0.10220517591545764}, 204: {0: 0.27539708805578733, 5: 0.8057726210933123, 6: 0.8782191033318729, 7: 0.7671965175842596, 8: 0.92669746447628}, 6765: {0: 0.6194279090580106, 5: 0.7738511396240011, 6: 0.40728463664221426, 7: 0.6163828754990893}, 6767: {5: 0.025372021574879944, 6: 0.4440267836705759, 7: 0.07274815201813323}, 7496: {5: 0.6383362229397461, 7: 0.20265434154724657}, 7982: {7: 0.5364701339800433}, 2194: {2: 0.4548446531511815, 3: 0.3254106631429353, 4: 0.9715892974111702, 5: 0.6709426941752776, 6: 0.6231842787972928, 8: 0.4746131209846428}, 2356: {2: 0.01011437349661759, 3: 0.3549796151605631, 5: 0.8877130627832002, 6: 0.9616610395285653, 8: 0.4897167176452976}, 3085: {2: 0.8489427411908268, 3: 0.7380200694847318, 5: 0.6307418714069649, 8: 0.7448197426129436}, 3103: {3: 0.5066238692933415, 5: 0.7455308003463323, 8: 0.22554540475719403}, 3346: {3: 0.6625465331675578, 8: 0.12353112836428172}, 3400: {8: 0.44104927914833536}, 12436: {4: 0.9582107598648709, 5: 0.5307489475714674}, 513: {0: 0.5324751802174789, 1: 0.13732629737990365, 2: 0.007313507868169311, 4: 0.5537582926159791, 6: 0.512079685921334, 7: 0.8866117763479453, 8: 0.28565270611827903}, 2700: {0: 0.20166444100996928, 1: 0.48480930872558803, 2: 0.518836769200254, 4: 0.5890072508509306, 6: 0.7999719726366492, 8: 0.60366042613372}, 4158: {0: 0.921611817616689, 1: 0.9241777453142911, 2: 0.7161459726423068, 4: 0.3856869839900605, 8: 0.18665739999777353}, 4159: {1: 0.19200176507933464, 2: 0.7539998642901397, 4: 0.5206690341632797, 8: 0.4847717438964274}, 4177: {1: 0.9293084009037372, 4: 0.22288184457706361, 8: 0.37154652628283896}, 4180: {4: 0.6916555457591571, 8: 0.9517746913900194}, 276: {0: 0.908978698745986, 2: 0.674858430303997, 4: 0.5990649431102645, 6: 0.29797574620712675, 7: 0.7766835307508964, 8: 0.3146834124414028}, 438: {0: 0.15068197966557828, 2: 0.03590165560458414, 6: 0.08749325996792445, 7: 0.3899952140934773, 8: 0.7073590848210142}, 6999: {0: 0.20450865278911978, 2: 0.28385519936562253, 6: 0.5423025657812226, 7: 0.10003914198891795}, 13156: {2: 0.1544646851982402, 4: 0.7413486764807111, 5: 0.1713247562362301, 6: 0.12363208891268128, 7: 0.8695136112214069}, 15343: {2: 0.7225210863846259, 4: 0.2980196180933774, 5: 0.6703670573872827, 6: 0.13497807034462622}, 15361: {4: 0.18324312314102353, 5: 0.8705755467216378, 6: 0.6956049583671998}, 15604: {4: 0.5131592315529243, 6: 0.2356028017717228}, 15766: {6: 0.5429257739585895}, 294: {0: 0.4078809399282568, 4: 0.8211369914488411, 6: 0.44019333660170046, 7: 0.8808766158388274, 8: 0.3803845019956395}, 2481: {0: 0.2687072539809906, 4: 0.44535714939300974, 6: 0.3773899926839316, 8: 0.7849421856483056}, 3939: {0: 0.22656459167877763, 4: 0.14066907235512544, 8: 0.5309768453878345}, 10500: {0: 0.4392056671993496, 4: 0.6995259484201736}, 1492: {2: 0.5437667909959267, 4: 0.3829557246874776, 5: 0.6042131873780727, 7: 0.23098466644386517, 8: 0.649243679460024}, 1735: {2: 0.7267171836668607, 4: 0.31332740379522506, 7: 0.8375850742352229, 8: 0.9210898517736049}, 14857: {2: 0.843864541781976, 4: 0.6811045596458238, 7: 0.03426219021171262}, 17044: {2: 0.4825836995378844, 4: 0.30975431299736805}, 17062: {4: 0.5695158808191524}, 15309: {0: 0.9868543475296038, 1: 0.5406194727070598, 2: 0.731478457175924, 3: 0.20910928465388245, 4: 0.8300281380844022, 5: 0.02550771994910539, 6: 0.1284518357296274}, 15310: {1: 0.31625380759785815, 2: 0.7123211156712262, 3: 0.8552675717665823, 4: 0.796880789463629, 5: 0.8371127198724155, 6: 0.7811494240100294}, 15364: {1: 0.3583164463071836, 2: 0.4392489567660915, 4: 0.017259924098494306, 5: 0.0021130419217787466, 6: 0.25174931662742805}, 15373: {1: 0.8408567776310162, 4: 0.8715145539243879, 5: 0.9875645467682941, 6: 0.46207359640876916}, 15859: {1: 0.3150614680205195, 4: 0.954169942409809, 6: 0.7168140818424766}, 15940: {1: 0.32982989007595453, 6: 0.622808828847155}, 17398: {1: 0.8809311409846295}, 2394: {0: 0.7953617307026225, 1: 0.16438659136384104, 5: 0.6629357826768282, 6: 0.3597185063622508, 8: 0.21501003876559283}, 2395: {1: 0.10086291004583492, 5: 0.4904038919587026, 6: 0.3948100349971973, 8: 0.7779717530654884}, 15517: {1: 0.2980053229199082, 5: 0.919693661936246, 6: 0.8024148753290884}, 15760: {1: 0.18771208432217124, 6: 0.8938685438600925}, 17527: {2: 0.9443156807950275, 4: 0.262319808515146, 5: 0.936279339943207, 6: 0.9100477848597865}, 18013: {2: 0.25153513069918854, 4: 0.7447608990986392, 6: 0.7884823853952975}, 3132: {0: 0.6458005692691825, 1: 0.12438612484979794, 2: 0.9955624773122778, 5: 0.7188731005211734, 8: 0.8803332370562048}, 3141: {0: 0.6683995896420079, 1: 0.2801900409123068, 5: 0.16765413770961668, 8: 0.3135323891622782}, 3386: {1: 0.7166561077421177, 8: 0.6074441412313563}, 3392: {8: 0.7646643542494921}, 13392: {0: 0.564561386438802, 1: 0.8580878074650643, 2: 0.8021735206612066, 4: 0.7432419096151344, 6: 0.8066172024662118, 7: 0.5259718103072678}, 13398: {0: 0.917171682181008, 2: 0.7569471629601912, 4: 0.7831542787720835, 6: 0.7571937026448121, 7: 0.33786856193081455}, 13399: {2: 0.28567226295938575, 4: 0.5887734073621271, 6: 0.4926761190217471, 7: 0.5977987782534285}, 4500: {0: 0.9578104656635303, 1: 0.9149211074380287, 5: 0.8381323810446538, 6: 0.3487220974804601, 8: 0.0820316594440576}, 4501: {1: 0.8082512727942925, 5: 0.7345258545885902, 6: 0.15711550603290036, 8: 0.2193001333078448}, 4507: {5: 0.40464893040767935, 6: 0.45729751500732085, 8: 0.2692004364401741}, 13230: {0: 0.8039682509840635, 1: 0.8102297714811645, 2: 0.23192333476952742, 5: 0.21017849830996094, 6: 0.2934684889931055, 7: 0.269338106184015}, 3467: {1: 0.9742115307220535, 4: 0.7387096271142894, 8: 0.7361249140069801}, 4239: {0: 0.3457665322107949, 1: 0.41940971658921233, 2: 0.7404266473851299, 8: 0.620166964262904}, 4257: {0: 0.7946377825965534, 1: 0.3868007314001317, 8: 0.5334815690111111}, 4258: {1: 0.6752596024184612, 8: 0.38120444768004424}, 588: {0: 0.8039678659325202, 3: 0.15053444661337423, 6: 0.17407562972976753, 7: 0.5726364932671394, 8: 0.8160176220768623}, 7149: {0: 0.028492981751100266, 3: 0.5927971515170591, 6: 0.33508337183917536, 7: 0.58601179614451}, 7203: {0: 0.20847366591235938, 6: 0.5320951647490744, 7: 0.8233972649920778}, 15336: {0: 0.36096510729235254, 1: 0.7832792682868677, 2: 0.07931374387554724, 4: 0.9207301282837328, 5: 0.08149674935328033, 6: 0.3170773153257755}, 15498: {0: 0.929819069798699, 1: 0.1023850425356011, 2: 0.7556955035993843, 5: 0.24292852853225022, 6: 0.2855452626290705}, 15499: {1: 0.28755123021369966, 2: 0.9120303790032149, 5: 0.8298486900925363, 6: 0.04716712287103475}, 16957: {1: 0.10103879248481062, 2: 0.4633348128031579, 5: 0.6550868889983339}, 17200: {1: 0.8054616038797794, 2: 0.2562878342117977}, 13203: {0: 0.18781920343511693, 1: 0.43126451056984105, 2: 0.1749920169143772, 3: 0.3938046958373862, 5: 0.36452702041231677, 6: 0.6933355302451836, 7: 0.4236761069550062}, 13206: {0: 0.022956205165873045, 2: 0.9508396034583105, 3: 0.7730201791195616, 5: 0.5535579711358257, 6: 0.959258174104754, 7: 0.15383826699377257}, 14664: {0: 0.5400420696975645, 2: 0.747541122408427, 3: 0.5169915492204779, 5: 0.38442959284054756, 7: 0.19719965428136843}, 14673: {0: 0.43238296196069625, 3: 0.8268481635868254, 5: 0.09389433802384772, 7: 0.38151684711880507}, 14727: {0: 0.031842327548211924, 5: 0.16259260045224577, 7: 0.82386396060455}, 14970: {0: 0.12931562524367102, 7: 0.8291506201302586}, 10737: {0: 0.44803731965547255, 1: 0.14807944485584024, 4: 0.42758993812849755}, 13410: {0: 0.22631809929881286, 1: 0.6007516485438509, 4: 0.15202613423777578, 6: 0.14717948050220708, 7: 0.4452834436357259}, 13413: {0: 0.12485696894346321, 4: 0.49236036768249103, 6: 0.681546890042813, 7: 0.7886458886881316}, 13575: {0: 0.8255189561026267, 6: 0.17236335723813462, 7: 0.2120086295109144}, 14304: {0: 0.2779639091415603, 7: 0.11987369197119213}, 17605: {1: 0.33245657156879693, 2: 0.517170554881459, 5: 0.6455494923062733, 6: 0.7070220874492223}, 18091: {1: 0.8126675889108683, 2: 0.9564212137152596, 6: 0.30021976468540323}, 18100: {1: 0.3810985969890578, 6: 0.08047630236909353}, 18106: {6: 0.508444146498609}, 13636: {1: 0.8329181915834213, 2: 0.8685259442737605, 4: 0.71563462620198, 6: 0.8284736171027345, 7: 0.6484572901385781}, 13717: {1: 0.2095900533711813, 2: 0.5202964796117981, 6: 0.27906252184265623, 7: 0.46167725088230727}, 13312: {1: 0.9096583613666162, 2: 0.042652218949017495, 5: 0.9226674800476156, 6: 0.19213115438997652, 7: 0.25471562323544095}, 13555: {1: 0.6252851262429743, 2: 0.27277094773462573, 6: 0.9302975334723271, 7: 0.30022807777666477}, 17929: {1: 0.2314286171243174, 2: 0.042447917472328345, 6: 0.8438023869557849}, 13365: {0: 0.44586149574267386, 1: 0.48957558198386164, 2: 0.8624475100557087, 3: 0.861531008213263, 4: 0.09981237435105761, 6: 0.5939320155325083, 7: 0.7750975685038716}, 17787: {0: 0.012342566577324576, 4: 0.28102731443931017, 6: 0.07400052625013587}, 13168: {1: 0.45285469369143416, 4: 0.36640295756302277, 5: 0.23459899490793235, 6: 0.5806196829772773, 7: 0.37976640552418073}, 1242: {0: 0.08364511388537221, 1: 0.8044049982624838, 2: 0.5277783099859208, 4: 0.6031680498786797, 7: 0.6836666540822351, 8: 0.4203218816940363}, 1248: {0: 0.10236530334279315, 2: 0.749836378555587, 4: 0.1536860571578259, 7: 0.08426540487289469, 8: 0.3335376655195319}, 1257: {0: 0.06155383852052321, 4: 0.22040437167555482, 7: 0.14881795121772173, 8: 0.5067872281313699}, 14379: {0: 0.48723627258807045, 4: 0.44379190595227175, 7: 0.6846957579532804}, 16566: {0: 0.18764611247824708, 4: 0.4583393411630879}, 16728: {0: 0.6997927752496532}, 17767: {1: 0.8495281422222097, 2: 0.15078955747423972, 4: 0.5648684235261999, 6: 0.7831979148918515}, 17773: {2: 0.6468017677375918, 4: 0.08002989802706317, 6: 0.8142991502750979}, 2975: {2: 0.6450307748151985, 4: 0.2548364077804308, 5: 0.8118096812705738, 8: 0.15944233433157984}, 3461: {2: 0.2724378447529776, 4: 0.8806307196705082, 8: 0.3679868936337251}, 57: {0: 0.4356551702475304, 2: 0.9769867375127007, 4: 0.20266454888928453, 5: 0.5667213578206787, 6: 0.2538142085742632, 7: 0.8493702681712622, 8: 0.2880530178590133}, 66: {0: 0.0010384825382008245, 4: 0.3630372040270058, 5: 0.3132929034829569, 6: 0.5401018959303382, 7: 0.7638466879171706, 8: 0.6847409075226882}, 4440: {0: 0.9087374574683709, 4: 0.4694919979185369, 5: 0.8958127866854697, 6: 0.45440864504640116, 8: 0.9087519933709088}, 11001: {0: 0.889366919886434, 4: 0.22270356836791028, 5: 0.582479250990901, 6: 0.40613452108611753}, 11003: {4: 0.5898420420568403, 5: 0.6516596601120919, 6: 0.45751886645632733}, 2248: {2: 0.1092041788785334, 4: 0.1388331799806738, 5: 0.8924034781109069, 6: 0.8744457337213687, 8: 0.12736924933357166}, 2977: {2: 0.467247475565271, 4: 0.8034667410413171, 5: 0.5512210263976586, 8: 0.26065509887909977}, 16099: {2: 0.9978018706596313, 4: 0.9485305603453145, 5: 0.17599460373729678}, 16108: {4: 0.09756252526346534, 5: 0.283577446772335}, 16594: {4: 0.08744664035471683}, 13232: {1: 0.580277366381256, 2: 0.4991111041316936, 5: 0.43870218309805853, 6: 0.28061371655681555, 7: 0.8011330143141038}, 15419: {1: 0.03241139792931258, 2: 0.8321488975334148, 5: 0.35188187177303554, 6: 0.17175009465323252}, 15437: {1: 0.3993160025995933, 5: 0.4956835450575946, 6: 0.43627252381676296}, 4644: {0: 0.9505229082303157, 1: 0.47261866196381896, 2: 0.9549870887411879, 4: 0.07682444373143626, 6: 0.2070439762144426, 8: 0.5831793685663943}, 4662: {0: 0.4303570202438073, 1: 0.07635772260617524, 4: 0.8832541048387967, 6: 0.7242496279129275, 8: 0.4001168819877421}, 261: {0: 0.43898065260070684, 1: 0.589243531030879, 3: 0.20028428455809688, 4: 0.4330726669088858, 6: 0.13050630446355882, 7: 0.7659258582741052, 8: 0.8415626477826824}, 342: {0: 0.7753775096440523, 1: 0.23658835416357404, 3: 0.3411962136041635, 6: 0.992076731472591, 7: 0.8762296452207883, 8: 0.5985925553463801}, 1800: {0: 0.7345101252110608, 1: 0.8519991137126521, 3: 0.15933334087157613, 7: 0.758115732884281, 8: 0.7725785819736922}, 1803: {0: 0.5575813130560195, 3: 0.9015167477241681, 7: 0.7300096539242893, 8: 0.7862475402110716}, 1857: {0: 0.19913710361025938, 7: 0.95762618543852, 8: 0.30497528331018664}, 405: {0: 0.41615794050864197, 1: 0.6820076140378122, 2: 0.535276515238381, 3: 0.5046716796233429, 6: 0.8158967763348222, 7: 0.10965936957945788, 8: 0.3603196694413656}, 1134: {0: 0.27365704420002546, 1: 0.43605761900997775, 2: 0.017410072693846756, 3: 0.7330101222625, 7: 0.73966345203171, 8: 0.2582580315183684}, 1136: {1: 0.3690714332447418, 2: 0.4220499644506752, 3: 0.6714791353716368, 7: 0.37551927030720533, 8: 0.9039591894797562}, 7697: {1: 0.13548697992251058, 2: 0.20423091633164714, 3: 0.35366834517711343, 7: 0.7977312808861947}, 13394: {1: 0.09865043835795939, 2: 0.617969132219208, 4: 0.755366467898745, 6: 0.41771425549465946, 7: 0.5295230666661866}, 13878: {0: 0.7176625059846636, 1: 0.667959813450131, 2: 0.457412564548632, 4: 0.18167647061674197, 5: 0.6391984001678882, 7: 0.21082202979521858}, 13880: {1: 0.7726937765158081, 2: 0.8198556447194684, 4: 0.8365738877305676, 5: 0.08322201753742309, 7: 0.6128120133858534}, 13961: {1: 0.9332681352780696, 2: 0.46017980632484634, 5: 0.2485814372410129, 7: 0.6408497705409321}, 13967: {2: 0.49217998118336004, 5: 0.8398282691603693, 7: 0.09814794533238802}, 7363: {1: 0.08760925470837544, 4: 0.0776526579906045, 5: 0.4180517484482518, 7: 0.9392430119975284}, 11737: {1: 0.0672715667308812, 4: 0.9519488377332691, 5: 0.9580293686512621}, 8064: {0: 0.8746380681967484, 1: 0.4357890049181289, 4: 0.9455385732899995, 5: 0.8536750904522791, 7: 0.07398493543231255}, 2220: {0: 0.9475172527987732, 2: 0.9921402014105306, 4: 0.21611034346184343, 5: 0.8774161458831239, 6: 0.5190087878171834, 8: 0.6543913371020235}, 2238: {0: 0.215607506446292, 4: 0.6722124089400335, 5: 0.8900647958124867, 6: 0.24594723508696292, 8: 0.808567114028359}, 2319: {0: 0.1479017458149603, 5: 0.2576102743602974, 6: 0.3972972902451325, 8: 0.16397501961299454}, 3777: {0: 0.032106080092613065, 5: 0.14913444932785025, 8: 0.4966054019150785}, 7292: {1: 0.725754079087131, 2: 0.7770365971459694, 3: 0.08608646814861942, 4: 0.2527923037769152, 5: 0.3227100421039154, 7: 0.7987262087279843}, 11666: {1: 0.6722431031234222, 2: 0.9311735207271193, 3: 0.9985298933079901, 4: 0.1397073676902727, 5: 0.17980451669262992}, 6590: {1: 0.6036343585303733, 2: 0.33862773552912695, 4: 0.9230683522219841, 5: 0.44943218782449645, 6: 0.2917829696468667, 7: 0.8683893317515061}, 6752: {1: 0.9569183254543717, 2: 0.7069789203357085, 5: 0.9437049698386095, 6: 0.7131285347392751, 7: 0.6350922981352918}, 6755: {2: 0.1342307369452983, 5: 0.9474264849244306, 6: 0.21816872857871716, 7: 0.17133774408249858}, 7241: {2: 0.4596651784920287, 6: 0.9258901771131888, 7: 0.6293176546362341}, 7970: {2: 0.9762691926098364, 7: 0.3035598378795813}, 7988: {7: 0.2122779462321542}, 788: {2: 0.552750601016722, 4: 0.7578352793238043, 5: 0.08060674995905537, 7: 0.5359207177115651, 8: 0.27679737093037926}, 869: {2: 0.029001315841988062, 5: 0.21912420938451815, 7: 0.7002184117958574, 8: 0.5167419170833686}, 5243: {2: 0.09160580928067485, 5: 0.30700147076854045, 8: 0.6918476124637025}, 15013: {1: 0.9399288702559503, 2: 0.9368820638635569, 7: 0.5360247069111893}, 15016: {2: 0.2215209412823107, 7: 0.13219131962635922}, 11455: {2: 0.2429154865885893, 4: 0.4612661708635083, 6: 0.35540961392979187}, 7454: {1: 0.15158927547581813, 2: 0.4034083152274641, 3: 0.13446215032511244, 5: 0.11687434990442436, 7: 0.7710795292150341}, 13645: {1: 0.683131577683235, 4: 0.04654874978577672, 6: 0.02040153880263884, 7: 0.21261846901415735}, 13651: {4: 0.26197175826876107, 6: 0.7772025259225809, 7: 0.8660001849339403}, 15838: {4: 0.8272179263998913, 6: 0.41166918898277133}, 16000: {6: 0.8445508029899644}, 6742: {1: 0.6676050531689959, 3: 0.6737957053368385, 5: 0.10528554540564328, 6: 0.06830001962507437, 7: 0.22289721624486383}, 7471: {1: 0.11120455894929093, 3: 0.9551352048614146, 5: 0.08570316694428393, 7: 0.8578484077127151}, 7525: {1: 0.07495163664259297, 5: 0.19398783194654856, 7: 0.6171518843529822}, 7768: {1: 0.3187674175305715, 7: 0.053042734342115594}, 7221: {0: 0.23423225951073923, 3: 0.045191236494912634, 6: 0.5534318800524409, 7: 0.6336318583105545}, 11595: {0: 0.03530698650287045, 3: 0.9269062101893124, 6: 0.5794388702468117}, 6745: {3: 0.018772451391128042, 5: 0.31362558079180314, 6: 0.2291433725497829, 7: 0.1948472327045067}, 7231: {3: 0.9917103428759827, 6: 0.8107866851841988, 7: 0.476128777755674}, 7258: {6: 0.9365857246930147, 7: 0.8382683685310528}, 100: {1: 0.0850916167688035, 3: 0.41868783384434427, 5: 0.7647901771756155, 6: 0.5825612749231325, 7: 0.4571517872229023, 8: 0.5209515010382398}, 586: {1: 0.7176704885793661, 3: 0.8497542407116715, 6: 0.7062479063256663, 7: 0.04954503005215105, 8: 0.6439364793524888}, 613: {1: 0.9980022955154804, 6: 0.7489065065257564, 7: 0.4201145387081079, 8: 0.49364047115473003}, 4987: {1: 0.6721806000350103, 6: 0.476289855149164, 8: 0.7869968358031558}, 64: {1: 0.7051885110961736, 4: 0.16009238019153516, 5: 0.28231363875541216, 6: 0.8883210292567314, 7: 0.197519250114219, 8: 0.23638986178464352}, 1522: {1: 0.31239111729656643, 4: 0.5380011018286353, 5: 0.8162694650166437, 7: 0.9456383876300828, 8: 0.18274072525884963}, 1765: {1: 0.1281416711093033, 4: 0.1188595821771643, 7: 0.3403533940891781, 8: 0.3234427588824981}, 6139: {1: 0.3492486033329928, 4: 0.7130294562432485, 8: 0.9070292237947492}, 1555: {3: 0.6154594224735708, 5: 0.28206237508135223, 7: 0.6033903229173085, 8: 0.2624615481616361}, 1609: {5: 0.5600822156127734, 7: 0.2968514136721966, 8: 0.3835690857789214}, 1852: {7: 0.5005576358875973, 8: 0.40022305710167666}, 6226: {8: 0.9333985471951993}, 22: {3: 0.2416701439434925, 4: 0.5731999956751801, 5: 0.6957170067849856, 6: 0.42807242753161023, 7: 0.0434911399317055, 8: 0.24971102689346805}, 508: {3: 0.6200047187197171, 4: 0.9301775793802565, 6: 0.6399112920098465, 7: 0.7605480443812802, 8: 0.9416048500876627}, 7069: {3: 0.9420138757492548, 4: 0.041132927277235276, 6: 0.3966687729051339, 7: 0.8896272000357771}, 2824: {6: 0.8555201164591111, 8: 0.9637428871028568}, 15946: {6: 0.23394654294028835}, 487: {1: 0.2731821208954628, 2: 0.5125789013219466, 3: 0.41442318860088856, 4: 0.7027621912473516, 6: 0.807396956642134, 7: 0.7328508304727936, 8: 0.251714133349352}, 1216: {1: 0.5366037949114871, 2: 0.6843985688035142, 3: 0.7778403026872962, 4: 0.2242441523498544, 7: 0.02842458784553381, 8: 0.37691949862497093}, 1270: {1: 0.6949152213686562, 2: 0.1125748983230831, 4: 0.18095683822013317, 7: 0.3170914672792582, 8: 0.23163751346158037}, 1273: {2: 0.7574217538203571, 4: 0.2469339383056433, 7: 0.17003570680272417, 8: 0.545063385992218}, 1291: {4: 0.6424960190380248, 7: 0.8859663903499513, 8: 0.3070819094599512}, 3478: {4: 0.5845109963683071, 8: 0.7640608996312187}, 1459: {1: 0.5242231092974554, 2: 0.40120475765450303, 3: 0.48693149316703854, 4: 0.10607666904466861, 5: 0.8932048943234278, 7: 0.9076896255004671, 8: 0.7947317256160751}, 3646: {1: 0.7669501997650272, 2: 0.6554337216107783, 3: 0.8518935949094268, 4: 0.7778646467345743, 5: 0.2506193343190781, 8: 0.5935723793733821}, 3700: {1: 0.3362195007303014, 2: 0.8346940210096738, 4: 0.15907815164025785, 5: 0.41677740005495423, 8: 0.18863520945126858}, 3709: {1: 0.24336741711655407, 4: 0.39400594602367145, 5: 0.8304518069229379, 8: 0.2601437689090659}, 4195: {1: 0.6459776973068992, 4: 0.7833618809712837, 8: 0.06911399200608952}, 4276: {1: 0.007045439556220501, 8: 0.2775048996858076}, 4282: {8: 0.5493021892290463}, 5511: {0: 0.11331044905459264, 2: 0.4710805218188606, 3: 0.7848193508072789, 8: 0.5448678376089404}, 5565: {0: 0.4783346955038338, 2: 0.8900932205651588, 8: 0.8117503987540965}, 5574: {0: 0.6362467308284159, 8: 0.5376363316051797}, 5576: {8: 0.6191136124838094}, 9412: {3: 0.7270598525328479, 6: 0.3763759142441536}, 4375: {1: 0.8491002639911266, 2: 0.6046146742279482, 3: 0.5718882224791352, 4: 0.6936057845554354, 5: 0.5508714229234404, 6: 0.29887499744816953, 8: 0.367532110125545}, 4378: {2: 0.35927553941904167, 3: 0.7278655674155695, 4: 0.34649904105196205, 5: 0.8542362163462277, 6: 0.533169493944667, 8: 0.740283369063284}, 4396: {3: 0.7438467794076533, 4: 0.19662554828058576, 5: 0.08837897791629068, 6: 0.45992790462499755, 8: 0.6236000494467504}, 4423: {4: 0.6037940123350839, 5: 0.7655188910885788, 6: 0.4719910721455075, 8: 0.2794025143199669}, 17545: {4: 0.18347702075058292, 5: 0.9039438654087714, 6: 0.4332453988851625}, 17788: {4: 0.30626191396985114, 6: 0.6620119764065655}, 1378: {1: 0.7832869405214941, 2: 0.3951954703738034, 3: 0.9652794261619302, 7: 0.4909664481338719, 8: 0.39089735548381277}, 15811: {3: 0.810135138219473, 4: 0.5819549628348177, 6: 0.5555287298502671}, 88: {2: 0.5753645981071238, 3: 0.8209530603227275, 5: 0.5546876169966167, 6: 0.415907630965615, 7: 0.16986765185765007, 8: 0.30716066008452136}, 142: {2: 0.547324090105867, 5: 0.7365390534579561, 6: 0.37688046331672753, 7: 0.37472399862437633, 8: 0.38229251147679455}, 385: {2: 0.22111216381237908, 6: 0.549943180022153, 7: 0.9193636727091943, 8: 0.627840078713462}, 4759: {2: 0.5572260403455401, 6: 0.7888213119568083, 8: 0.7359430708822411}, 5488: {2: 0.07222755841195194, 8: 0.6365052176763922}, 18610: {2: 0.6365441093346031}, 6769: {1: 0.76325952212265, 5: 0.19610953285489285, 6: 0.14716813975220722, 7: 0.06463435825657038}, 4147: {3: 0.5349006364772533, 4: 0.664017343889437, 8: 0.8752085382482108}, 4540: {2: 0.23481186874803628, 3: 0.28345248629285846, 5: 0.25008061327185493, 6: 0.6354849065278938, 8: 0.18309025629702982}, 5269: {2: 0.769294087204107, 3: 0.6915379031298274, 5: 0.3464305977433688, 8: 0.3972798562858243}, 5287: {3: 0.11035140827365375, 5: 0.6456359396534946, 8: 0.8555772143836968}, 11848: {3: 0.6917176040503747, 5: 0.8097304426558373}, 12334: {3: 0.6819444509728391}, 163: {1: 0.30497091903526796, 2: 0.509642217006038, 3: 0.3828417763108378, 5: 0.41853213042914983, 6: 0.20114944195005136, 7: 0.9163114716499688, 8: 0.33153303005118967}, 2350: {1: 0.069961424933497, 2: 0.8975188647083182, 3: 0.8831206045803532, 5: 0.19986945195667216, 6: 0.4013116678627535, 8: 0.8254066063140763}, 2368: {1: 0.9224646958346732, 3: 0.9070056216161456, 5: 0.19608945913471698, 6: 0.6826461563883752, 8: 0.02399743838678936}, 17296: {4: 0.672123487737983}, 205: {5: 0.9461547077517692, 6: 0.9887499569409859, 7: 0.276102113021497, 8: 0.4476557905642089}, 1663: {5: 0.3603695861309486, 7: 0.9775520334400949, 8: 0.4776612253874121}, 3850: {5: 0.4396405185230913, 8: 0.371758940807402}, 4336: {8: 0.37255901487888093}, 70: {4: 0.21278595987027404, 5: 0.7300895363239098, 6: 0.9470810989712792, 7: 0.6034164681917814, 8: 0.903562309675282}, 799: {4: 0.8600026551461558, 5: 0.5377456535835079, 7: 0.6443316684847846, 8: 0.911636840773938}, 13921: {4: 0.5464571692655007, 5: 0.85950107135102, 7: 0.7001061026962575}, 14164: {4: 0.2619144339665839, 7: 0.5962200962999035}, 14326: {7: 0.924748979871891}, 151: {5: 0.9156182185806426, 6: 0.44915564693497934, 7: 0.10589287628127009, 8: 0.6557279029535011}, 637: {6: 0.6948758646812274, 7: 0.49049896130515613, 8: 0.021807080155823}, 10260: {0: 0.6216705838883916, 1: 0.4608566097830149, 2: 0.3878880627260187, 4: 0.5814407943079957, 5: 0.5724185734588094}, 4864: {2: 0.3869688722557034, 3: 0.42518324024661064, 4: 0.8591841494082718, 6: 0.5100090692416575, 8: 0.7968432119135753}, 4945: {2: 0.8297863703974357, 3: 0.8605246807333896, 6: 0.36769736155689714, 8: 0.81320956719259}, 4963: {3: 0.6038626606014001, 6: 0.2061254322374486, 8: 0.7812095155496327}, 18538: {4: 0.8548853752379801}, 1043: {4: 0.11229820523431677, 7: 0.6485596450954825, 8: 0.23892401807172653}, 3230: {4: 0.48708130569593877, 8: 0.6208438678117479}, 10942: {2: 0.3097466731380599, 3: 0.39441164593982225, 4: 0.6804568572287599, 5: 0.4888019131475046, 6: 0.22719217132435066}, 11671: {2: 0.5732542382807773, 3: 0.21219706682147488, 4: 0.7282068777383128, 5: 0.6041335234484323}, 7063: {3: 0.7106176287226202, 4: 0.9293264013027298, 6: 0.7900772963129077, 7: 0.5762858706357038}, 7225: {3: 0.40666318784246724, 6: 0.8577518322369337, 7: 0.8488755811839829}, 871: {2: 0.5102378353372559, 5: 0.48062894587448324, 7: 0.4134475290971055, 8: 0.8561454253954561}, 13993: {2: 0.4816376665880465, 5: 0.5430342477840532, 7: 0.653212500808573}, 16180: {2: 0.3102754755329768, 5: 0.6538060616351942}, 16666: {2: 0.5701423413631009}, 1231: {3: 0.7546953592786583, 4: 0.34532257158107105, 7: 0.08431065891825917, 8: 0.269167581986788}, 1285: {4: 0.6754922840999666, 7: 0.4059205050309403, 8: 0.4074818416078242}, 4999: {2: 0.8548469524607877, 6: 0.5388155446885126, 8: 0.3424381998797691}, 250: {2: 0.31112883295310345, 3: 0.4884199851099642, 4: 0.8146626925913509, 6: 0.5693673120545342, 7: 0.29103752059995125, 8: 0.5425469399357001}, 412: {2: 0.5049058565001557, 3: 0.8530098362244558, 6: 0.6425959711999203, 7: 0.08641533319313832, 8: 0.6668458616672014}, 529: {4: 0.6906419339486651, 6: 0.31448745196465544, 7: 0.6560062786450076, 8: 0.0859749353153842}, 691: {6: 0.032728766395001774, 7: 0.39927829498230943, 8: 0.22091726902755218}, 7252: {6: 0.31971694605823603, 7: 0.7682919338282544}, 1393: {3: 0.7160212099758639, 7: 0.6504878711652936, 8: 0.5904980644956789}, 7954: {3: 0.7131068185667879, 7: 0.1037798074983689}, 13123: {1: 0.9150136091232327, 2: 0.9198901959328946, 3: 0.6013159118089789, 4: 0.4841427323018177, 5: 0.06028019763275505, 6: 0.6881040082136197, 7: 0.6139912815509982}, 10217: {1: 0.35338991717382306, 3: 0.47918831643709825, 4: 0.12202114020161056, 5: 0.3229406662999659}, 10703: {1: 0.4225070906498657, 3: 0.9335954490031193, 4: 0.43003332043461573}, 552: {0: 0.729010417593138, 4: 0.2633921833004047, 6: 0.35620918852566996, 7: 0.2509043993514961, 8: 0.37066248998199425}, 5352: {0: 0.8333614238656325, 2: 0.8335867704067845, 3: 0.8091047654804905, 4: 0.5151113870413303, 8: 0.48592466472403667}, 5361: {0: 0.7072541291268285, 3: 0.8365677899289038, 4: 0.15675012151817003, 8: 0.3782117969494281}, 5415: {0: 0.10526377842364411, 4: 0.5210820485669605, 8: 0.8469450242590262}, 13138: {3: 0.8433983272152331, 4: 0.7847321607945674, 5: 0.46997798574033833, 6: 0.7555654904836401, 7: 0.5947009100138805}, 13165: {4: 0.36549994103927896, 5: 0.8857801751418972, 6: 0.3789627040343939, 7: 0.41337783419376384}, 46: {1: 0.29108736862433415, 4: 0.1553801256563625, 5: 0.38747575321807326, 6: 0.6038726583720805, 7: 0.5312196885425804, 8: 0.13917675661398185}, 1504: {1: 0.14743670213698767, 4: 0.6331808466014671, 5: 0.9121979622876427, 7: 0.8369905413592869, 8: 0.44764630418214796}, 1747: {1: 0.9915392573233033, 4: 0.1506627473641654, 7: 0.9067643072191318, 8: 0.6124409484518256}, 1753: {4: 0.41305025098645487, 7: 0.9994316464280659, 8: 0.3183762072808012}, 3940: {4: 0.05202422004686846, 8: 0.17907128421575733}, 13219: {3: 0.511293150645927, 5: 0.47333260107405395, 6: 0.7116188396071061, 7: 0.21074285160715883}, 14677: {3: 0.3721178774587788, 5: 0.18955254877118077, 7: 0.7679083649288374}, 16864: {3: 0.6960606375422018, 5: 0.2743744164206787}, 16918: {5: 0.8017332913395802}, 16831: {1: 0.8966287342736732, 4: 0.06007848453334763, 5: 0.17986245533797318}, 17593: {3: 0.5771613513996422, 5: 0.48561839156415254, 6: 0.440908087385084}, 17620: {5: 0.8272448880578532, 6: 0.09163382004830622}, 14704: {5: 0.1942855956195253, 7: 0.1527409213342631}, 4624: {2: 0.6291632237698377, 3: 0.2959889092547051, 4: 0.79177617247587, 6: 0.20008871845536458, 8: 0.36463003399716926}, 4705: {2: 0.3014701329517079, 3: 0.41832389841296636, 6: 0.6838705390647148, 8: 0.9042377285525144}, 4723: {3: 0.9343116046727152, 6: 0.9540403584859035, 8: 0.7417624986493254}, 5452: {3: 0.7839940815642853, 8: 0.6488204431280893}, 5506: {8: 0.6874638685870242}, 1279: {1: 0.7104066483162258, 4: 0.0274386657726029, 7: 0.07601044697646864, 8: 0.6095148899950413}, 7846: {4: 0.7980598537681748, 7: 0.2380090388863082}, 15487: {3: 0.09277303437377882, 5: 0.8362319660792188, 6: 0.8223914787950336}, 16216: {3: 0.7427768980506261, 5: 0.4399557638763606}, 16270: {5: 0.42888632031342294}, 14920: {3: 0.6234137263470572, 7: 0.5754456323503717}, 14974: {7: 0.2449341418146408}, 2324: {1: 0.3106490575771662, 2: 0.5936194688094137, 5: 0.4284963966733135, 6: 0.8396414811672264, 8: 0.37679621380350586}, 3053: {1: 0.014703050939388618, 2: 0.7327887332415483, 5: 0.4140744367564865, 8: 0.8968898391622728}, 16175: {1: 0.09885431041261838, 2: 0.7238423940335817, 5: 0.4030535161435316}, 567: {0: 0.35551456333851505, 1: 0.8528706308840018, 2: 0.05616500253194334, 3: 0.7489582952503896, 6: 0.5370003095388877, 7: 0.22300394947710744, 8: 0.4430826722412246}, 1296: {0: 0.9939127427562253, 1: 0.9490610686143484, 2: 0.6635894305645136, 3: 0.11999506212361455, 7: 0.04396470221638793, 8: 0.6511950341469006}, 1298: {1: 0.5503300183212577, 2: 0.45536425890850774, 3: 0.15769644917354886, 7: 0.5745986737602197, 8: 0.8276416432461818}, 7859: {1: 0.7347787349613712, 2: 0.19980615785611566, 3: 0.17037755640297303, 7: 0.43516553343598696}, 7865: {2: 0.37426894048114856, 3: 0.7809005772092291, 7: 0.7176385399097003}, 7892: {2: 0.34840847103296524, 7: 0.1667637611934888}, 3470: {4: 0.9383032956673049, 8: 0.3686169553743385}, 2401: {5: 0.7895350444860569, 6: 0.9272843603176097, 8: 0.768405213394901}, 2436: {0: 0.41174609424881004, 2: 0.9718350981958762, 3: 0.3528704561507977, 4: 0.45593341987377856, 6: 0.9447240363732157, 8: 0.015931000649707316}, 15558: {0: 0.7186480617070198, 2: 0.8708779697730329, 3: 0.8084957305323315, 4: 0.3184930594582752, 6: 0.10386177545910383}, 15567: {0: 0.8669571219745122, 3: 0.4258691717066774, 4: 0.9669899513707532, 6: 0.5378648158419992}, 15729: {0: 0.304361954987843, 3: 0.8522102734226795, 6: 0.6345905763762592}, 15756: {0: 0.3000346513109104, 6: 0.7868390269705118}, 17214: {0: 0.3307093060973576}, 2260: {1: 0.37600361680365035, 4: 0.22983319520812306, 5: 0.8511017034151457, 6: 0.7617896604548063, 8: 0.20911394537650763}, 2503: {1: 0.35432744568701435, 4: 0.5938691177553361, 6: 0.7188643561391023, 8: 0.6622811158574672}, 15625: {1: 0.7617412669096497, 4: 0.7516173490833609, 6: 0.850036414268812}, 15628: {4: 0.9846734262556635, 6: 0.5235802969149144}, 15790: {6: 0.5174643171337273}, 14623: {4: 0.7845306768007975, 5: 0.18491652958504837, 7: 0.9276539545980783}, 16810: {4: 0.038193488738690995, 5: 0.48119886335176143}, 2383: {2: 0.9534915029714177, 5: 0.7963255317457754, 6: 0.8422220459126913, 8: 0.7691914107102106}, 1558: {1: 0.5567919315587888, 3: 0.7708442289094186, 5: 0.6078742975540732, 7: 0.6642510353314962, 8: 0.2013785955960528}, 1585: {1: 0.4548933560348424, 5: 0.5857381093225642, 7: 0.23445558903843222, 8: 0.8366127520177674}, 14707: {1: 0.47272083385117425, 5: 0.15003470801140784, 7: 0.1673419380920771}, 14710: {5: 0.6433489046601962, 7: 0.1854876054393506}, 4651: {2: 0.5885331217025808, 4: 0.011418751712530484, 6: 0.6171490625615135, 8: 0.5261430883852213}, 6109: {2: 0.11347668824951007, 4: 0.2979318290891638, 8: 0.9339725214227107}, 2993: {4: 0.4424269796535826, 5: 0.5160285186678866, 8: 0.21711866623590045}, 3236: {4: 0.4684509108999202, 8: 0.6979205036057663}, 16358: {4: 0.9647034151692762}, 189: {0: 0.2603458713330249, 1: 0.303814611804171, 2: 0.3829627302209113, 5: 0.21256505949568194, 6: 0.18642415071494645, 7: 0.7112527933806008, 8: 0.29265590852127665}, 2376: {0: 0.6667558721907292, 1: 0.6539853542255396, 2: 0.8461654263075747, 5: 0.47082997164834073, 6: 0.5412185663514011, 8: 0.8074268201745355}, 2378: {1: 0.09028712874268363, 2: 0.10465557975447848, 5: 0.6428168902459966, 6: 0.7648818980160714, 8: 0.3667396236024194}, 8939: {1: 0.224376456298096, 2: 0.23296515496997128, 5: 0.5565507475720444, 6: 0.9089725294173161}, 10397: {1: 0.7600047025255294, 2: 0.2995440650320378, 5: 0.7713034688997347}, 10400: {2: 0.3537342120233563, 5: 0.447546595309476}, 1329: {0: 0.5104618068614061, 2: 0.7382042691141129, 7: 0.5436908344528572, 8: 0.0912197072314443}, 1347: {0: 0.18262837930294884, 7: 0.229454445910799, 8: 0.4682978021077878}, 7908: {0: 0.4229132994745895, 7: 0.0972387628473047}, 4489: {2: 0.4753064598755077, 5: 0.20802180301500983, 6: 0.6781637137353378, 8: 0.41674537062350414}, 5947: {2: 0.6248803303559749, 5: 0.28961683498670554, 8: 0.7051401632065438}, 2662: {6: 0.5647198099789068, 8: 0.6399307413218024}, 15784: {6: 0.21037523656370016}, 12922: {4: 0.41939854580745417}, 5400: {0: 0.8043979449673404, 1: 0.04671963777585697, 2: 0.2639027765170935, 4: 0.9278327837912621, 8: 0.2503137981597776}, 5481: {0: 0.7633917818225502, 1: 0.8413956776709121, 2: 0.714673128434269, 8: 0.32285065779000066}, 5487: {0: 0.629431265567029, 2: 0.8304700114419217, 8: 0.486412201369126}, 864: {0: 0.729486291831323, 1: 0.6990947919479119, 2: 0.829031860275376, 5: 0.4081636820410143, 7: 0.8286374790831587, 8: 0.4857864947342404}, 5238: {0: 0.7978349221554809, 1: 0.08383876263481882, 2: 0.6653164714540374, 5: 0.20758212462541203, 8: 0.7769663694661003}, 5239: {1: 0.10620854003617142, 2: 0.7947053540685418, 5: 0.2785372309972534, 8: 0.33199497284360663}, 18361: {1: 0.7593100911622206, 2: 0.57115598143691, 5: 0.2696713824243409}, 18364: {2: 0.8831748256136596, 5: 0.34128169029606503}, 18382: {5: 0.27956843240423174}, 5353: {2: 0.6859699874661945, 3: 0.8191440455641059, 4: 0.312954282099181, 8: 0.20998910253944275}, 5407: {2: 0.7318306429289027, 4: 0.8031399859369409, 8: 0.8269896545017624}, 11968: {2: 0.07189578488873904, 4: 0.8430852634758202}, 326: {1: 0.1171838948754177, 2: 0.7268437536814286, 3: 0.6384686935300763, 6: 0.16630096807015182, 7: 0.7490657789955466, 8: 0.9582871905824243}, 13448: {1: 0.10772341632372251, 2: 0.19636105791982295, 3: 0.31816633797457183, 6: 0.652234310532478, 7: 0.29936846631510083}, 14177: {1: 0.3644981476996171, 2: 0.672461716222643, 3: 0.031041816741264272, 7: 0.5698407399548998}, 14195: {1: 0.43460295768180957, 3: 0.6279672381391409, 7: 0.15337640183272339}, 7557: {0: 0.07964222771629625, 3: 0.08388697405436607, 4: 0.5712925979779485, 7: 0.5256311306776091}, 7719: {0: 0.11121217442655862, 3: 0.532327076417569, 7: 0.4234925569906253}, 5416: {4: 0.785239673934617, 8: 0.5024916709019858}, 7746: {0: 0.5870675168085546, 7: 0.32959447050333834}, 758: {1: 0.3109634528574696, 2: 0.21241814266765935, 4: 0.7128721490961237, 5: 0.9758889221760341, 7: 0.1272509139035285, 8: 0.5751978209777784}, 764: {2: 0.5986616975694405, 4: 0.023097946101482636, 5: 0.8777419785787145, 7: 0.2787997521114137, 8: 0.7444731041944161}, 1007: {2: 0.25802458300559145, 4: 0.2780765095326482, 7: 0.1278853235919163, 8: 0.09682797932021703}, 1169: {2: 0.8559470458856191, 7: 0.5798567158966891, 8: 0.7927806175263606}, 15552: {0: 0.6999016120333496, 1: 0.11293692108967057, 2: 0.6324529717217908, 3: 0.05409180237762612, 4: 0.6066629861375716, 6: 0.5611165557336816}, 15554: {1: 0.4157602839541099, 2: 0.6804883246607519, 3: 0.06837323071128065, 4: 0.35622853574274316, 6: 0.9694608180562193}, 16283: {1: 0.29200190601174747, 2: 0.021526230297590265, 3: 0.050628040531837115, 4: 0.5531937792013671}, 18475: {2: 0.5021067999251788, 3: 0.7310472171326555, 4: 0.37212766117074547}, 4626: {0: 0.18853126994310654, 1: 0.5724401549579067, 3: 0.3444318376771093, 4: 0.2073668900631338, 6: 0.6789366826863932, 8: 0.6504497920572775}, 6084: {0: 0.2615387560842679, 1: 0.5227020901653463, 3: 0.13975747177707853, 4: 0.8828111499243998, 8: 0.37416929575830743}, 6165: {0: 0.07739492566722328, 1: 0.08794055889899566, 3: 0.5405584053535634, 8: 0.1672500311456043}, 12636: {0: 0.6313233700446121, 1: 0.3945233562648094, 2: 0.10666295021640049, 3: 0.9016095913836941, 4: 0.1592943292223774}, 12637: {1: 0.9217300384809788, 2: 0.4684898561725357, 3: 0.8777141631819939, 4: 0.6105332277125226}, 12799: {1: 0.3641275978672316, 2: 0.47708403999064897, 3: 0.7718859397958886}, 12826: {1: 0.314886140610924, 2: 0.4587796912269796}, 297: {0: 0.8673825094498971, 1: 0.593006620134681, 2: 0.7512896672158028, 4: 0.8477958725996562, 6: 0.7212501151828221, 7: 0.8819822951400866, 8: 0.9251107030768457}, 6858: {0: 0.7925669977329826, 1: 0.6611233270287843, 2: 0.9143162202332331, 4: 0.6345922984758104, 6: 0.206436573472353, 7: 0.013162169233651766}, 6957: {0: 0.7081925978274404, 1: 0.13263698706401827, 6: 0.8564551957897953, 7: 0.20760268019551484}, 8415: {0: 0.6186556531406456, 1: 0.708161744496045, 7: 0.9101092574575045}, 8418: {0: 0.7094411359422306, 7: 0.9633241929243724}, 18639: {0: 0.8250577380571309, 1: 0.4921519439417876, 3: 0.8288268809414585}, 18666: {0: 0.154569518453325, 1: 0.49983171774479196}, 1701: {0: 0.7218957091608148, 1: 0.9506525921670941, 2: 0.30822213602947723, 3: 0.8172315680977864, 4: 0.27272168531760843, 7: 0.5622540921266713, 8: 0.563966363130055}, 1704: {0: 0.8963361440148179, 2: 0.5405520248475997, 3: 0.36478409646930154, 4: 0.633407132842887, 7: 0.7323087526633568, 8: 0.4573455286274669}, 1706: {2: 0.5732459873223372, 3: 0.8235486164408515, 4: 0.37405950634322305, 7: 0.3324973123445032, 8: 0.22618506627889925}, 3893: {2: 0.6954443427028495, 3: 0.02064917818647416, 4: 0.9901043274860145, 8: 0.5453580276794174}, 4055: {2: 0.3513750508870689, 3: 0.6273780602805632, 8: 0.6964010279071717}, 10616: {2: 0.6856753608511883, 3: 0.12821283098529246}, 2250: {0: 0.24194314368849446, 1: 0.0997742258332357, 4: 0.804941433148271, 5: 0.5398993460667447, 6: 0.20414516598231192, 8: 0.30276442280941385}, 2412: {0: 0.5843709965435901, 1: 0.39106256259886274, 5: 0.40753412545931467, 6: 0.4126026747848226, 8: 0.6998473009802338}, 8973: {0: 0.5829408579030588, 1: 0.2687830646464855, 5: 0.779843399345281, 6: 0.116640103334967}, 783: {0: 0.3926156086348743, 1: 0.7174407253180933, 2: 0.414902330994834, 4: 0.5510267199222856, 5: 0.2933856955939891, 7: 0.3299308576613593, 8: 0.6185673781147608}, 786: {0: 0.8016803247349462, 2: 0.7053129363024546, 4: 0.08840932637792787, 5: 0.3279096550100703, 7: 0.34794980152556476, 8: 0.5870770675402347}, 17500: {2: 0.3668281241976191, 3: 0.8650023953414875, 4: 0.5473075948857883, 5: 0.3470553098547965, 6: 0.42667015337587133}, 18229: {2: 0.8146608299633733, 3: 0.5931287842792958, 4: 0.4623975402516034, 5: 0.2915218566681426}, 18247: {3: 0.09535129329448189, 4: 0.7348597778571103, 5: 0.5282414889475895}, 18328: {3: 0.07350972853622384, 5: 0.9496931239412506}, 752: {3: 0.3605445015257037, 4: 0.8082174265109819, 5: 0.9163359776897543, 7: 0.052561933930327924, 8: 0.9512036715800765}, 7313: {3: 0.11616213449241086, 4: 0.21859430823430082, 5: 0.5138565230393287, 7: 0.07368465177900489}, 7799: {3: 0.23539102479533114, 4: 0.135655430001985, 7: 0.7280353690800857}, 18468: {0: 0.6346319156819148, 1: 0.41139323969927266, 2: 0.8199977540455945, 3: 0.78519827597815, 4: 0.7915319862992818}, 18471: {0: 0.3261186702861677, 2: 0.4541991756731304, 3: 0.7711982064106563, 4: 0.2152379071995273}, 18525: {0: 0.5925440726819128, 2: 0.4258920830233315, 4: 0.47503733646182367}, 18606: {0: 0.3686479531744644, 2: 0.4486879857172317}, 18624: {0: 0.8878444668743312}, 5647: {2: 0.9705313957487449, 4: 0.25167378956390263, 8: 0.6087961547030502}, 5391: {0: 0.7451968935292367, 1: 0.17328122169652305, 4: 0.27757404997993307, 8: 0.5637280177778772}, 5393: {1: 0.036692553446336595, 4: 0.5647987194755841, 8: 0.6151699941193517}, 11954: {1: 0.15264494026408715, 4: 0.7258057363162661}, 12116: {1: 0.42016848127816486}, 5433: {0: 0.12143146597651822, 2: 0.8221216422738585, 3: 0.06199708333237142, 8: 0.4908617646817318}, 5451: {0: 0.7856519477694773, 3: 0.7886760413319289, 8: 0.03911808974561215}, 4698: {0: 0.9284083260130707, 1: 0.22990361026700523, 2: 0.04355447911360544, 3: 0.5553216792991633, 6: 0.11147286935775633, 8: 0.13577478215920177}, 4700: {1: 0.009409488402040034, 2: 0.9380232920434456, 3: 0.6705301397209925, 6: 0.5249446056523489, 8: 0.5466990235121494}, 11913: {0: 0.9593944861818627, 2: 0.1495603093059884, 3: 0.06533910036800639, 4: 0.9212412510177851}, 11915: {2: 0.738384394451163, 3: 0.8022605547468259, 4: 0.32626686034705676}, 11942: {2: 0.7356598156848123, 4: 0.9345352905091722}, 5348: {1: 0.817289876018326, 2: 0.08780897355455386, 3: 0.9095949130832793, 4: 0.14757015848167843, 8: 0.20720555553195158}, 5375: {1: 0.7379066267299111, 2: 0.002028000120070983, 4: 0.2556105912432367, 8: 0.3095330803767239}, 5381: {2: 0.9182163777375079, 4: 0.10745407776781046, 8: 0.20458010773990903}, 5390: {4: 0.92323570542484, 8: 0.34129939977261514}, 18477: {0: 0.14613265834583788, 1: 0.7729108013011756, 3: 0.3875100728151374, 4: 0.8178679821956353}, 18483: {0: 0.7075945615766693, 3: 0.34283626667555156, 4: 0.5447040653655019}, 18510: {0: 0.11465269275319989, 4: 0.7355932509209004}, 18484: {3: 0.7498939153787738, 4: 0.17191649104472445}, 5379: {0: 0.18702811598445362, 2: 0.3756306474926928, 4: 0.5706155205719214, 8: 0.5635018729773935}, 2676: {0: 0.7018070014525856, 2: 0.34753465458665467, 3: 0.32831348957397977, 4: 0.8094502379741573, 6: 0.06972795770704654, 8: 0.549082206028636}, 2838: {0: 0.5597852983170103, 2: 0.11689932152822424, 3: 0.9374343780550826, 6: 0.29537007436999574, 8: 0.3306649044237491}, 2865: {0: 0.032125741877171654, 2: 0.762962283980709, 6: 0.6851339505024101, 8: 0.7570690128983415}, 2883: {0: 0.7794036867079928, 6: 0.540490020813813, 8: 0.10656620922033067}, 2884: {6: 0.28482595655280885, 8: 0.9500542147977276}, 5572: {1: 0.3273328990284798, 8: 0.8506233499736701}, 18694: {1: 0.44811791420855906}, 18512: {4: 0.7450432404114268}, 258: {0: 0.6182102811647051, 3: 0.0562150949220247, 4: 0.4650598777846604, 6: 0.5985301421996828, 7: 0.6798040491506676, 8: 0.3739121143786711}, 4632: {0: 0.37487215266017593, 3: 0.5031583141505969, 4: 0.6499710287937883, 6: 0.8449547164523757, 8: 0.5492442767683517}, 18531: {0: 0.5959715170525092, 1: 0.5670008926290308, 4: 0.34767789207435296}, 18532: {1: 0.5932699799989919, 4: 0.4695786878796254}, 11232: {0: 0.3872779572155055, 1: 0.9918158903997198, 2: 0.12099809420854535, 4: 0.2007753416713013, 6: 0.8308124875007715}, 11235: {0: 0.5145071303647795, 2: 0.8723891554520968, 4: 0.29460572322465917, 6: 0.3268341951465105}, 11253: {0: 0.422710406863573, 4: 0.23936475637511734, 6: 0.6208763634771893}, 11982: {0: 0.4677251252291817, 4: 0.6727007570280099}, 12144: {0: 0.4266402173577839}, 13620: {0: 0.8518608445809932, 3: 0.14958640955302427, 4: 0.5461240265964973, 6: 0.6163266014605913, 7: 0.6771721988144832}, 14349: {0: 0.4411001209524281, 3: 0.8313859511186851, 4: 0.20829626109859156, 7: 0.26131802725399733}, 14403: {0: 0.7348607134345446, 4: 0.8312477159207383, 7: 0.5663950707335087}, 2205: {0: 0.28139922414478685, 1: 0.4801319409482503, 3: 0.922026379315468, 4: 0.01604920119314568, 5: 0.7268686926080108, 6: 0.44245363054908277, 8: 0.925124118090923}, 10602: {0: 0.9269368197490655, 1: 0.7383660657455967}, 18549: {0: 0.17095438576112165, 1: 0.7535619703553094, 2: 0.3290290979987418, 3: 0.06027739275330181}, 18555: {0: 0.13143824793013759, 2: 0.6581253572054503, 3: 0.20723529828071496}, 18067: {2: 0.6581618036368676, 3: 0.08911094392234076, 6: 0.2671642701590939}, 408: {0: 0.4896734631166879, 2: 0.23662762106601853, 3: 0.25990802455425277, 6: 0.39011935248289775, 7: 0.20395817129828453, 8: 0.1230856266520691}, 410: {2: 0.5912813980756486, 3: 0.18929018408939702, 6: 0.013570903582188376, 7: 0.582264869112612, 8: 0.6119006796826123}, 6971: {2: 0.5967138859919742, 3: 0.39357262643996016, 6: 0.3709682632090382, 7: 0.6179165697280268}, 8429: {2: 0.7590915349469823, 3: 0.8609502765609311, 7: 0.6985922752851709}, 8456: {2: 0.647174326880117, 7: 0.837509678880776}, 12830: {2: 0.938758667458208}, 5397: {0: 0.6499804358723459, 4: 0.886056207964214, 8: 0.1790500269483185}, 18495: {0: 0.014290816472213308, 1: 0.4371088075947672, 2: 0.714793615480317, 4: 0.22582951805083432}, 18513: {0: 0.9107175350805343, 1: 0.1558855743038563, 4: 0.7817154690764436}, 4709: {1: 0.8438479527807216, 3: 0.7529434823004044, 6: 0.16829025252273422, 8: 0.3080926043500092}, 8349: {0: 0.5781266831766448, 2: 0.16025282190003998, 3: 0.6823651492663657, 7: 0.8555544922828421}, 12723: {0: 0.23816755539166035, 2: 0.6103182354982474, 3: 0.4320780312474848}, 13446: {0: 0.13971154074660563, 1: 0.3428083862581026, 2: 0.2120273289019795, 3: 0.473727325994063, 6: 0.47273444772010165, 7: 0.29533439893122687}, 13500: {0: 0.5618806572909874, 1: 0.25754908632014584, 2: 0.073724078440628, 6: 0.5689956776614669, 7: 0.6770373932054403}, 15687: {0: 0.40676054735225486, 1: 0.7474168263761419, 2: 0.5047530517757288, 6: 0.48288460783094983}, 15689: {1: 0.5298261400654073, 2: 0.6166090671420623, 6: 0.9475554820959446}, 16418: {1: 0.9036119613780701, 2: 0.17622352077655007}, 16424: {2: 0.6866674210733935}, 3123: {0: 0.5948638664768028, 1: 0.16302412620869433, 5: 0.532820603322094, 8: 0.21593512392678268}, 3125: {1: 0.5271066292034472, 5: 0.8135954240093277, 8: 0.34148811374557253}, 3368: {1: 0.9838096893901213, 8: 0.26461775891615347}, 8955: {0: 0.34474735713950433, 1: 0.6208733561315996, 5: 0.591956561021144, 6: 0.4836145230917457}, 8961: {0: 0.3955331593859067, 5: 0.8591677887874767, 6: 0.4012750069085879}, 9204: {0: 0.06601750571921339, 6: 0.3530496126492456}, 5535: {0: 0.826075302459849, 1: 0.22648192139692158, 2: 0.6459906442268536, 8: 0.0553317416204373}, 18657: {0: 0.349775561571558, 1: 0.4846759313344634, 2: 0.4185871034247005}, 18660: {0: 0.7649932467341173, 2: 0.8668234804041024}, 18678: {0: 0.6827893487867327}, 18640: {1: 0.6861692245530443, 3: 0.4376470050944574}, 287: {4: 0.10634936797304095, 6: 0.6479103745418564, 7: 0.45108448116770694, 8: 0.10928017219631674}, 1745: {4: 0.8065419143385397, 7: 0.6240588870462207, 8: 0.1702003512945054}, 1462: {2: 0.6839840159116013, 3: 0.52951598495439, 4: 0.24616869532664698, 5: 0.14768859429771042, 7: 0.30664837667285205, 8: 0.22905396916406123}, 1516: {2: 0.4794892389639934, 4: 0.3940395281845911, 5: 0.9732767349172959, 7: 0.9173896223170003, 8: 0.118573340082146}, 1759: {2: 0.7151853972448663, 4: 0.6625624722689508, 7: 0.3072652301695864, 8: 0.7284456645179751}, 14881: {2: 0.7229804792837203, 4: 0.5988379422341242, 7: 0.9137918504449818}, 17068: {2: 0.770326454134111, 4: 0.8851576577781554}, 17230: {2: 0.685135125359182}, 4650: {0: 0.7081026752048768, 2: 0.8464054714310325, 4: 0.3540749676654087, 6: 0.6238764011565149, 8: 0.6441445142040764}, 4659: {0: 0.8938908563641139, 4: 0.507847339011183, 6: 0.6131760808400305, 8: 0.39253510252311524}, 4661: {4: 0.894361356321106, 6: 0.3662844086501972, 8: 0.3468506137188445}, 6984: {0: 0.06560937608540796, 1: 0.8082443441411608, 3: 0.46372009042034557, 6: 0.6074687653856746, 7: 0.41930000629017244}, 6987: {0: 0.3940267177587109, 3: 0.902718516412915, 6: 0.48925843182732165, 7: 0.3521274666514827}, 7041: {0: 0.42266224447465084, 6: 0.5380141407595148, 7: 0.9163024644715397}, 9228: {0: 0.5753625033183404, 6: 0.6487926111059079}, 12048: {0: 0.528902474767836, 2: 0.1757114215434345}, 12050: {2: 0.710076939336545}, 17820: {0: 0.29581256567006375, 1: 0.8358484941073706, 2: 0.17731813781288752, 3: 0.5538895749994193, 6: 0.687799251398899}, 17823: {0: 0.9532229409811448, 2: 0.7175845201974113, 3: 0.44421442356754604, 6: 0.7605584136946864}, 17825: {2: 0.8718456674300059, 3: 0.5535602672591452, 6: 0.7019196984755917}, 17834: {3: 0.2886524053274112, 6: 0.05648998945331874}, 17888: {6: 0.18025231103949155}, 17827: {2: 0.15658373813050486, 3: 0.6914717533907393, 6: 0.626058711043244}, 1733: {2: 0.7683441735246742, 4: 0.2690696992028596, 7: 0.2714994213205516, 8: 0.7478069816420011}, 6107: {2: 0.9567716980535238, 4: 0.4452973768473599, 8: 0.12649142639646346}, 6116: {4: 0.34802270355363074, 8: 0.17727369713685573}, 6278: {8: 0.4562072394292666}, 6219: {0: 0.14460100802087117, 1: 0.23250689541204062, 8: 0.5036835229900952}, 3069: {0: 0.7571086358652573, 1: 0.27311286423907166, 5: 0.4248442578293518, 8: 0.5242744848947065}, 3071: {1: 0.4729705534442631, 5: 0.0944049105695417, 8: 0.29417685407539085}, 2881: {1: 0.5975882132938823, 6: 0.3842683418408317, 8: 0.2738242695196572}, 1788: {0: 0.9874895801537223, 2: 0.9604121241892598, 3: 0.43111539756972417, 7: 0.6185103876722179, 8: 0.7674215929188046}, 1789: {2: 0.9577058998131597, 3: 0.8115213814892059, 7: 0.7626203631313615, 8: 0.7698753696289693}, 1807: {3: 0.7854938751263116, 7: 0.32980730499051847, 8: 0.5422290769451149}, 1751: {4: 0.11659577211209537, 7: 0.7767075897910775, 8: 0.9819488903202919}, 8312: {4: 0.4024298034721122, 7: 0.48995679082474985}, 3435: {0: 0.2359258141339714, 2: 0.22601284099943741, 4: 0.7469401291166273, 8: 0.6414488749431497}, 3597: {0: 0.9933168117276908, 2: 0.9725366920338917, 8: 0.5286686199236871}, 12290: {2: 0.5191300641657945}, 13991: {2: 0.46539238885246037, 5: 0.2290995533449438, 7: 0.3206099531107328}, 5675: {2: 0.09241301983041839, 3: 0.19793972674441623, 8: 0.7465680012551157}, 12236: {2: 0.765919800255252, 3: 0.6178510273030566}, 870: {0: 0.7000398917032223, 2: 0.5073738978771523, 5: 0.6645289700250308, 7: 0.828418577679292, 8: 0.8939300707930925}, 7431: {0: 0.8265792965093983, 2: 0.3667350190525236, 5: 0.3087949377418572, 7: 0.6587799461963272}, 7917: {0: 0.5164705338825649, 2: 0.057462915897278255, 7: 0.4712400549573546}, 13851: {0: 0.934620925129621, 1: 0.7068343560831614, 2: 0.20204526439901527, 3: 0.4172326391126078, 4: 0.3953043924251922, 5: 0.8940782978874389, 7: 0.678610762062072}, 13852: {1: 0.24641602757685988, 2: 0.5984363222692198, 3: 0.8800370187960844, 4: 0.07209941091230798, 5: 0.67777551408007, 7: 0.5191057738650169}, 13906: {1: 0.7227020910164197, 2: 0.26537446581430624, 4: 0.1965956979965332, 5: 0.5061414225759592, 7: 0.7778266350075266}, 16093: {1: 0.48302398010806935, 2: 0.9558286724951015, 4: 0.3687014447599522, 5: 0.2098613687266787}, 16579: {1: 0.9431977536094329, 2: 0.8299653596555089, 4: 0.20390991885530713}, 16582: {2: 0.44932415237007606, 4: 0.5575844941597597}, 13858: {2: 0.7703801175264408, 3: 0.7284158502319372, 4: 0.06858823635238775, 5: 0.7160116710147854, 7: 0.19310732098115088}, 13867: {3: 0.46627190775457716, 4: 0.06309725774490083, 5: 0.5470532008424706, 7: 0.11809896408897881}, 14353: {3: 0.8137903004978423, 4: 0.7049356487815563, 7: 0.5448696760574872}, 891: {0: 0.714765938251729, 1: 0.8097402739149862, 2: 0.4928529855426983, 3: 0.9647391126151876, 5: 0.6225800825263302, 7: 0.4334206583236754, 8: 0.3822997349813801}, 918: {0: 0.853887627287371, 1: 0.20843899921352538, 2: 0.8435840765885713, 5: 0.9916753715076866, 7: 0.5069391293459645, 8: 0.9816627867901463}, 1404: {0: 0.48883738214269634, 1: 0.4940603862599581, 2: 0.9514715951241902, 7: 0.7346135375170945, 8: 0.17381162893189983}, 7965: {0: 0.03951289887005471, 1: 0.4663452903114077, 2: 0.9664369097789027, 7: 0.6581872690222623}, 7983: {0: 0.2907072074760596, 1: 0.8534350041370167, 7: 0.5183967507628799}, 7986: {0: 0.4040131636297672, 7: 0.3278356148857775}, 7349: {2: 0.76042973754818, 4: 0.11168482657011602, 5: 0.6385299936073362, 7: 0.24279898955176463}, 7367: {4: 0.6809279921304001, 5: 0.5667335541520425, 7: 0.10010985681810375}, 7448: {5: 0.5321880305827302, 7: 0.11778711596156075}, 7934: {7: 0.4816658005111625}, 995: {3: 0.5500914558373439, 4: 0.2624745045128051, 7: 0.9731771045107347, 8: 0.514007151819172}, 5369: {3: 0.8674322489711134, 4: 0.6932724816903689, 8: 0.25395073179666533}, 5396: {4: 0.3833693231685078, 8: 0.37550293733129014}, 5558: {8: 0.8840046323210977}, 4383: {0: 0.8248456841184343, 1: 0.8409224372856413, 3: 0.7506006073207749, 4: 0.5022217390992276, 5: 0.2534663866868849, 6: 0.2721515730413646, 8: 0.46278890167118575}, 4386: {0: 0.23187032355037274, 3: 0.6648672317885037, 4: 0.1549316712933917, 5: 0.29810371980647277, 6: 0.8093790808601872, 8: 0.4765261864174228}, 4388: {3: 0.6513631359429656, 4: 0.6577051765337244, 5: 0.929751025326451, 6: 0.2490379047209893, 8: 0.834840027962488}, 4469: {3: 0.7374853897748495, 5: 0.3620317238030988, 6: 0.3671272940517156, 8: 0.41408457303951973}, 4523: {5: 0.8344119720790395, 6: 0.7241567979905517, 8: 0.6796733816674064}, 4766: {6: 0.5162656351181005, 8: 0.06550198063145252}, 87: {0: 0.7994577398065378, 2: 0.28531367152941367, 3: 0.4001247606330163, 5: 0.20746952076881087, 6: 0.06204718911599971, 7: 0.638617880787694, 8: 0.7315638423087357}, 378: {0: 0.06401305104388755, 1: 0.7832548577610529, 2: 0.184601447206319, 6: 0.43437722471560336, 7: 0.19838035554290467, 8: 0.7809376765133128}, 15705: {0: 0.26119783903845784, 1: 0.5951451760522197, 6: 0.9556753610844585}, 16434: {0: 0.0300989005003226, 1: 0.9749356935867552}, 16436: {1: 0.8871623542911399}, 21: {0: 0.7117449019661285, 3: 0.11939821433026032, 4: 0.32039222540686174, 5: 0.058276775726961105, 6: 0.4511797470686524, 7: 0.05820995029336462, 8: 0.17646828995453223}, 144: {0: 0.5886720880414925, 1: 0.2425959266371015, 5: 0.43643902438308446, 6: 0.6617841234437452, 7: 0.8537445525015055, 8: 0.8470596740326214}, 13266: {0: 0.046622150360032366, 1: 0.7553866673368346, 5: 0.5153161605927308, 6: 0.3698424062867105, 7: 0.31520918859088626}, 13269: {0: 0.8717276646199706, 5: 0.6388327059667837, 6: 0.6393468429772468, 7: 0.14221556332269633}, 13271: {5: 0.9504153211870617, 6: 0.31115867123403435, 7: 0.9225838914660869}, 13514: {6: 0.7220136439857722, 7: 0.6326287674391243}, 3781: {1: 0.24481718089910642, 2: 0.9472586502854549, 5: 0.033433837387243814, 8: 0.7056170328413814}, 1596: {0: 0.27955730038271964, 2: 0.5186059806717352, 5: 0.4905403675111233, 7: 0.6146950270555561, 8: 0.12864260786778325}, 4512: {0: 0.34978730807671243, 2: 0.21232782032484976, 5: 0.7836010750494844, 6: 0.6207249641354338, 8: 0.8139401245662933}, 11073: {0: 0.3518348233098231, 2: 0.9421053899293871, 5: 0.6720623709213069, 6: 0.4075578812401932}, 11091: {0: 0.8019554974168362, 5: 0.2832147896476831, 6: 0.586608023098376}, 140: {2: 0.492330500597991, 5: 0.2397804528570161, 6: 0.934894501037464, 7: 0.3239514930861957, 8: 0.9934139883786393}, 6701: {2: 0.9699529332919574, 5: 0.12056257709173412, 6: 0.628737253729818, 7: 0.1806507858358021}, 6719: {5: 0.23933781071362803, 6: 0.10116695978036372, 7: 0.08420463835991632}, 6962: {6: 0.5615649459988268, 7: 0.5903896368226542}, 11523: {0: 0.21402115374992026, 3: 0.3221872988745421, 6: 0.387390777308124}, 12252: {0: 0.30794871445420124, 3: 0.8087497558905948}, 12306: {0: 0.6959848651266751}, 5257: {1: 0.1613826456522095, 5: 0.10508440184189494, 8: 0.8322220573966814}, 157: {5: 0.08225486255628778, 6: 0.5851436842239559, 7: 0.14366831633714527, 8: 0.5032163215748346}, 1615: {5: 0.8395918413615941, 7: 0.7267355507009877, 8: 0.6085401708828835}, 1858: {7: 0.5396090227216914, 8: 0.3961333027533189}, 6232: {8: 0.5183939454571096}, 1151: {3: 0.7445917454372368, 7: 0.44323813778747934, 8: 0.7104643063766181}, 3421: {1: 0.5855328885865225, 3: 0.36782034479579984, 4: 0.1273306030235274, 8: 0.6752589638403593}, 4377: {0: 0.5314420158211038, 2: 0.9471818038521077, 3: 0.6915181448686817, 4: 0.4842681583956029, 5: 0.27552724850427224, 6: 0.6798635773481098, 8: 0.8207690124224912}, 5844: {0: 0.00338505348321394, 3: 0.40480286748902516, 4: 0.9832656028159478, 5: 0.1112669661280285, 8: 0.5068658400078383}, 12405: {0: 0.25644720567169454, 3: 0.518850084433717, 4: 0.5811045195234821, 5: 0.9766615235138636}, 13932: {0: 0.05593108424640303, 1: 0.4185101689933153, 2: 0.4687719854860275, 3: 0.6989781013191376, 5: 0.3859458012932533, 7: 0.19356793564008218}, 13986: {0: 0.6567023970935186, 1: 0.9777956726874721, 2: 0.20160044966592017, 5: 0.4077947538007973, 7: 0.24726527456576503}, 13987: {1: 0.5040035855889392, 2: 0.5221450570132932, 5: 0.5242953941678725, 7: 0.703223368118881}, 13698: {0: 0.03457869621430443, 1: 0.51519774660969, 3: 0.22601315956542056, 6: 0.18725739334073238, 7: 0.5239577830636033}, 15885: {0: 0.48909150300007886, 1: 0.540638584895145, 3: 0.6945382090450192, 6: 0.59485435901003}, 15939: {0: 0.766456668702087, 1: 0.6035707251164636, 6: 0.2713947218486636}, 747: {0: 0.3471312243625235, 1: 0.35876986418632884, 3: 0.36592362925412736, 4: 0.4806409209890058, 5: 0.3303287777681986, 7: 0.05268526485592928, 8: 0.2215110710478861}, 828: {0: 0.13531022283754868, 1: 0.40772076688332637, 3: 0.5789353227880665, 5: 0.7008136197444115, 7: 0.6767061992874727, 8: 0.416454071366807}, 1314: {0: 0.6622725373586947, 1: 0.8428049518869146, 3: 0.7616101392426015, 7: 0.6028022795236816, 8: 0.5943928368989256}, 1317: {0: 0.6315370093628307, 3: 0.5851802459243628, 7: 0.24377818606181312, 8: 0.3633449243678839}, 1319: {3: 0.4573940708152825, 7: 0.2778726198258174, 8: 0.7780381671200645}, 7880: {3: 0.6646673090774995, 7: 0.4777563960949649}, 99: {0: 0.4681572705641808, 1: 0.04443471175423397, 3: 0.8549739888910661, 5: 0.5508393016551465, 6: 0.1100633331642709, 7: 0.6885654196481932, 8: 0.45086246971744526}, 126: {0: 0.6323205314777153, 1: 0.9254996366254682, 5: 0.8058902878489537, 6: 0.024954710264960323, 7: 0.7481002430290197, 8: 0.8566369743009665}, 132: {0: 0.8594766009880463, 5: 0.439141065675158, 6: 0.9287921893322026, 7: 0.24930268328450744, 8: 0.30401657682909844}, 6693: {0: 0.2714611655088841, 5: 0.20700887806395019, 6: 0.8636558542733259, 7: 0.2948777233409646}, 7187: {2: 0.7279332723221642, 6: 0.8627115187963081, 7: 0.4395740653764417}, 7916: {2: 0.49308360108708704, 7: 0.7139906286536848}, 8766: {0: 0.8819112649599908, 1: 0.9656132460536969, 3: 0.8998163061107322, 4: 0.5735680277994822, 5: 0.17567402966167434, 6: 0.3504785526327895}, 8772: {0: 0.7420373305381758, 3: 0.6918006017764605, 4: 0.5655176277831806, 5: 0.006740016342483002, 6: 0.9294403039329305}, 9380: {1: 0.39091889165437155, 6: 0.6327845471042916}, 902: {1: 0.4435057703020636, 3: 0.7469432775855306, 5: 0.4788580836695234, 7: 0.5423432921698745, 8: 0.859349780526476}, 7463: {1: 0.133515290994362, 3: 0.6123382987504532, 5: 0.5225191554980924, 7: 0.8632738393149878}, 11837: {1: 0.9763815118857445, 3: 0.5072744074472613, 5: 0.16245110723660788}, 11840: {3: 0.9473759234063105, 5: 0.35923937883361845}, 11894: {5: 0.19969850920104054}, 624: {0: 0.0333843887236811, 2: 0.7711067067376309, 6: 0.9128178728687393, 7: 0.21707955359632014, 8: 0.25353354223775815}, 1353: {0: 0.38403685213218397, 2: 0.8687963209022881, 7: 0.09784599950386541, 8: 0.7799591261623724}, 1371: {0: 0.9372048225550408, 7: 0.4812473309815387, 8: 0.7697823455512662}, 1372: {7: 0.6739785283118788, 8: 0.8617506958548793}, 619: {6: 0.8266652769237288, 7: 0.16764964777433067, 8: 0.8404641481399124}, 5500: {1: 0.06940371143274457, 8: 0.24833793883821376}, 18622: {1: 0.6111766489588125}, 1350: {0: 0.7840349315278531, 1: 0.4278321129307363, 2: 0.008381020962238916, 7: 0.26303591999848297, 8: 0.6925493024625697}, 1351: {1: 0.36724042440532767, 2: 0.842372900816176, 7: 0.4325270663880686, 8: 0.13642801929714216}, 1369: {1: 0.8326824634854098, 7: 0.2525304406829274, 8: 0.800011346950353}, 1461: {0: 0.4094018781365836, 2: 0.30006021150514617, 3: 0.9909358079464606, 4: 0.641481480716558, 5: 0.5047538748946228, 7: 0.10171966201851423, 8: 0.33599933372774626}, 2328: {0: 0.033099564603219056, 2: 0.013393591254116766, 5: 0.39819429023235275, 6: 0.8264688204357074, 8: 0.518027611940442}, 3057: {0: 0.21618889177518297, 2: 0.948869054613513, 5: 0.614018698229065, 8: 0.5589955407624714}, 3059: {2: 0.6351109294702655, 5: 0.2059681297710051, 8: 0.08861934060099896}, 13989: {0: 0.5468065124000295, 2: 0.010764004968836893, 5: 0.900369299520787, 7: 0.22326836475361667}, 14475: {0: 0.12187562193364665, 2: 0.7112200781090341, 7: 0.2876943061903421}, 882: {0: 0.34436627137527065, 1: 0.07735407550379714, 5: 0.77286310612298, 7: 0.7070540859665919, 8: 0.4908416380089659}, 1125: {0: 0.5673673427720319, 1: 0.2817096581665889, 7: 0.3062383779143926, 8: 0.6765709086544607}, 14247: {0: 0.13685574129489164, 1: 0.5864431896202659, 7: 0.5330160078352906}, 14250: {0: 0.23626254509348646, 7: 0.6472407759735533}, 14252: {7: 0.7217952231466477}, 2918: {1: 0.6103443958833504, 2: 0.6968155768729164, 3: 0.6418055190239856, 4: 0.4780365442456398, 5: 0.5253316750402979, 8: 0.9691974119076451}, 16040: {1: 0.7799407174608562, 2: 0.4122559496850068, 3: 0.5843479375401008, 4: 0.31410719963427824, 5: 0.11347967773585713}, 16043: {2: 0.5060549707269584, 3: 0.2866762787507181, 4: 0.09673368291377892, 5: 0.2528266996015974}, 16529: {2: 0.8123069281729441, 3: 0.7837799293053633, 4: 0.5838025443076945}, 16538: {3: 0.8481249843024787, 4: 0.3010314670865323}, 16592: {4: 0.5200548639267517}, 1539: {0: 0.6971473685404856, 1: 0.2425038554016814, 2: 0.14093481146967413, 3: 0.1707823436056154, 5: 0.06826460145038526, 7: 0.12812864763948828, 8: 0.6239403891536066}, 1540: {1: 0.5603477557605346, 2: 0.20033186543034442, 3: 0.8339959933277786, 5: 0.44232055983577956, 7: 0.145438106953643, 8: 0.2594511271083004}, 1594: {1: 0.9945357629179836, 2: 0.8902415585816575, 5: 0.17870717248007417, 7: 0.6057297628231147, 8: 0.5671176838992187}, 1597: {2: 0.22021438848666341, 5: 0.8591346329488487, 7: 0.17594670458640949, 8: 0.13763790785620822}, 2083: {2: 0.14659267779979113, 7: 0.8948090810289206, 8: 0.7349150395590764}, 7433: {2: 0.8895036122168881, 5: 0.13677558260946598, 7: 0.3138938551487519}, 4402: {1: 0.4163975021723836, 2: 0.5719386646671605, 4: 0.28096918821561045, 5: 0.5951171196374894, 6: 0.3495781973010541, 8: 0.8206773170219022}, 861: {0: 0.917952072436034, 5: 0.6248077336183386, 7: 0.015106028091149915, 8: 0.712447921169824}, 5245: {2: 0.8052297207031522, 5: 0.8231120116607296, 8: 0.38093205905268757}, 3501: {0: 0.2479903614418284, 1: 0.3276421437388203, 3: 0.08571046411096817, 8: 0.7826960795590208}, 83: {1: 0.44575394909688004, 2: 0.2910261810121182, 3: 0.6971802294434686, 5: 0.5860672592299181, 6: 0.6784185605716191, 7: 0.11120491759656725, 8: 0.44490290889766565}, 92: {1: 0.616389432990325, 3: 0.49330595762390994, 5: 0.07911463850502376, 6: 0.002559431059179218, 7: 0.632653085375754, 8: 0.7829019289519679}, 13214: {1: 0.7712877739860945, 3: 0.6675465441492969, 5: 0.6169318039283938, 6: 0.8884413027144309, 7: 0.7309122526070925}, 6696: {0: 0.08202664449449382, 1: 0.030111136724409904, 2: 0.35646854339505796, 5: 0.8732961084408035, 6: 0.6010373108964069, 7: 0.8537059517518232}, 11070: {0: 0.5626512509376056, 1: 0.311437968058738, 2: 0.008648759781923698, 5: 0.3175719359646776, 6: 0.2981249319220261}, 11079: {0: 0.419344219546246, 1: 0.29735035302412893, 5: 0.6906860943249591, 6: 0.28618387889177826}, 11565: {0: 0.24651839731636, 1: 0.2240795324185234, 6: 0.34791339079467626}, 11568: {0: 0.7783413939329218, 6: 0.3182504619178023}, 11570: {6: 0.6219995436661397}, 14248: {1: 0.10189029721943998, 7: 0.5854659541370151}, 6698: {1: 0.2806893691613699, 2: 0.43979929987876565, 5: 0.697623813722602, 6: 0.33673937340499305, 7: 0.22393157984584805}, 6941: {1: 0.19767978479468085, 2: 0.9799205137976832, 6: 0.9243763220709579, 7: 0.8678771034884127}, 6959: {1: 0.7810426971540886, 6: 0.2668616301705884, 7: 0.743694119513682}, 8102: {1: 0.5456370052631946, 2: 0.15549976386536035, 3: 0.30659271763037443, 5: 0.36707509833616137, 7: 0.3176194742658105}, 750: {0: 0.8823969952136941, 3: 0.25376341359342913, 4: 0.5395078973588866, 5: 0.9524254745059789, 7: 0.6415656151867197, 8: 0.15428111082505058}, 1236: {0: 0.10001107368827145, 3: 0.88575959698393, 4: 0.8425450279651916, 7: 0.27765611507892607, 8: 0.315551165746942}, 1263: {0: 0.836536647060823, 4: 0.3142669789767055, 7: 0.9792139261114732, 8: 0.28206125265788007}, 5637: {0: 0.5397993543550711, 4: 0.2818723202865998, 8: 0.37541910544079743}, 5718: {0: 0.835772319932913, 8: 0.8385472007991155}, 5725: {1: 0.022839541748809866, 2: 0.8367998046435366, 8: 0.4681612740632618}, 15693: {0: 0.07401871318970132, 2: 0.26978632942800806, 6: 0.6213728578420844}, 16422: {0: 0.19920418663000033, 2: 0.13935444416388953}, 16440: {0: 0.9501446719018316}, 6724: {1: 0.4974074220872282, 2: 0.5752576831244739, 3: 0.1446045897150392, 5: 0.27991583360318417, 6: 0.6870769574112434, 7: 0.15035547977111507}, 6730: {2: 0.7484024155138549, 3: 0.8465827049476902, 5: 0.08067097606524543, 6: 0.7151736815526065, 7: 0.33780316156185547}, 6757: {2: 0.9651043607955481, 5: 0.402675729270047, 6: 0.2524883338447117, 7: 0.5695639452288364}, 7243: {2: 0.6024701774824989, 6: 0.22713978646221056, 7: 0.34872747225167633}, 4455: {0: 0.40062197918757136, 1: 0.7129903417084942, 2: 0.25929650889772826, 3: 0.708082567874611, 5: 0.3802837755481333, 6: 0.33915496159889236, 8: 0.6922510882016789}, 11780: {2: 0.6199538255022055, 5: 0.38139209180942923}, 883: {1: 0.742102819532544, 5: 0.037036235810467555, 7: 0.12445891412363685, 8: 0.6049925196709175}, 889: {5: 0.3206676139439255, 7: 0.08963554438774068, 8: 0.6926287633198756}, 1127: {1: 0.8702436620661385, 7: 0.3307225212027144, 8: 0.6703621184922199}, 1130: {7: 0.4474574630706929, 8: 0.667053442042279}, 5241: {0: 0.16373077361492172, 2: 0.5849200045024796, 5: 0.18472272487986297, 8: 0.4059642248909695}, 5259: {0: 0.25951737497815563, 5: 0.6484732558579596, 8: 0.22161508032097885}, 5502: {0: 0.658893579262814, 8: 0.5226409217476978}, 5504: {8: 0.5132210977858943}, 110: {1: 0.31117815430135143, 2: 0.22138464607133956, 5: 0.9549455093820127, 6: 0.7400041377364341, 7: 0.9645269723331172, 8: 0.14863414518819684}, 11531: {1: 0.9841129998831595, 2: 0.9494773493324595, 6: 0.5203130608205064}, 11534: {2: 0.39536805709620804, 6: 0.4435376675404421}, 12992: {2: 0.3552143873708524}, 16191: {0: 0.672430852566742, 1: 0.6916718184078514, 5: 0.9068454940769751}, 1131: {0: 0.46881668049373226, 7: 0.24308311528696291, 8: 0.3947056386381747}, 1132: {7: 0.5181574747059088, 8: 0.7792239111255919}, 14254: {7: 0.31451814525718474}, 15444: {0: 0.03253670361164274, 1: 0.2524238080347594, 2: 0.9086710595781042, 5: 0.4425526012060488, 6: 0.402261311597483}, 15453: {0: 0.9184085786011029, 1: 0.7072993066127885, 5: 0.8384373459303325, 6: 0.6461532262296713}, 15455: {1: 0.7174963420110799, 5: 0.650423596712146, 6: 0.1979949455805624}, 4462: {2: 0.465520210442971, 3: 0.8805260528133492, 5: 0.791711927503095, 6: 0.9135521964206589, 8: 0.5721228775309811}, 5191: {2: 0.02451621013373584, 3: 0.20652443941097443, 5: 0.5823774334419289, 8: 0.9260000542236341}, 5677: {2: 0.25111134974305427, 3: 0.9158275013811263, 8: 0.06326616721997103}, 14229: {0: 0.8897872289685033, 1: 0.295687515722325, 2: 0.09978445387610146, 7: 0.47671086253775774}, 14235: {0: 0.9242932399086407, 2: 0.02444228694227346, 7: 0.328993026631862}, 14236: {2: 0.6864092532115792, 7: 0.08816845253984573}, 13125: {0: 0.8676181141535071, 2: 0.3512608674407959, 3: 0.28500124234175517, 4: 0.808913048085093, 5: 0.07475475997628145, 6: 0.21263789003982433, 7: 0.39427335700716104}, 15312: {0: 0.5089326584325724, 2: 0.4281229758693764, 3: 0.5910986834591222, 4: 0.20682558274968477, 5: 0.4941658113545002, 6: 0.19349457328372388}, 15366: {0: 0.6322243489566193, 2: 0.9375351382467755, 4: 0.3222429706699428, 5: 0.361275443041025, 6: 0.21358811431257668}, 15375: {0: 0.021033687884114194, 4: 0.8480027629997776, 5: 0.19453574214433234, 6: 0.5291279829158897}, 15537: {0: 0.49439887884308387, 5: 0.8075471861359432, 6: 0.5701813542353333}, 15780: {0: 0.6857613789379775, 6: 0.36051707179737935}, 574: {2: 0.1676475212669455, 3: 0.04446802795370808, 6: 0.5023720367661806, 7: 0.9953600508317679, 8: 0.4982387668229551}, 2761: {2: 0.5695972685549818, 3: 0.887400213336748, 6: 0.4414956907312815, 8: 0.2515701417406685}, 2815: {2: 0.1951626153092504, 6: 0.7935279587315849, 8: 0.7034662992373354}, 3544: {2: 0.887604757876389, 8: 0.7025117111465681}, 3562: {8: 0.38656654309198746}, 13267: {1: 0.46508818557206, 5: 0.9824097691501228, 6: 0.2375372643203103, 7: 0.42201255454118275}, 13273: {5: 0.434800073769253, 6: 0.2007519008392868, 7: 0.051786970385357844}, 3555: {0: 0.5282658306345561, 1: 0.8916732762864079, 8: 0.031234278651061986}, 384: {0: 0.48511454526646813, 2: 0.15518489959540738, 6: 0.1045016420216458, 7: 0.8529933029000156, 8: 0.4396511407140876}, 2571: {0: 0.7294803247392956, 2: 0.67726211766387, 6: 0.5699367813141397, 8: 0.7305002196977783}, 15702: {0: 0.9173632728032839, 6: 0.3253668707460267}, 15704: {6: 0.11760858579137583}, 2071: {1: 0.8993399420815958, 7: 0.11016004904712617, 8: 0.8672697342494116}, 2074: {7: 0.9734952288937575, 8: 0.19572561272528172}, 6448: {8: 0.6711197924269462}, 3075: {0: 0.8813150325438841, 5: 0.7792564302508664, 8: 0.8776031696781117}, 7182: {0: 0.4247717793519169, 1: 0.2607123282450403, 2: 0.28183276170007376, 6: 0.3566065704728606, 7: 0.5655264257496411}, 576: {0: 0.3838437615596997, 1: 0.368044811802268, 3: 0.3101337815343339, 6: 0.8323430507235907, 7: 0.9662806232792609, 8: 0.19235465552779982}, 4950: {0: 0.19431003754217147, 1: 0.40019550338453524, 3: 0.5441076894597124, 6: 0.33490652456531317, 8: 0.8729831868228239}, 11511: {0: 0.4412344800483424, 1: 0.13173036467120802, 3: 0.5807337883573954, 6: 0.2999418276684491}, 5836: {2: 0.5626515328995763, 3: 0.4853589119303703, 4: 0.8006419678009574, 5: 0.33688594074124645, 8: 0.0930984382358154}, 5917: {2: 0.39936598882921936, 3: 0.6141705158225378, 5: 0.10137117836571019, 8: 0.5071338737037621}, 5971: {2: 0.8986102982484626, 5: 0.6102456489324227, 8: 0.529576842638292}, 6214: {2: 0.7094678980015285, 8: 0.9644775724772234}, 176: {3: 0.9895652240138036, 5: 0.8348876274676056, 6: 0.9011193888492864, 7: 0.6304773304830481, 8: 0.9340851562021275}, 203: {5: 0.9393559049304909, 6: 0.6758601381953533, 7: 0.667981584577363, 8: 0.5730310048984768}, 689: {6: 0.19431972965927602, 7: 0.805959728908462, 8: 0.9058682535967648}, 7250: {6: 0.9387906515688813, 7: 0.8693124069789916}, 8928: {0: 0.32579810659826847, 1: 0.793225007277372, 3: 0.1604856927588887, 5: 0.7787838810912934, 6: 0.7567716960157721}, 8931: {0: 0.14431772960001477, 3: 0.2852328584542022, 5: 0.8280239969479648, 6: 0.09883837649794257}, 9417: {0: 0.454956487675539, 3: 0.27530912941512997, 6: 0.823647205569594}, 5593: {2: 0.46877367941956904, 3: 0.12314914604897587, 4: 0.8275598346314624, 8: 0.2943907110898745}, 5755: {2: 0.554876162169692, 3: 0.7861083544866889, 8: 0.35119944492621347}, 4891: {2: 0.10862426011023939, 4: 0.1246268526376273, 6: 0.9098757746467361, 8: 0.7387257174511576}, 6349: {2: 0.5419984072850995, 4: 0.8383537477583527, 8: 0.1391327546154264}, 6430: {2: 0.7425808068516483, 8: 0.9164796066128377}, 784: {1: 0.41708241475833574, 2: 0.2198998027405229, 4: 0.8805122240019617, 5: 0.8974439581027187, 7: 0.05938472524388705, 8: 0.23279631652188615}, 13126: {2: 0.045201322851945, 3: 0.5776241788287935, 4: 0.5257596561943478, 5: 0.8152857434826514, 6: 0.7197126683800603, 7: 0.7774616245160936}, 13612: {2: 0.8044857001414413, 3: 0.8256969413197541, 4: 0.2214101081376787, 6: 0.578284131195224, 7: 0.8935970791039025}, 15799: {2: 0.5064024029732288, 3: 0.04077389296557987, 4: 0.8503398616661928, 6: 0.26951533937582706}, 15961: {2: 0.8770265968104809, 3: 0.4595513580589222, 6: 0.5259473842449522}, 5104: {1: 0.7211064681806625, 2: 0.6516134125378277, 3: 0.052540399007064975, 4: 0.16415244952205832, 5: 0.43950724921420026, 8: 0.40261325752501687}, 5110: {2: 0.029755426249830297, 3: 0.48202610027852977, 4: 0.37104648649619454, 5: 0.20778703181995295, 8: 0.9092649695695383}, 5728: {2: 0.23499837848964125, 8: 0.16160866970116822}, 5746: {8: 0.22536323236856257}, 4390: {3: 0.801601736089514, 4: 0.47483657910021715, 5: 0.08400619867169057, 6: 0.017081346983960022, 8: 0.29831480600684357}, 4417: {4: 0.15128396308714842, 5: 0.5393729021299085, 6: 0.4872235528224831, 8: 0.3158503063334671}, 4903: {4: 0.07049897078086609, 6: 0.783973089683205, 8: 0.43021238753182145}, 4432: {2: 0.59050739996426, 4: 0.8860481335302437, 5: 0.8355423286307573, 6: 0.8586997171247545, 8: 0.4258390295035934}, 4513: {2: 0.5223957127023131, 5: 0.5989187329923756, 6: 0.9362200088966042, 8: 0.7507012529625592}, 4384: {1: 0.6367026443317918, 3: 0.9243463043781044, 4: 0.5382198244447786, 5: 0.3731921403534918, 6: 0.7228704271807412, 8: 0.8284989515627688}, 4438: {1: 0.7378913982085423, 4: 0.2619942837590534, 5: 0.03775187941935887, 6: 0.34229069567185966, 8: 0.0057413590884574095}, 7050: {0: 0.8619557440886001, 2: 0.060964851553894084, 3: 0.2257530704676335, 4: 0.7030888495796445, 6: 0.6700058931681523, 7: 0.2971263006750297}, 7052: {2: 0.7720099898841797, 3: 0.47378932996758405, 4: 0.7985450300918515, 6: 0.8190339111787102, 7: 0.7827792996740877}, 7079: {2: 0.6320902021846904, 4: 0.4699100315493183, 6: 0.6940001822648894, 7: 0.09659660829313677}, 11902: {5: 0.8726320506553092}, 12157: {2: 0.728966342784077, 3: 0.3767797793168305, 4: 0.3260393162426218}, 6403: {2: 0.40623172085607295, 3: 0.8282937351896845, 8: 0.33471135998039037}, 496: {1: 0.14262536337527132, 3: 0.5417185255032754, 4: 0.8081209991544663, 6: 0.4335550888918306, 7: 0.1867909712660929, 8: 0.3111887523264584}, 2878: {6: 0.8714229086733796, 8: 0.4833631780402622}, 4420: {1: 0.489455990296481, 4: 0.4308771614729654, 5: 0.3749435598629026, 6: 0.8722283070154091, 8: 0.02411404121518712}, 11425: {2: 0.3457912562369805, 3: 0.6300644720459952, 4: 0.49772581439229946, 6: 0.9386014762319365}, 18094: {2: 0.7370201717476967, 6: 0.648819903622909}, 10936: {1: 0.20408682992228022, 2: 0.6417854857639015, 3: 0.1744071180238107, 4: 0.7977365671678566, 5: 0.6771994220370446, 6: 0.7456560767291819}, 18469: {1: 0.09509763233713442, 2: 0.37248407794791816, 3: 0.22279389961270885, 4: 0.5943966322715973}, 18631: {1: 0.4534025155414908, 2: 0.24949834279246486, 3: 0.19555453779711082}, 18634: {2: 0.7520749016532403, 3: 0.864990653102339}, 18688: {2: 0.09201216623902526}, 527: {4: 0.5934845254229348, 6: 0.960688916394063, 7: 0.7191913784236312, 8: 0.43368997533604564}, 1985: {4: 0.5051981253328426, 7: 0.7994530430527163, 8: 0.19453187998838486}, 4172: {4: 0.2743401145386223, 8: 0.3927990956497215}, 8679: {0: 0.6191151116850299, 3: 0.3316934521416507, 7: 0.8962041466419304}, 10866: {0: 0.10004147350430437, 3: 0.18687771511055423}, 13132: {1: 0.18486960014088671, 3: 0.20028775412088573, 4: 0.11647597634248974, 5: 0.5397469593686871, 6: 0.982630218463289, 7: 0.9382408470246356}, 14590: {1: 0.7374229080863591, 3: 0.2043739966948217, 4: 0.011968632575528382, 5: 0.11097281216067834, 7: 0.124605529674835}, 14617: {1: 0.8069057561068741, 4: 0.1097285509446092, 5: 0.07227710335389914, 7: 0.8371191346279468}, 15103: {1: 0.14757027636168474, 4: 0.9830316269218884, 7: 0.3468402131139037}, 15184: {1: 0.39647687484436833, 7: 0.5844942994920527}, 8051: {2: 0.08744387954763544, 4: 0.8433105443983505, 5: 0.2991177738701899, 7: 0.29105157311145563}, 8213: {2: 0.3735520871679122, 5: 0.17617887110231145, 7: 0.2849715182969972}, 8222: {5: 0.41187880820773254, 7: 0.5417500468689846}, 12596: {5: 0.2201735052236336}, 1956: {0: 0.874709225581935, 3: 0.4078271137528733, 4: 0.7593271131966836, 7: 0.5996031218003203, 8: 0.5351505382529946}, 165: {0: 0.9021355855046744, 2: 0.6139728058025492, 3: 0.780201155123676, 5: 0.6401310390164832, 6: 0.35799826048072747, 7: 0.6542990954466356, 8: 0.6204753289788331}, 166: {2: 0.7193326398327871, 3: 0.5767198394878142, 5: 0.08153058552402814, 6: 0.13488219649180921, 7: 0.906061478271281, 8: 0.2939732069540276}, 4631: {3: 0.9312378719327582, 4: 0.8456087684096536, 6: 0.1645044587847393, 8: 0.7779213517023277}, 4685: {4: 0.7637173646571105, 6: 0.7625423005543106, 8: 0.663955467988467}, 7781: {2: 0.12783171351250722, 3: 0.33477122580375485, 4: 0.5323513659890355, 7: 0.657563127641011}, 12155: {2: 0.10825244893960562, 3: 0.6196616374477244, 4: 0.3547614862834709}, 12182: {2: 0.5938187014502401, 4: 0.7337117026378736}, 12344: {2: 0.5152272543172239}, 18850: {2: 0.2583505199113464}, 4909: {4: 0.600302622079212, 6: 0.6356764965707489, 8: 0.06781228827207444}, 4990: {6: 0.304154692561508, 8: 0.044707683995246605}, 38: {1: 0.0609654183008953, 4: 0.6783538136709196, 5: 0.1931795483780404, 6: 0.787533366156762, 7: 0.611027433736704, 8: 0.5359407206000439}, 1496: {1: 0.5421221845610913, 4: 0.06926462364015362, 5: 0.028180577596531364, 7: 0.4824566385088578, 8: 0.06293694582544873}, 1499: {4: 0.13941503938705901, 5: 0.1294755506294697, 7: 0.32067739050070937, 8: 0.4957635775535307}, 14621: {4: 0.4515310477931641, 5: 0.5334382303353749, 7: 0.4484278982081821}, 14864: {4: 0.8007226538746374, 7: 0.33438817851871516}, 58: {2: 0.6836218326461279, 4: 0.9340570095814879, 5: 0.5155786168867719, 6: 0.2223858083631275, 7: 0.4723172327109496, 8: 0.4470978305365212}, 220: {2: 0.7532907012322619, 5: 0.7720435733361811, 6: 0.5417832554802408, 7: 0.8697116021584267, 8: 0.9441957666789113}, 773: {4: 0.10907075634515673, 5: 0.4682102753459012, 7: 0.9450300935495951, 8: 0.20063427096794434}, 13895: {4: 0.09164598947940583, 5: 0.5392714961806285, 7: 0.9711115690925737}, 16082: {4: 0.8238197863888397, 5: 0.4376581182343885}, 4410: {0: 0.37130309849147347, 1: 0.8625960343060045, 4: 0.47239025769048293, 5: 0.5039516157820817, 6: 0.8289970815384774, 8: 0.49423034724809356}, 4416: {0: 0.8337075006669392, 4: 0.5691371992440525, 5: 0.7013587193136749, 6: 0.6069461146763243, 8: 0.7114993937435029}, 146: {1: 0.30939283004639717, 5: 0.007927523407670445, 6: 0.6836937690699468, 7: 0.4905428547254145, 8: 0.7294275455166587}, 6707: {1: 0.29586322126309905, 5: 0.49816634211819255, 6: 0.7899987464861123, 7: 0.018987328211486187}, 935: {5: 0.705702770573932, 7: 0.23502908865394545, 8: 0.9590096728276138}, 3122: {5: 0.5768340287731287, 8: 0.8878368490288434}, 2934: {0: 0.434938895236768, 1: 0.7891248711503465, 3: 0.4305526455336831, 4: 0.3743067916058207, 5: 0.6457662655024181, 8: 0.15406847397527612}, 2940: {0: 0.7899193352758731, 3: 0.9556584433037191, 4: 0.41497327427694874, 5: 0.4180468473413601, 8: 0.27558490964241955}, 2967: {0: 0.2902251742450229, 4: 0.8364653387741324, 5: 0.3395821645288476, 8: 0.6520713459149695}, 3129: {0: 0.6267952313935388, 5: 0.7909151154107172, 8: 0.7470363882704391}, 1413: {0: 0.529948636398547, 1: 0.7028460109999094, 7: 0.6315565863390322, 8: 0.5500015860176839}, 1419: {0: 0.9690152091259052, 7: 0.32251855450477596, 8: 0.48147005678953636}, 5114: {1: 0.62226118314034, 3: 0.34753469463625275, 4: 0.6150552873890349, 5: 0.9317460164888965, 8: 0.3224576909985448}, 5357: {1: 0.6867847901488268, 3: 0.44108883753477446, 4: 0.6777924190643262, 8: 0.2608830141078303}, 5411: {1: 0.09558059050435419, 4: 0.7403728320428059, 8: 0.8037230847031588}, 578: {1: 0.9854323017922006, 3: 0.921304754383201, 6: 0.7504819066265024, 7: 0.3548116180149662, 8: 0.18782787555966113}, 581: {3: 0.8439697687184411, 6: 0.9497734813195859, 7: 0.2599779122408127, 8: 0.472613791147753}, 2039: {3: 0.21275890973345613, 7: 0.6313518528842597, 8: 0.34589192854865314}, 2066: {7: 0.9570806295648219, 8: 0.6712254478094437}, 6440: {8: 0.6209058825257476}, 5925: {0: 0.040026750573445624, 3: 0.4835635776053412, 5: 0.2186288867970042, 8: 0.980126498038055}, 2933: {3: 0.4403862029801736, 4: 0.6827777313694806, 5: 0.9641720271902764, 8: 0.8839688594361855}, 3419: {3: 0.3218500409755546, 4: 0.14090064586798423, 8: 0.27165490143161086}, 15807: {0: 0.14859224805834814, 3: 0.14692805149887367, 4: 0.2968612625707152, 6: 0.34059936541436087}, 15969: {0: 0.7256524366000497, 3: 0.623729906258975, 6: 0.9763427176595618}, 16698: {0: 0.2355547302997944, 3: 0.15542476857409127}, 1467: {0: 0.3740082948063709, 1: 0.9251619786230372, 3: 0.6812031665097006, 4: 0.21402765992150663, 5: 0.3591959412872663, 7: 0.6439171651454759, 8: 0.907033671256875}, 1470: {0: 0.9483088873681302, 3: 0.06813741812998386, 4: 0.9038374177601164, 5: 0.7400032925135623, 7: 0.9131045291431431, 8: 0.9426918855901488}, 1632: {0: 0.19102628298195934, 3: 0.41212582430301414, 5: 0.36377675177256985, 7: 0.13493588695313075, 8: 0.9607725464398622}, 1875: {0: 0.06666231970948133, 3: 0.7561432921122991, 7: 0.5400631628175535, 8: 0.13659852087770546}, 1929: {0: 0.5681579165025068, 7: 0.1575702371156189, 8: 0.049483993561540984}, 1472: {3: 0.33896671663418576, 4: 0.6487127378294821, 5: 0.06684997357104971, 7: 0.6541963220925575, 8: 0.9677165858915353}, 8033: {3: 0.39638881330780795, 4: 0.154108981733176, 5: 0.8138143559729414, 7: 0.014599401763675468}, 7058: {1: 0.25252908885321335, 3: 0.8023658535794604, 4: 0.11497709285817492, 6: 0.6569393770503288, 7: 0.6267507934934871}, 7085: {1: 0.7210399659775457, 4: 0.4202086536868519, 6: 0.5476218187827748, 7: 0.454799916332829}, 7247: {1: 0.22578527138237958, 6: 0.596953071417885, 7: 0.8504334946486969}, 9434: {1: 0.8649985607439115, 6: 0.19110309003482398}, 9440: {6: 0.5359867533181537}, 490: {2: 0.6701373330251531, 3: 0.8411172462879157, 4: 0.6003044414419711, 6: 0.3276635535743726, 7: 0.562905249558532, 8: 0.16888133658464866}, 652: {2: 0.6849614470824731, 3: 0.5167022278127925, 6: 0.30851151108653463, 7: 0.19868851560157919, 8: 0.33064398934569483}, 18479: {1: 0.5105333252850283, 3: 0.21040156838456792, 4: 0.7160610349869204}, 13701: {0: 0.4264183674763141, 3: 0.04585836215370165, 6: 0.37468765897377715, 7: 0.7259349194805517}, 18075: {0: 0.623129008845009, 3: 0.014970823213499185, 6: 0.29099805394547584}, 13647: {0: 0.17625605417284407, 4: 0.3630080344396722, 6: 0.6471370383226359, 7: 0.21830606126047428}, 15105: {0: 0.36206476090229994, 4: 0.5840969536977352, 7: 0.15019399834193847}, 12531: {0: 0.388311404648108, 2: 0.0572585915046121, 5: 0.06904034697305883}, 7091: {4: 0.36416258090532017, 6: 0.33324877429530725, 7: 0.43960698617012683}, 7172: {6: 0.08766007904655149, 7: 0.33503812359765567}, 4456: {1: 0.13342938998561715, 2: 0.11748014425492792, 3: 0.04735809276646297, 5: 0.7317432418985813, 6: 0.30849429628161584, 8: 0.8180482231344208}, 4942: {1: 0.8137243298641662, 2: 0.7642587610589214, 3: 0.8585190348195992, 6: 0.7458566170085956, 8: 0.2980461590361151}, 4969: {1: 0.2226317881087161, 2: 0.3823008394997516, 6: 0.28520649028772327, 8: 0.17471605533807233}, 4023: {0: 0.17869987881517313, 1: 0.7984125072112558, 2: 0.9946574695089069, 8: 0.18441198943786014}, 4041: {0: 0.8876992766326486, 1: 0.2370396444534123, 8: 0.7752016704303202}, 1488: {0: 0.47583920329473284, 2: 0.16500738961081463, 4: 0.47048366956697185, 5: 0.6760875891502071, 7: 0.4364088933741101, 8: 0.7689805275520548}, 14610: {0: 0.4468645220080514, 2: 0.17366108562981963, 4: 0.157877128069707, 5: 0.8984074968229638, 7: 0.7654712324655917}, 14853: {0: 0.295192553513858, 2: 0.688274710611951, 4: 0.7703627823289795, 7: 0.3403279234855793}, 15015: {0: 0.6300082926500605, 2: 0.7793334789376453, 7: 0.8688506877747825}, 17202: {0: 0.9075229643812451, 2: 0.8682665197104918}, 9278: {4: 0.9035541298802496, 6: 0.5340887603310045}, 13158: {0: 0.41921391635198313, 1: 0.7053227043371104, 4: 0.4539896291720118, 5: 0.04972242762182699, 6: 0.07185804702872567, 7: 0.12597839234365787}, 13164: {0: 0.13248644738426762, 4: 0.1868740828581864, 5: 0.43231789316204194, 6: 0.36013365045760715, 7: 0.18697189845603032}, 13407: {0: 0.3498120014335593, 4: 0.413936924785549, 6: 0.5322346608472664, 7: 0.7448035645794029}, 13409: {4: 0.8569792720266958, 6: 0.8593391264522701, 7: 0.2567835400299194}, 14138: {4: 0.4444128859061022, 7: 0.5016084049027899}}, {0: {0: 0.0, 1: 1.0, 2: 0.0, 3: 0.0, 4: 0.0, 5: 0.0, 6: 0.0, 7: 0.0, 8: 0.0}, 6561: {0: 0.0, 1: 0.0, 2: 0.0, 3: 0.0, 4: 0.0, 5: 0.0, 6: 1.0, 7: 0.0}, 8019: {0: 1.0, 1: 0.0, 2: 0.0, 3: 0.0, 4: 0.0, 5: 0.0, 7: 0.0}, 8020: {1: 1.0, 2: 0.0, 3: 0.0, 4: 0.0, 5: 0.0, 7: 0.0}, 8038: {1: 0.0, 3: 0.0, 4: 0.0, 5: 0.0, 7: 0.0}, 8281: {1: 0.0, 3: 0.0, 4: 0.0, 7: 0.0}, 8046: {0: 0.0, 1: 0.0, 2: 0.0, 4: 0.0, 5: 1.0, 7: 0.0}, 8208: {0: 0.0, 1: 0.0, 2: 1.0, 5: 0.0, 7: 0.0}, 8217: {0: 1.0, 1: 0.0, 5: 0.0, 7: 0.0}, 12591: {0: 0.0, 1: 1.0, 5: 0.0}, 8065: {1: 0.0, 4: 0.0, 5: 0.0, 7: 0.0}, 12439: {1: 0.0, 4: 0.0, 5: 0.0}, 12682: {1: 0.0, 4: 0.0}, 12688: {4: 0.0}, 2187: {0: 0.0, 1: 0.0, 2: 1.0, 3: 0.0, 4: 0.0, 5: 0.0, 6: 0.0, 8: 0.0}, 2241: {0: 0.0, 1: 0.0, 2: 0.0, 4: 0.0, 5: 1.0, 6: 0.0, 8: 0.0}, 2970: {0: 1.0, 1: 0.0, 2: 0.0, 4: 0.0, 5: 0.0, 8: 0.0}, 2972: {1: 0.0, 2: 0.0, 4: 0.0, 5: 0.0, 8: 0.0}, 2981: {1: 0.0, 4: 0.0, 5: 0.0, 8: 0.0}, 16103: {1: 0.0, 4: 0.0, 5: 0.0}, 16346: {1: 0.0, 4: 0.0}, 16352: {4: 0.0}, 1: {1: 0.0, 2: 0.0, 3: 0.0, 4: 0.0, 5: 0.0, 6: 1.0, 7: 0.0, 8: 0.0}, 7: {2: 0.0, 3: 0.0, 4: 0.0, 5: 0.0, 6: 0.0, 7: 0.0, 8: 0.0}, 736: {2: 1.0, 3: 0.0, 4: 0.0, 5: 0.0, 7: 0.0, 8: 0.0}, 898: {2: 0.0, 3: 0.0, 5: 0.0, 7: 0.0, 8: 0.0}, 7459: {2: 0.0, 3: 0.0, 5: 0.0, 7: 0.0}, 7477: {3: 0.0, 5: 0.0, 7: 0.0}, 243: {0: 0.0, 1: 0.0, 2: 0.0, 3: 0.0, 4: 0.0, 6: 1.0, 7: 0.0, 8: 0.0}, 4617: {0: 0.0, 1: 0.0, 2: 0.0, 3: 0.0, 4: 0.0, 6: 0.0, 8: 0.0}, 5346: {0: 0.0, 1: 1.0, 2: 0.0, 3: 0.0, 4: 0.0, 8: 0.0}, 5508: {0: 0.0, 1: 0.0, 2: 1.0, 3: 0.0, 8: 0.0}, 5517: {0: 0.0, 1: 0.0, 3: 0.0, 8: 0.0}, 5571: {0: 0.0, 1: 0.0, 8: 0.0}, 10225: {1: 0.0, 3: 0.0, 4: 0.0, 5: 0.0}, 10231: {3: 0.0, 4: 0.0, 5: 0.0}, 10258: {4: 0.0, 5: 0.0}, 10744: {4: 0.0}, 7047: {0: 1.0, 1: 0.0, 2: 0.0, 3: 0.0, 4: 0.0, 6: 0.0, 7: 0.0}, 7048: {1: 1.0, 2: 0.0, 3: 0.0, 4: 0.0, 6: 0.0, 7: 0.0}, 7066: {1: 1.0, 3: 0.0, 4: 0.0, 6: 0.0, 7: 0.0}, 7093: {1: 0.0, 4: 0.0, 6: 0.0, 7: 0.0}, 7099: {4: 0.0, 6: 0.0, 7: 0.0}, 9286: {4: 0.0, 6: 0.0}, 9448: {6: 0.0}, 8041: {3: 1.0, 4: 0.0, 5: 0.0, 7: 0.0}, 6563: {1: 1.0, 2: 0.0, 3: 0.0, 4: 0.0, 5: 0.0, 6: 0.0, 7: 0.0}, 6644: {1: 0.0, 2: 0.0, 3: 0.0, 5: 1.0, 6: 0.0, 7: 0.0}, 11018: {1: 0.0, 2: 0.0, 3: 0.0, 5: 0.0, 6: 0.0}, 11021: {2: 0.0, 3: 0.0, 5: 0.0, 6: 0.0}, 11075: {2: 1.0, 5: 0.0, 6: 0.0}, 11804: {2: 0.0, 5: 0.0}, 11822: {5: 0.0}, 8527: {3: 0.0, 4: 0.0, 7: 0.0}, 729: {0: 1.0, 1: 0.0, 2: 0.0, 3: 0.0, 4: 0.0, 5: 0.0, 7: 0.0, 8: 0.0}, 731: {1: 0.0, 2: 0.0, 3: 0.0, 4: 0.0, 5: 0.0, 7: 0.0, 8: 0.0}, 812: {1: 0.0, 2: 1.0, 3: 0.0, 5: 0.0, 7: 0.0, 8: 0.0}, 13934: {1: 1.0, 2: 0.0, 3: 0.0, 5: 0.0, 7: 0.0}, 8262: {0: 0.0, 1: 1.0, 2: 0.0, 3: 0.0, 4: 0.0, 7: 0.0}, 8424: {0: 0.0, 1: 0.0, 2: 0.0, 3: 1.0, 7: 0.0}, 8451: {0: 0.0, 1: 1.0, 2: 0.0, 7: 0.0}, 8457: {0: 0.0, 2: 1.0, 7: 0.0}, 10644: {0: 1.0, 2: 0.0}, 10646: {2: 0.0}, 81: {0: 0.0, 1: 0.0, 2: 0.0, 3: 1.0, 5: 0.0, 6: 0.0, 7: 0.0, 8: 0.0}, 135: {0: 0.0, 1: 0.0, 2: 0.0, 5: 1.0, 6: 0.0, 7: 0.0, 8: 0.0}, 2322: {0: 0.0, 1: 0.0, 2: 0.0, 5: 0.0, 6: 0.0, 8: 0.0}, 2808: {0: 0.0, 1: 0.0, 2: 0.0, 6: 0.0, 8: 0.0}, 9369: {0: 1.0, 1: 0.0, 2: 0.0, 6: 0.0}, 10827: {0: 0.0, 1: 0.0, 2: 1.0}, 10836: {0: 1.0, 1: 0.0}, 10842: {0: 1.0}, 27: {0: 0.0, 1: 0.0, 2: 0.0, 4: 0.0, 5: 0.0, 6: 0.0, 7: 1.0, 8: 0.0}, 13149: {0: 1.0, 1: 0.0, 2: 0.0, 4: 0.0, 5: 0.0, 6: 0.0, 7: 0.0}, 13150: {1: 0.0, 2: 0.0, 4: 0.0, 5: 1.0, 6: 0.0, 7: 0.0}, 14608: {1: 0.0, 2: 0.0, 4: 0.0, 5: 0.0, 7: 0.0}, 14851: {1: 1.0, 2: 0.0, 4: 0.0, 7: 0.0}, 14869: {1: 0.0, 4: 0.0, 7: 0.0}, 14872: {4: 0.0, 7: 0.0}, 10206: {0: 0.0, 1: 0.0, 2: 0.0, 3: 0.0, 4: 0.0, 5: 1.0}, 10692: {0: 0.0, 1: 0.0, 2: 0.0, 3: 1.0, 4: 0.0}, 10719: {0: 0.0, 1: 0.0, 2: 0.0, 4: 0.0}, 10881: {0: 1.0, 1: 0.0, 2: 0.0}, 10882: {1: 1.0, 2: 0.0}, 12415: {3: 0.0, 4: 0.0, 5: 0.0}, 12442: {4: 0.0, 5: 0.0}, 8100: {0: 0.0, 1: 0.0, 2: 0.0, 3: 0.0, 5: 1.0, 7: 0.0}, 12474: {0: 0.0, 1: 1.0, 2: 0.0, 3: 0.0, 5: 0.0}, 12477: {0: 0.0, 2: 0.0, 3: 0.0, 5: 0.0}, 12495: {0: 0.0, 3: 0.0, 5: 0.0}, 12738: {0: 1.0, 3: 0.0}, 12740: {3: 0.0}, 3: {0: 0.0, 2: 0.0, 3: 0.0, 4: 1.0, 5: 0.0, 6: 0.0, 7: 0.0, 8: 0.0}, 489: {0: 0.0, 2: 0.0, 3: 0.0, 4: 0.0, 6: 0.0, 7: 0.0, 8: 0.0}, 498: {0: 0.0, 3: 0.0, 4: 0.0, 6: 0.0, 7: 0.0, 8: 0.0}, 500: {3: 0.0, 4: 0.0, 6: 0.0, 7: 0.0, 8: 0.0}, 2687: {3: 1.0, 4: 0.0, 6: 0.0, 8: 0.0}, 15809: {3: 0.0, 4: 0.0, 6: 0.0}, 15836: {4: 0.0, 6: 0.0}, 17294: {4: 0.0}, 6579: {0: 0.0, 1: 0.0, 3: 0.0, 4: 1.0, 5: 0.0, 6: 0.0, 7: 0.0}, 6822: {0: 0.0, 1: 1.0, 3: 0.0, 4: 0.0, 6: 0.0, 7: 0.0}, 6828: {0: 0.0, 3: 1.0, 4: 0.0, 6: 0.0, 7: 0.0}, 9015: {0: 1.0, 3: 0.0, 4: 0.0, 6: 0.0}, 33: {0: 1.0, 2: 0.0, 4: 0.0, 5: 0.0, 6: 0.0, 7: 0.0, 8: 0.0}, 762: {0: 0.0, 2: 0.0, 4: 0.0, 5: 0.0, 7: 0.0, 8: 0.0}, 13884: {0: 0.0, 2: 0.0, 4: 0.0, 5: 0.0, 7: 0.0}, 14127: {0: 0.0, 2: 0.0, 4: 0.0, 7: 0.0}, 18501: {0: 1.0, 2: 0.0, 4: 0.0}, 8268: {0: 0.0, 2: 1.0, 3: 0.0, 4: 0.0, 7: 0.0}, 8269: {2: 0.0, 3: 0.0, 4: 0.0, 7: 0.0}, 8287: {3: 0.0, 4: 0.0, 7: 0.0}, 8506: {1: 0.0, 2: 0.0, 3: 0.0, 4: 1.0, 7: 0.0}, 10693: {1: 0.0, 2: 0.0, 3: 0.0, 4: 0.0}, 10699: {2: 0.0, 3: 0.0, 4: 0.0}, 10708: {3: 0.0, 4: 0.0}, 10870: {3: 0.0}, 8182: {1: 1.0, 2: 0.0, 3: 0.0, 5: 0.0, 7: 0.0}, 8191: {1: 0.0, 3: 0.0, 5: 0.0, 7: 0.0}, 8197: {3: 0.0, 5: 0.0, 7: 0.0}, 10384: {3: 0.0, 5: 0.0}, 1485: {0: 0.0, 1: 0.0, 2: 0.0, 4: 0.0, 5: 0.0, 7: 0.0, 8: 0.0}, 12420: {0: 0.0, 1: 0.0, 2: 0.0, 4: 0.0, 5: 0.0}, 12423: {0: 0.0, 2: 0.0, 4: 0.0, 5: 0.0}, 12909: {0: 1.0, 2: 0.0, 4: 0.0}, 12990: {0: 0.0, 2: 0.0}, 13008: {0: 1.0}, 6723: {0: 0.0, 1: 1.0, 2: 0.0, 3: 0.0, 5: 0.0, 6: 0.0, 7: 0.0}, 6726: {0: 0.0, 2: 1.0, 3: 0.0, 5: 0.0, 6: 0.0, 7: 0.0}, 6780: {0: 1.0, 2: 0.0, 5: 0.0, 6: 0.0, 7: 0.0}, 7509: {0: 0.0, 2: 0.0, 5: 0.0, 7: 0.0}, 7527: {0: 0.0, 5: 0.0, 7: 0.0}, 7770: {0: 1.0, 7: 0.0}, 7772: {7: 0.0}, 10935: {0: 0.0, 1: 0.0, 2: 0.0, 3: 0.0, 4: 1.0, 5: 0.0, 6: 0.0}, 10962: {0: 0.0, 1: 0.0, 2: 0.0, 4: 0.0, 5: 0.0, 6: 0.0}, 10964: {1: 0.0, 2: 0.0, 4: 0.0, 5: 0.0, 6: 0.0}, 10967: {2: 0.0, 4: 0.0, 5: 0.0, 6: 0.0}, 10985: {4: 0.0, 5: 0.0, 6: 0.0}, 11066: {5: 0.0, 6: 0.0}, 12524: {5: 0.0}, 8750: {1: 0.0, 2: 0.0, 3: 0.0, 4: 0.0, 5: 0.0, 6: 0.0}, 8756: {2: 1.0, 3: 0.0, 4: 0.0, 5: 0.0, 6: 0.0}, 8837: {2: 0.0, 3: 0.0, 5: 0.0, 6: 0.0}, 10295: {2: 0.0, 3: 0.0, 5: 0.0}, 10304: {3: 0.0, 5: 0.0}, 10790: {3: 0.0}, 8554: {4: 0.0, 7: 0.0}, 8295: {0: 0.0, 2: 0.0, 4: 0.0, 7: 0.0}, 12669: {0: 0.0, 2: 1.0, 4: 0.0}, 6567: {0: 1.0, 2: 0.0, 3: 0.0, 4: 0.0, 5: 0.0, 6: 0.0, 7: 0.0}, 6568: {2: 0.0, 3: 0.0, 4: 0.0, 5: 0.0, 6: 0.0, 7: 0.0}, 6586: {3: 0.0, 4: 0.0, 5: 0.0, 6: 0.0, 7: 0.0}, 9: {0: 1.0, 1: 0.0, 3: 0.0, 4: 0.0, 5: 0.0, 6: 0.0, 7: 0.0, 8: 0.0}, 11: {1: 0.0, 3: 0.0, 4: 1.0, 5: 0.0, 6: 0.0, 7: 0.0, 8: 0.0}, 2198: {1: 0.0, 3: 0.0, 4: 0.0, 5: 1.0, 6: 0.0, 8: 0.0}, 15320: {1: 0.0, 3: 0.0, 4: 0.0, 5: 0.0, 6: 0.0}, 15401: {1: 0.0, 3: 0.0, 5: 0.0, 6: 0.0}, 15407: {3: 0.0, 5: 0.0, 6: 0.0}, 12394: {1: 0.0, 2: 0.0, 3: 0.0, 4: 0.0, 5: 0.0}, 12397: {2: 1.0, 3: 0.0, 4: 0.0, 5: 0.0}, 12883: {2: 1.0, 3: 0.0, 4: 0.0}, 8095: {4: 0.0, 5: 0.0, 7: 0.0}, 10282: {4: 0.0, 5: 0.0}, 6781: {2: 1.0, 5: 0.0, 6: 0.0, 7: 0.0}, 8239: {2: 0.0, 5: 0.0, 7: 0.0}, 8482: {2: 0.0, 7: 0.0}, 12856: {2: 0.0}, 12501: {0: 0.0, 1: 0.0, 2: 0.0, 5: 0.0}, 12987: {0: 1.0, 1: 0.0, 2: 0.0}, 12996: {0: 1.0, 1: 0.0}, 13002: {0: 1.0}, 8224: {5: 0.0, 7: 0.0}, 8710: {7: 0.0}, 2340: {0: 0.0, 1: 0.0, 5: 0.0, 6: 0.0, 8: 0.0}, 2341: {1: 0.0, 5: 0.0, 6: 0.0, 8: 0.0}, 3799: {1: 0.0, 5: 0.0, 8: 0.0}, 138: {0: 0.0, 2: 0.0, 5: 0.0, 6: 0.0, 7: 0.0, 8: 0.0}, 156: {0: 0.0, 5: 0.0, 6: 0.0, 7: 0.0, 8: 0.0}, 8028: {0: 0.0, 1: 1.0, 3: 0.0, 4: 0.0, 5: 0.0, 7: 0.0}, 8034: {0: 0.0, 3: 1.0, 4: 0.0, 5: 0.0, 7: 0.0}, 9371: {1: 0.0, 2: 1.0, 6: 0.0}, 4872: {0: 1.0, 3: 0.0, 4: 0.0, 6: 0.0, 8: 0.0}, 4953: {0: 0.0, 3: 0.0, 6: 0.0, 8: 0.0}, 6411: {0: 1.0, 3: 0.0, 8: 0.0}, 34: {2: 0.0, 4: 1.0, 5: 0.0, 6: 0.0, 7: 0.0, 8: 0.0}, 196: {2: 1.0, 5: 0.0, 6: 0.0, 7: 0.0, 8: 0.0}, 439: {2: 0.0, 6: 0.0, 7: 0.0, 8: 0.0}, 1897: {2: 1.0, 7: 0.0, 8: 0.0}, 8458: {2: 0.0, 7: 0.0}, 4899: {0: 0.0, 4: 0.0, 6: 0.0, 8: 0.0}, 18021: {0: 0.0, 4: 0.0, 6: 0.0}, 18102: {0: 1.0, 6: 0.0}, 18104: {6: 0.0}, 10944: {0: 0.0, 1: 1.0, 3: 0.0, 4: 0.0, 5: 0.0, 6: 0.0}, 10950: {0: 0.0, 3: 0.0, 4: 0.0, 5: 0.0, 6: 0.0}, 10977: {0: 0.0, 4: 0.0, 5: 0.0, 6: 0.0}, 11463: {0: 0.0, 4: 0.0, 6: 0.0}, 11544: {0: 0.0, 6: 0.0}, 8022: {0: 0.0, 2: 0.0, 3: 0.0, 4: 1.0, 5: 0.0, 7: 0.0}, 8508: {0: 0.0, 2: 1.0, 3: 0.0, 4: 0.0, 7: 0.0}, 8517: {0: 1.0, 3: 0.0, 4: 0.0, 7: 0.0}, 8519: {3: 0.0, 4: 0.0, 7: 0.0}, 10706: {3: 0.0, 4: 0.0}, 12910: {2: 0.0, 4: 0.0}, 12928: {4: 0.0}, 12998: {1: 0.0}, 734: {2: 0.0, 3: 0.0, 4: 0.0, 5: 0.0, 7: 0.0, 8: 0.0}, 896: {2: 0.0, 3: 1.0, 5: 0.0, 7: 0.0, 8: 0.0}, 3083: {2: 1.0, 3: 0.0, 5: 0.0, 8: 0.0}, 3569: {2: 0.0, 3: 0.0, 8: 0.0}, 3596: {2: 0.0, 8: 0.0}, 3614: {8: 0.0}, 12594: {0: 0.0, 5: 0.0}, 13080: {0: 1.0}, 11124: {0: 0.0, 1: 0.0, 2: 0.0, 5: 0.0, 6: 0.0}, 11853: {0: 0.0, 1: 1.0, 2: 0.0, 5: 0.0}, 12421: {1: 0.0, 2: 0.0, 4: 0.0, 5: 0.0}, 12907: {1: 1.0, 2: 0.0, 4: 0.0}, 12425: {2: 0.0, 4: 0.0, 5: 0.0}, 12434: {4: 0.0, 5: 0.0}, 12920: {4: 0.0}, 12441: {0: 0.0, 4: 0.0, 5: 0.0}, 12507: {0: 1.0, 2: 0.0, 5: 0.0}, 12516: {0: 0.0, 5: 0.0}, 12663: {0: 0.0, 1: 0.0, 2: 0.0, 4: 0.0}, 12429: {0: 0.0, 1: 0.0, 4: 0.0, 5: 0.0}, 12915: {0: 1.0, 1: 0.0, 4: 0.0}, 12916: {1: 1.0, 4: 0.0}, 13078: {1: 0.0}, 740: {1: 0.0, 3: 0.0, 4: 0.0, 5: 0.0, 7: 0.0, 8: 0.0}, 746: {3: 0.0, 4: 0.0, 5: 0.0, 7: 0.0, 8: 0.0}, 989: {3: 0.0, 4: 0.0, 7: 0.0, 8: 0.0}, 5363: {3: 0.0, 4: 0.0, 8: 0.0}, 11178: {0: 1.0, 1: 0.0, 2: 0.0, 3: 0.0, 4: 0.0, 6: 0.0}, 11180: {1: 0.0, 2: 0.0, 3: 0.0, 4: 1.0, 6: 0.0}, 11909: {1: 0.0, 2: 0.0, 3: 1.0, 4: 0.0}, 11963: {1: 0.0, 2: 0.0, 4: 0.0}, 11966: {2: 0.0, 4: 0.0}, 11984: {4: 0.0}, 6799: {5: 0.0, 6: 0.0, 7: 0.0}, 7042: {6: 0.0, 7: 0.0}, 8219: {1: 0.0, 5: 0.0, 7: 0.0}, 10406: {1: 1.0, 5: 0.0}, 10892: {1: 0.0}, 12684: {0: 0.0, 4: 0.0}, 12686: {4: 0.0}, 12427: {2: 1.0, 4: 0.0, 5: 0.0}, 12670: {2: 0.0, 4: 0.0}, 12585: {0: 0.0, 2: 0.0, 5: 0.0}, 495: {0: 0.0, 1: 0.0, 3: 0.0, 4: 0.0, 6: 0.0, 7: 0.0, 8: 0.0}, 522: {0: 0.0, 1: 0.0, 4: 1.0, 6: 0.0, 7: 0.0, 8: 0.0}, 4896: {0: 0.0, 1: 0.0, 4: 0.0, 6: 0.0, 8: 0.0}, 4977: {0: 1.0, 1: 0.0, 6: 0.0, 8: 0.0}, 4979: {1: 0.0, 6: 0.0, 8: 0.0}, 11540: {1: 0.0, 6: 0.0}, 11546: {6: 0.0}, 8024: {2: 1.0, 3: 0.0, 4: 0.0, 5: 0.0, 7: 0.0}, 8105: {2: 1.0, 3: 0.0, 5: 0.0, 7: 0.0}, 8591: {2: 0.0, 3: 0.0, 7: 0.0}, 8600: {3: 0.0, 7: 0.0}, 8154: {0: 0.0, 1: 0.0, 2: 0.0, 5: 0.0, 7: 0.0}, 10341: {0: 0.0, 1: 0.0, 2: 0.0, 5: 0.0}, 12519: {0: 0.0, 1: 1.0, 5: 0.0}, 12522: {0: 1.0, 5: 0.0}, 12891: {0: 1.0, 3: 0.0, 4: 0.0}, 12972: {0: 1.0, 3: 0.0}, 12974: {3: 0.0}, 8535: {0: 1.0, 2: 0.0, 4: 0.0, 7: 0.0}, 8537: {2: 0.0, 4: 0.0, 7: 0.0}, 8546: {4: 0.0, 7: 0.0}, 8708: {7: 0.0}, 3143: {1: 0.0, 5: 0.0, 8: 0.0}, 8532: {0: 0.0, 1: 0.0, 2: 0.0, 4: 1.0, 7: 0.0}, 10721: {1: 0.0, 2: 1.0, 4: 0.0}, 10730: {1: 0.0, 4: 0.0}, 10736: {4: 0.0}, 12658: {3: 0.0, 4: 0.0}, 12712: {4: 0.0}, 136: {1: 0.0, 2: 1.0, 5: 0.0, 6: 0.0, 7: 0.0, 8: 0.0}, 622: {1: 0.0, 2: 0.0, 6: 0.0, 7: 0.0, 8: 0.0}, 625: {2: 1.0, 6: 0.0, 7: 0.0, 8: 0.0}, 13747: {2: 0.0, 6: 0.0, 7: 0.0}, 8048: {1: 0.0, 2: 1.0, 4: 0.0, 5: 0.0, 7: 0.0}, 8129: {1: 0.0, 2: 0.0, 5: 0.0, 7: 0.0}, 12503: {1: 1.0, 2: 0.0, 5: 0.0}, 12512: {1: 0.0, 5: 0.0}, 8618: {2: 0.0, 7: 0.0}, 8636: {7: 0.0}, 905: {3: 0.0, 5: 0.0, 7: 0.0, 8: 0.0}, 959: {5: 0.0, 7: 0.0, 8: 0.0}, 3146: {5: 0.0, 8: 0.0}, 5108: {2: 1.0, 3: 0.0, 4: 0.0, 5: 0.0, 8: 0.0}, 5189: {2: 1.0, 3: 0.0, 5: 0.0, 8: 0.0}, 5207: {3: 0.0, 5: 0.0, 8: 0.0}, 5234: {5: 0.0, 8: 0.0}, 5720: {8: 0.0}, 6615: {0: 0.0, 1: 0.0, 2: 1.0, 4: 0.0, 5: 0.0, 6: 0.0, 7: 0.0}, 6624: {0: 0.0, 1: 0.0, 4: 0.0, 5: 0.0, 6: 0.0, 7: 0.0}, 7110: {0: 0.0, 1: 0.0, 4: 0.0, 6: 0.0, 7: 0.0}, 7191: {0: 0.0, 1: 1.0, 6: 0.0, 7: 0.0}, 7197: {0: 1.0, 6: 0.0, 7: 0.0}, 12071: {1: 1.0, 2: 0.0, 3: 0.0}, 4084: {2: 0.0, 8: 0.0}, 17206: {2: 0.0}, 8074: {1: 0.0, 2: 0.0, 4: 0.0, 5: 0.0, 7: 0.0}, 8317: {1: 0.0, 2: 0.0, 4: 0.0, 7: 0.0}, 12691: {1: 1.0, 2: 0.0, 4: 0.0}, 13561: {2: 1.0, 6: 0.0, 7: 0.0}, 15748: {2: 0.0, 6: 0.0}, 8082: {0: 0.0, 1: 0.0, 4: 1.0, 5: 0.0, 7: 0.0}, 8083: {1: 1.0, 4: 0.0, 5: 0.0, 7: 0.0}, 8245: {1: 1.0, 5: 0.0, 7: 0.0}, 8589: {0: 0.0, 2: 1.0, 3: 0.0, 7: 0.0}, 12963: {0: 0.0, 2: 1.0, 3: 0.0}, 19: {1: 0.0, 3: 0.0, 4: 0.0, 5: 0.0, 6: 1.0, 7: 0.0, 8: 0.0}, 6580: {1: 1.0, 3: 0.0, 4: 0.0, 5: 0.0, 6: 0.0, 7: 0.0}, 6634: {1: 0.0, 4: 0.0, 5: 0.0, 6: 0.0, 7: 0.0}, 6877: {1: 0.0, 4: 0.0, 6: 0.0, 7: 0.0}, 8335: {1: 0.0, 4: 0.0, 7: 0.0}, 10522: {1: 1.0, 4: 0.0}, 6909: {0: 0.0, 3: 1.0, 6: 0.0, 7: 0.0}, 11283: {0: 0.0, 3: 0.0, 6: 0.0}, 12012: {0: 1.0, 3: 0.0}, 10747: {1: 1.0, 2: 0.0, 4: 0.0}, 10756: {1: 0.0, 4: 0.0}, 10762: {4: 0.0}, 6637: {4: 0.0, 5: 0.0, 6: 0.0, 7: 0.0}, 7123: {4: 0.0, 6: 0.0, 7: 0.0}, 7852: {4: 0.0, 7: 0.0}, 5364: {0: 0.0, 1: 1.0, 3: 0.0, 4: 0.0, 8: 0.0}, 5367: {0: 0.0, 3: 0.0, 4: 0.0, 8: 0.0}, 5421: {0: 0.0, 4: 0.0, 8: 0.0}, 5422: {4: 0.0, 8: 0.0}, 18544: {4: 0.0}, 10768: {4: 0.0}, 12069: {0: 0.0, 1: 1.0, 2: 0.0, 3: 0.0}, 10474: {3: 0.0, 4: 0.0}, 8077: {2: 1.0, 4: 0.0, 5: 0.0, 7: 0.0}, 6572: {1: 0.0, 3: 1.0, 4: 0.0, 5: 0.0, 6: 0.0, 7: 0.0}, 8030: {1: 1.0, 3: 0.0, 4: 0.0, 5: 0.0, 7: 0.0}, 8057: {1: 0.0, 4: 0.0, 5: 0.0, 7: 0.0}, 8543: {1: 1.0, 4: 0.0, 7: 0.0}, 8076: {0: 0.0, 2: 0.0, 4: 0.0, 5: 0.0, 7: 0.0}, 8319: {0: 1.0, 2: 0.0, 4: 0.0, 7: 0.0}, 10261: {1: 1.0, 2: 0.0, 4: 0.0, 5: 0.0}, 10279: {1: 1.0, 4: 0.0, 5: 0.0}, 8118: {0: 0.0, 1: 0.0, 3: 0.0, 5: 0.0, 7: 0.0}, 8145: {0: 0.0, 1: 1.0, 5: 0.0, 7: 0.0}, 8151: {0: 0.0, 5: 0.0, 7: 0.0}, 10338: {0: 1.0, 5: 0.0}, 10824: {0: 1.0}, 10938: {0: 1.0, 2: 0.0, 3: 0.0, 4: 0.0, 5: 0.0, 6: 0.0}, 10940: {2: 1.0, 3: 0.0, 4: 0.0, 5: 0.0, 6: 0.0}, 11039: {3: 0.0, 5: 0.0, 6: 0.0}, 11282: {3: 0.0, 6: 0.0}, 11336: {6: 0.0}, 12559: {2: 0.0, 3: 0.0, 5: 0.0}, 10701: {0: 0.0, 1: 1.0, 3: 0.0, 4: 0.0}, 10707: {0: 0.0, 3: 0.0, 4: 0.0}, 10788: {0: 1.0, 3: 0.0}, 907: {3: 0.0, 5: 0.0, 7: 0.0, 8: 0.0}, 55: {1: 0.0, 2: 0.0, 4: 0.0, 5: 1.0, 6: 0.0, 7: 0.0, 8: 0.0}, 2242: {1: 0.0, 2: 1.0, 4: 0.0, 5: 0.0, 6: 0.0, 8: 0.0}, 2404: {1: 0.0, 2: 1.0, 5: 0.0, 6: 0.0, 8: 0.0}, 2647: {1: 0.0, 2: 0.0, 6: 0.0, 8: 0.0}, 2653: {2: 0.0, 6: 0.0, 8: 0.0}, 3382: {2: 0.0, 8: 0.0}, 16504: {2: 0.0}, 171: {0: 0.0, 1: 1.0, 3: 0.0, 5: 0.0, 6: 0.0, 7: 0.0, 8: 0.0}, 174: {0: 0.0, 3: 0.0, 5: 0.0, 6: 0.0, 7: 0.0, 8: 0.0}, 660: {0: 0.0, 3: 0.0, 6: 0.0, 7: 0.0, 8: 0.0}, 687: {0: 0.0, 6: 0.0, 7: 0.0, 8: 0.0}, 5061: {0: 0.0, 6: 0.0, 8: 0.0}, 11622: {0: 1.0, 6: 0.0}, 11624: {6: 0.0}, 8316: {0: 0.0, 1: 0.0, 2: 1.0, 4: 0.0, 7: 0.0}, 245: {1: 1.0, 2: 0.0, 3: 0.0, 4: 0.0, 6: 0.0, 7: 0.0, 8: 0.0}, 254: {1: 0.0, 3: 0.0, 4: 0.0, 6: 0.0, 7: 0.0, 8: 0.0}, 260: {3: 0.0, 4: 0.0, 6: 0.0, 7: 0.0, 8: 0.0}, 341: {3: 0.0, 6: 0.0, 7: 0.0, 8: 0.0}, 4715: {3: 0.0, 6: 0.0, 8: 0.0}, 10773: {0: 0.0, 1: 1.0, 2: 0.0, 3: 0.0}, 10791: {0: 0.0, 1: 0.0, 3: 0.0}, 10818: {0: 0.0, 1: 1.0}, 10888: {2: 0.0}, 5: {2: 0.0, 3: 0.0, 4: 0.0, 5: 0.0, 6: 0.0, 7: 0.0, 8: 0.0}, 32: {2: 0.0, 4: 0.0, 5: 0.0, 6: 0.0, 7: 0.0, 8: 0.0}, 1490: {2: 0.0, 4: 0.0, 5: 0.0, 7: 0.0, 8: 0.0}, 3677: {2: 0.0, 4: 0.0, 5: 0.0, 8: 0.0}, 4163: {2: 0.0, 4: 0.0, 8: 0.0}, 6622: {2: 0.0, 4: 1.0, 5: 0.0, 6: 0.0, 7: 0.0}, 8809: {2: 0.0, 4: 0.0, 5: 0.0, 6: 0.0}, 10267: {2: 1.0, 4: 0.0, 5: 0.0}, 10510: {2: 0.0, 4: 0.0}, 10528: {4: 0.0}, 10725: {0: 0.0, 2: 1.0, 4: 0.0}, 10806: {0: 0.0, 2: 0.0}, 29: {1: 0.0, 2: 0.0, 4: 0.0, 5: 0.0, 6: 1.0, 7: 0.0, 8: 0.0}, 272: {1: 0.0, 2: 0.0, 4: 0.0, 6: 0.0, 7: 0.0, 8: 0.0}, 434: {1: 0.0, 2: 0.0, 6: 0.0, 7: 0.0, 8: 0.0}, 443: {1: 0.0, 6: 0.0, 7: 0.0, 8: 0.0}, 449: {6: 0.0, 7: 0.0, 8: 0.0}, 1178: {7: 0.0, 8: 0.0}, 11016: {0: 0.0, 1: 0.0, 2: 0.0, 3: 0.0, 5: 1.0, 6: 0.0}, 8533: {1: 0.0, 2: 1.0, 4: 0.0, 7: 0.0}, 10208: {1: 0.0, 2: 1.0, 3: 0.0, 4: 0.0, 5: 0.0}, 10235: {1: 0.0, 2: 0.0, 4: 0.0, 5: 0.0}, 10802: {1: 0.0, 2: 0.0}, 10808: {2: 0.0}, 10724: {2: 0.0, 4: 0.0}, 10886: {2: 0.0}, 866: {1: 0.0, 2: 1.0, 5: 0.0, 7: 0.0, 8: 0.0}, 1109: {1: 0.0, 2: 0.0, 7: 0.0, 8: 0.0}, 1115: {2: 1.0, 7: 0.0, 8: 0.0}, 7676: {2: 0.0, 7: 0.0}, 10979: {4: 0.0, 5: 0.0, 6: 0.0}, 262: {1: 1.0, 3: 0.0, 4: 0.0, 6: 0.0, 7: 0.0, 8: 0.0}, 424: {1: 0.0, 3: 0.0, 6: 0.0, 7: 0.0, 8: 0.0}, 6985: {1: 0.0, 3: 0.0, 6: 0.0, 7: 0.0}, 7039: {1: 0.0, 6: 0.0, 7: 0.0}, 9226: {1: 1.0, 6: 0.0}, 10775: {1: 0.0, 2: 1.0, 3: 0.0}, 16: {3: 0.0, 4: 0.0, 5: 0.0, 6: 0.0, 7: 0.0, 8: 0.0}, 1474: {3: 0.0, 4: 0.0, 5: 0.0, 7: 0.0, 8: 0.0}, 1717: {3: 1.0, 4: 0.0, 7: 0.0, 8: 0.0}, 14839: {3: 0.0, 4: 0.0, 7: 0.0}, 17026: {3: 0.0, 4: 0.0}, 17188: {3: 0.0}, 3780: {0: 0.0, 1: 1.0, 2: 0.0, 5: 0.0, 8: 0.0}, 10224: {0: 0.0, 1: 0.0, 3: 1.0, 4: 0.0, 5: 0.0}, 10305: {0: 1.0, 1: 0.0, 3: 0.0, 5: 0.0}, 10307: {1: 0.0, 3: 0.0, 5: 0.0}, 10695: {0: 0.0, 2: 0.0, 3: 1.0, 4: 0.0}, 10857: {0: 1.0, 2: 0.0, 3: 0.0}, 10858: {2: 0.0, 3: 0.0}, 10779: {0: 0.0, 2: 1.0, 3: 0.0}, 2206: {1: 0.0, 3: 1.0, 4: 0.0, 5: 0.0, 6: 0.0, 8: 0.0}, 2692: {1: 1.0, 3: 0.0, 4: 0.0, 6: 0.0, 8: 0.0}, 2719: {1: 0.0, 4: 0.0, 6: 0.0, 8: 0.0}, 8912: {1: 0.0, 2: 0.0, 3: 0.0, 5: 0.0, 6: 0.0}, 17080: {4: 0.0}, 13131: {0: 1.0, 1: 0.0, 3: 0.0, 4: 0.0, 5: 0.0, 6: 0.0, 7: 0.0}, 13212: {0: 0.0, 1: 1.0, 3: 0.0, 5: 0.0, 6: 0.0, 7: 0.0}, 13218: {0: 0.0, 3: 0.0, 5: 0.0, 6: 0.0, 7: 0.0}, 15405: {0: 1.0, 3: 0.0, 5: 0.0, 6: 0.0}, 15891: {0: 1.0, 3: 0.0, 6: 0.0}, 15892: {3: 0.0, 6: 0.0}, 17350: {3: 0.0}, 10954: {1: 0.0, 3: 0.0, 4: 0.0, 5: 0.0, 6: 0.0}, 10981: {1: 0.0, 4: 0.0, 5: 0.0, 6: 0.0}, 10987: {4: 0.0, 5: 0.0, 6: 0.0}, 11230: {4: 0.0, 6: 0.0}, 10253: {1: 1.0, 4: 0.0, 5: 0.0}, 10334: {1: 0.0, 5: 0.0}, 4618: {1: 0.0, 2: 1.0, 3: 0.0, 4: 0.0, 6: 0.0, 8: 0.0}, 4672: {1: 1.0, 2: 0.0, 4: 0.0, 6: 0.0, 8: 0.0}, 4681: {1: 1.0, 4: 0.0, 6: 0.0, 8: 0.0}, 4843: {1: 1.0, 6: 0.0, 8: 0.0}, 6824: {1: 0.0, 3: 1.0, 4: 0.0, 6: 0.0, 7: 0.0}, 7553: {1: 0.0, 3: 0.0, 4: 0.0, 7: 0.0}, 7715: {1: 0.0, 3: 0.0, 7: 0.0}, 7718: {3: 0.0, 7: 0.0}, 12092: {3: 0.0}, 249: {0: 0.0, 2: 0.0, 3: 1.0, 4: 0.0, 6: 0.0, 7: 0.0, 8: 0.0}, 330: {0: 0.0, 2: 0.0, 3: 0.0, 6: 0.0, 7: 0.0, 8: 0.0}, 348: {0: 0.0, 3: 1.0, 6: 0.0, 7: 0.0, 8: 0.0}, 2535: {0: 1.0, 3: 0.0, 6: 0.0, 8: 0.0}, 3993: {0: 0.0, 3: 0.0, 8: 0.0}, 10554: {0: 0.0, 3: 0.0}, 10608: {0: 1.0}, 570: {0: 0.0, 2: 0.0, 3: 0.0, 6: 0.0, 7: 0.0, 8: 0.0}, 4944: {0: 0.0, 2: 0.0, 3: 1.0, 6: 0.0, 8: 0.0}, 5673: {0: 0.0, 2: 0.0, 3: 1.0, 8: 0.0}, 18795: {0: 0.0, 2: 1.0, 3: 0.0}, 18822: {0: 1.0, 2: 0.0}, 18824: {2: 0.0}, 10713: {0: 0.0, 3: 0.0, 4: 0.0}, 10740: {0: 1.0, 4: 0.0}, 10742: {4: 0.0}, 12717: {0: 0.0, 1: 0.0, 2: 0.0, 3: 1.0}, 12771: {0: 0.0, 1: 1.0, 2: 0.0}, 12774: {0: 0.0, 2: 0.0}, 12792: {0: 1.0}, 735: {0: 0.0, 2: 0.0, 3: 0.0, 4: 0.0, 5: 0.0, 7: 0.0, 8: 0.0}, 744: {0: 0.0, 3: 0.0, 4: 0.0, 5: 0.0, 7: 0.0, 8: 0.0}, 906: {0: 1.0, 3: 0.0, 5: 0.0, 7: 0.0, 8: 0.0}, 6876: {0: 0.0, 1: 0.0, 4: 0.0, 6: 0.0, 7: 0.0}, 7605: {0: 0.0, 1: 1.0, 4: 0.0, 7: 0.0}, 7611: {0: 1.0, 4: 0.0, 7: 0.0}, 7612: {4: 0.0, 7: 0.0}, 7774: {7: 0.0}, 9253: {1: 1.0, 3: 0.0, 4: 0.0, 6: 0.0}, 9307: {1: 0.0, 4: 0.0, 6: 0.0}, 9310: {4: 0.0, 6: 0.0}, 502: {3: 1.0, 4: 0.0, 6: 0.0, 7: 0.0, 8: 0.0}, 2689: {3: 0.0, 4: 0.0, 6: 0.0, 8: 0.0}, 2743: {4: 0.0, 6: 0.0, 8: 0.0}, 3472: {4: 0.0, 8: 0.0}, 4401: {0: 0.0, 1: 0.0, 2: 0.0, 4: 0.0, 5: 0.0, 6: 0.0, 8: 0.0}, 4482: {0: 1.0, 1: 0.0, 2: 0.0, 5: 0.0, 6: 0.0, 8: 0.0}, 4484: {1: 0.0, 2: 0.0, 5: 0.0, 6: 0.0, 8: 0.0}, 11045: {1: 0.0, 2: 0.0, 5: 0.0, 6: 0.0}, 11051: {2: 0.0, 5: 0.0, 6: 0.0}, 11060: {5: 0.0, 6: 0.0}, 6594: {0: 0.0, 2: 0.0, 4: 0.0, 5: 0.0, 6: 0.0, 7: 0.0}, 6756: {0: 0.0, 2: 0.0, 5: 0.0, 6: 0.0, 7: 0.0}, 8943: {0: 0.0, 2: 1.0, 5: 0.0, 6: 0.0}, 9429: {0: 0.0, 2: 1.0, 6: 0.0}, 52: {4: 0.0, 5: 0.0, 6: 0.0, 7: 0.0, 8: 0.0}, 295: {4: 0.0, 6: 0.0, 7: 0.0, 8: 0.0}, 4669: {4: 0.0, 6: 0.0, 8: 0.0}, 45: {0: 0.0, 1: 0.0, 4: 0.0, 5: 1.0, 6: 0.0, 7: 0.0, 8: 0.0}, 2232: {0: 0.0, 1: 0.0, 4: 0.0, 5: 0.0, 6: 0.0, 8: 0.0}, 2234: {1: 0.0, 4: 1.0, 5: 0.0, 6: 0.0, 8: 0.0}, 8795: {1: 0.0, 4: 0.0, 5: 0.0, 6: 0.0}, 794: {1: 1.0, 4: 0.0, 5: 0.0, 7: 0.0, 8: 0.0}, 4408: {2: 0.0, 4: 0.0, 5: 0.0, 6: 0.0, 8: 0.0}, 457: {6: 0.0, 7: 0.0, 8: 0.0}, 2644: {6: 0.0, 8: 0.0}, 6612: {0: 1.0, 4: 0.0, 5: 0.0, 6: 0.0, 7: 0.0}, 6613: {4: 0.0, 5: 0.0, 6: 0.0, 7: 0.0}, 6775: {5: 0.0, 6: 0.0, 7: 0.0}, 7018: {6: 0.0, 7: 0.0}, 114: {0: 0.0, 2: 0.0, 5: 1.0, 6: 0.0, 7: 0.0, 8: 0.0}, 13236: {0: 0.0, 2: 0.0, 5: 0.0, 6: 0.0, 7: 0.0}, 13965: {0: 0.0, 2: 1.0, 5: 0.0, 7: 0.0}, 14451: {0: 0.0, 2: 0.0, 7: 0.0}, 16638: {0: 0.0, 2: 0.0}, 16640: {2: 0.0}, 178: {3: 1.0, 5: 0.0, 6: 0.0, 7: 0.0, 8: 0.0}, 2365: {3: 0.0, 5: 0.0, 6: 0.0, 8: 0.0}, 2851: {3: 0.0, 6: 0.0, 8: 0.0}, 3580: {3: 0.0, 8: 0.0}, 16702: {3: 0.0}, 8624: {1: 0.0, 7: 0.0}, 8630: {7: 0.0}, 17524: {1: 0.0, 2: 0.0, 4: 1.0, 5: 0.0, 6: 0.0}, 520: {2: 0.0, 4: 1.0, 6: 0.0, 7: 0.0, 8: 0.0}, 7081: {2: 1.0, 4: 0.0, 6: 0.0, 7: 0.0}, 8539: {2: 0.0, 4: 0.0, 7: 0.0}, 8548: {4: 0.0, 7: 0.0}, 42: {0: 0.0, 4: 0.0, 5: 0.0, 6: 0.0, 7: 0.0, 8: 0.0}, 204: {0: 0.0, 5: 0.0, 6: 0.0, 7: 0.0, 8: 0.0}, 6765: {0: 0.0, 5: 0.0, 6: 0.0, 7: 0.0}, 6767: {5: 0.0, 6: 0.0, 7: 0.0}, 7496: {5: 0.0, 7: 0.0}, 7982: {7: 0.0}, 2194: {2: 1.0, 3: 0.0, 4: 0.0, 5: 0.0, 6: 0.0, 8: 0.0}, 2356: {2: 0.0, 3: 1.0, 5: 0.0, 6: 0.0, 8: 0.0}, 3085: {2: 0.0, 3: 0.0, 5: 0.0, 8: 0.0}, 3103: {3: 0.0, 5: 0.0, 8: 0.0}, 3346: {3: 0.0, 8: 0.0}, 3400: {8: 0.0}, 12436: {4: 0.0, 5: 0.0}, 513: {0: 0.0, 1: 0.0, 2: 0.0, 4: 0.0, 6: 0.0, 7: 0.0, 8: 0.0}, 2700: {0: 0.0, 1: 0.0, 2: 0.0, 4: 1.0, 6: 0.0, 8: 0.0}, 4158: {0: 0.0, 1: 1.0, 2: 0.0, 4: 0.0, 8: 0.0}, 4159: {1: 1.0, 2: 0.0, 4: 0.0, 8: 0.0}, 4177: {1: 0.0, 4: 0.0, 8: 0.0}, 4180: {4: 0.0, 8: 0.0}, 276: {0: 1.0, 2: 0.0, 4: 0.0, 6: 0.0, 7: 0.0, 8: 0.0}, 438: {0: 0.0, 2: 0.0, 6: 0.0, 7: 0.0, 8: 0.0}, 6999: {0: 0.0, 2: 1.0, 6: 0.0, 7: 0.0}, 13156: {2: 0.0, 4: 1.0, 5: 0.0, 6: 0.0, 7: 0.0}, 15343: {2: 0.0, 4: 0.0, 5: 0.0, 6: 0.0}, 15361: {4: 0.0, 5: 0.0, 6: 0.0}, 15604: {4: 0.0, 6: 0.0}, 15766: {6: 0.0}, 294: {0: 0.0, 4: 0.0, 6: 0.0, 7: 0.0, 8: 0.0}, 2481: {0: 0.0, 4: 0.0, 6: 0.0, 8: 0.0}, 3939: {0: 0.0, 4: 0.0, 8: 0.0}, 10500: {0: 0.0, 4: 0.0}, 1492: {2: 0.0, 4: 1.0, 5: 0.0, 7: 0.0, 8: 0.0}, 1735: {2: 0.0, 4: 0.0, 7: 0.0, 8: 0.0}, 14857: {2: 0.0, 4: 0.0, 7: 0.0}, 17044: {2: 0.0, 4: 0.0}, 17062: {4: 0.0}, 15309: {0: 1.0, 1: 0.0, 2: 0.0, 3: 0.0, 4: 0.0, 5: 0.0, 6: 0.0}, 15310: {1: 0.0, 2: 1.0, 3: 0.0, 4: 0.0, 5: 0.0, 6: 0.0}, 15364: {1: 1.0, 2: 0.0, 4: 0.0, 5: 0.0, 6: 0.0}, 15373: {1: 0.0, 4: 0.0, 5: 0.0, 6: 0.0}, 15859: {1: 1.0, 4: 0.0, 6: 0.0}, 15940: {1: 1.0, 6: 0.0}, 17398: {1: 0.0}, 2394: {0: 1.0, 1: 0.0, 5: 0.0, 6: 0.0, 8: 0.0}, 2395: {1: 0.0, 5: 0.0, 6: 0.0, 8: 0.0}, 15517: {1: 1.0, 5: 0.0, 6: 0.0}, 15760: {1: 1.0, 6: 0.0}, 17527: {2: 0.0, 4: 0.0, 5: 0.0, 6: 0.0}, 18013: {2: 1.0, 4: 0.0, 6: 0.0}, 3132: {0: 0.0, 1: 0.0, 2: 1.0, 5: 0.0, 8: 0.0}, 3141: {0: 1.0, 1: 0.0, 5: 0.0, 8: 0.0}, 3386: {1: 0.0, 8: 0.0}, 3392: {8: 0.0}, 13392: {0: 0.0, 1: 1.0, 2: 0.0, 4: 0.0, 6: 0.0, 7: 0.0}, 13398: {0: 1.0, 2: 0.0, 4: 0.0, 6: 0.0, 7: 0.0}, 13399: {2: 0.0, 4: 0.0, 6: 0.0, 7: 0.0}, 4500: {0: 1.0, 1: 0.0, 5: 0.0, 6: 0.0, 8: 0.0}, 4501: {1: 0.0, 5: 0.0, 6: 0.0, 8: 0.0}, 4507: {5: 0.0, 6: 0.0, 8: 0.0}, 13230: {0: 0.0, 1: 1.0, 2: 0.0, 5: 0.0, 6: 0.0, 7: 0.0}, 3467: {1: 0.0, 4: 0.0, 8: 0.0}, 4239: {0: 0.0, 1: 0.0, 2: 1.0, 8: 0.0}, 4257: {0: 1.0, 1: 0.0, 8: 0.0}, 4258: {1: 0.0, 8: 0.0}, 588: {0: 0.0, 3: 0.0, 6: 0.0, 7: 0.0, 8: 0.0}, 7149: {0: 0.0, 3: 0.0, 6: 0.0, 7: 0.0}, 7203: {0: 0.0, 6: 0.0, 7: 0.0}, 15336: {0: 0.0, 1: 0.0, 2: 0.0, 4: 0.0, 5: 0.0, 6: 0.0}, 15498: {0: 1.0, 1: 0.0, 2: 0.0, 5: 0.0, 6: 0.0}, 15499: {1: 1.0, 2: 0.0, 5: 0.0, 6: 0.0}, 16957: {1: 0.0, 2: 1.0, 5: 0.0}, 17200: {1: 0.0, 2: 0.0}, 13203: {0: 0.0, 1: 0.0, 2: 0.0, 3: 0.0, 5: 1.0, 6: 0.0, 7: 0.0}, 13206: {0: 0.0, 2: 0.0, 3: 0.0, 5: 0.0, 6: 0.0, 7: 0.0}, 14664: {0: 0.0, 2: 0.0, 3: 0.0, 5: 0.0, 7: 0.0}, 14673: {0: 0.0, 3: 0.0, 5: 0.0, 7: 0.0}, 14727: {0: 0.0, 5: 0.0, 7: 0.0}, 14970: {0: 0.0, 7: 0.0}, 10737: {0: 1.0, 1: 0.0, 4: 0.0}, 13410: {0: 0.0, 1: 1.0, 4: 0.0, 6: 0.0, 7: 0.0}, 13413: {0: 0.0, 4: 0.0, 6: 0.0, 7: 0.0}, 13575: {0: 1.0, 6: 0.0, 7: 0.0}, 14304: {0: 1.0, 7: 0.0}, 17605: {1: 0.0, 2: 0.0, 5: 0.0, 6: 0.0}, 18091: {1: 1.0, 2: 0.0, 6: 0.0}, 18100: {1: 0.0, 6: 0.0}, 18106: {6: 0.0}, 13636: {1: 1.0, 2: 0.0, 4: 0.0, 6: 0.0, 7: 0.0}, 13717: {1: 1.0, 2: 0.0, 6: 0.0, 7: 0.0}, 13312: {1: 0.0, 2: 1.0, 5: 0.0, 6: 0.0, 7: 0.0}, 13555: {1: 0.0, 2: 1.0, 6: 0.0, 7: 0.0}, 17929: {1: 0.0, 2: 1.0, 6: 0.0}, 13365: {0: 0.0, 1: 0.0, 2: 1.0, 3: 0.0, 4: 0.0, 6: 0.0, 7: 0.0}, 17787: {0: 0.0, 4: 0.0, 6: 0.0}, 13168: {1: 0.0, 4: 0.0, 5: 0.0, 6: 0.0, 7: 0.0}, 1242: {0: 0.0, 1: 1.0, 2: 0.0, 4: 0.0, 7: 0.0, 8: 0.0}, 1248: {0: 0.0, 2: 0.0, 4: 0.0, 7: 0.0, 8: 0.0}, 1257: {0: 0.0, 4: 0.0, 7: 0.0, 8: 0.0}, 14379: {0: 0.0, 4: 0.0, 7: 0.0}, 16566: {0: 0.0, 4: 0.0}, 16728: {0: 1.0}, 17767: {1: 0.0, 2: 0.0, 4: 0.0, 6: 0.0}, 17773: {2: 1.0, 4: 0.0, 6: 0.0}, 2975: {2: 1.0, 4: 0.0, 5: 0.0, 8: 0.0}, 3461: {2: 0.0, 4: 0.0, 8: 0.0}, 57: {0: 0.0, 2: 0.0, 4: 0.0, 5: 0.0, 6: 0.0, 7: 0.0, 8: 0.0}, 66: {0: 0.0, 4: 1.0, 5: 0.0, 6: 0.0, 7: 0.0, 8: 0.0}, 4440: {0: 0.0, 4: 1.0, 5: 0.0, 6: 0.0, 8: 0.0}, 11001: {0: 1.0, 4: 0.0, 5: 0.0, 6: 0.0}, 11003: {4: 0.0, 5: 0.0, 6: 0.0}, 2248: {2: 1.0, 4: 0.0, 5: 0.0, 6: 0.0, 8: 0.0}, 2977: {2: 0.0, 4: 0.0, 5: 0.0, 8: 0.0}, 16099: {2: 0.0, 4: 0.0, 5: 0.0}, 16108: {4: 0.0, 5: 0.0}, 16594: {4: 0.0}, 13232: {1: 0.0, 2: 0.0, 5: 0.0, 6: 0.0, 7: 0.0}, 15419: {1: 1.0, 2: 0.0, 5: 0.0, 6: 0.0}, 15437: {1: 1.0, 5: 0.0, 6: 0.0}, 4644: {0: 0.0, 1: 0.0, 2: 1.0, 4: 0.0, 6: 0.0, 8: 0.0}, 4662: {0: 0.0, 1: 0.0, 4: 0.0, 6: 0.0, 8: 0.0}, 261: {0: 0.0, 1: 0.0, 3: 0.0, 4: 0.0, 6: 1.0, 7: 0.0, 8: 0.0}, 342: {0: 0.0, 1: 0.0, 3: 1.0, 6: 0.0, 7: 0.0, 8: 0.0}, 1800: {0: 0.0, 1: 1.0, 3: 0.0, 7: 0.0, 8: 0.0}, 1803: {0: 0.0, 3: 0.0, 7: 0.0, 8: 0.0}, 1857: {0: 0.0, 7: 0.0, 8: 0.0}, 405: {0: 0.0, 1: 0.0, 2: 0.0, 3: 0.0, 6: 0.0, 7: 0.0, 8: 0.0}, 1134: {0: 0.0, 1: 0.0, 2: 0.0, 3: 0.0, 7: 0.0, 8: 0.0}, 1136: {1: 0.0, 2: 0.0, 3: 0.0, 7: 0.0, 8: 0.0}, 7697: {1: 0.0, 2: 0.0, 3: 1.0, 7: 0.0}, 13394: {1: 0.0, 2: 1.0, 4: 0.0, 6: 0.0, 7: 0.0}, 13878: {0: 1.0, 1: 0.0, 2: 0.0, 4: 0.0, 5: 0.0, 7: 0.0}, 13880: {1: 0.0, 2: 1.0, 4: 0.0, 5: 0.0, 7: 0.0}, 13961: {1: 0.0, 2: 0.0, 5: 0.0, 7: 0.0}, 13967: {2: 0.0, 5: 0.0, 7: 0.0}, 7363: {1: 0.0, 4: 0.0, 5: 0.0, 7: 0.0}, 11737: {1: 0.0, 4: 0.0, 5: 0.0}, 8064: {0: 0.0, 1: 0.0, 4: 0.0, 5: 0.0, 7: 0.0}, 2220: {0: 0.0, 2: 0.0, 4: 0.0, 5: 0.0, 6: 0.0, 8: 0.0}, 2238: {0: 0.0, 4: 0.0, 5: 0.0, 6: 0.0, 8: 0.0}, 2319: {0: 0.0, 5: 0.0, 6: 0.0, 8: 0.0}, 3777: {0: 0.0, 5: 0.0, 8: 0.0}, 7292: {1: 0.0, 2: 0.0, 3: 0.0, 4: 0.0, 5: 1.0, 7: 0.0}, 11666: {1: 0.0, 2: 1.0, 3: 0.0, 4: 0.0, 5: 0.0}, 6590: {1: 0.0, 2: 1.0, 4: 0.0, 5: 0.0, 6: 0.0, 7: 0.0}, 6752: {1: 0.0, 2: 0.0, 5: 0.0, 6: 0.0, 7: 0.0}, 6755: {2: 0.0, 5: 0.0, 6: 0.0, 7: 0.0}, 7241: {2: 0.0, 6: 0.0, 7: 0.0}, 7970: {2: 0.0, 7: 0.0}, 7988: {7: 0.0}, 788: {2: 0.0, 4: 0.0, 5: 0.0, 7: 0.0, 8: 0.0}, 869: {2: 1.0, 5: 0.0, 7: 0.0, 8: 0.0}, 5243: {2: 1.0, 5: 0.0, 8: 0.0}, 15013: {1: 0.0, 2: 0.0, 7: 0.0}, 15016: {2: 0.0, 7: 0.0}, 11455: {2: 0.0, 4: 0.0, 6: 0.0}, 7454: {1: 0.0, 2: 0.0, 3: 0.0, 5: 0.0, 7: 0.0}, 13645: {1: 0.0, 4: 0.0, 6: 0.0, 7: 0.0}, 13651: {4: 0.0, 6: 0.0, 7: 0.0}, 15838: {4: 0.0, 6: 0.0}, 16000: {6: 0.0}, 6742: {1: 1.0, 3: 0.0, 5: 0.0, 6: 0.0, 7: 0.0}, 7471: {1: 1.0, 3: 0.0, 5: 0.0, 7: 0.0}, 7525: {1: 0.0, 5: 0.0, 7: 0.0}, 7768: {1: 0.0, 7: 0.0}, 7221: {0: 0.0, 3: 1.0, 6: 0.0, 7: 0.0}, 11595: {0: 0.0, 3: 0.0, 6: 0.0}, 6745: {3: 0.0, 5: 0.0, 6: 0.0, 7: 0.0}, 7231: {3: 0.0, 6: 0.0, 7: 0.0}, 7258: {6: 0.0, 7: 0.0}, 100: {1: 0.0, 3: 0.0, 5: 0.0, 6: 0.0, 7: 0.0, 8: 0.0}, 586: {1: 1.0, 3: 0.0, 6: 0.0, 7: 0.0, 8: 0.0}, 613: {1: 0.0, 6: 0.0, 7: 0.0, 8: 0.0}, 4987: {1: 0.0, 6: 0.0, 8: 0.0}, 64: {1: 0.0, 4: 0.0, 5: 0.0, 6: 0.0, 7: 0.0, 8: 0.0}, 1522: {1: 0.0, 4: 0.0, 5: 0.0, 7: 0.0, 8: 0.0}, 1765: {1: 0.0, 4: 0.0, 7: 0.0, 8: 0.0}, 6139: {1: 0.0, 4: 0.0, 8: 0.0}, 1555: {3: 0.0, 5: 0.0, 7: 0.0, 8: 0.0}, 1609: {5: 0.0, 7: 0.0, 8: 0.0}, 1852: {7: 0.0, 8: 0.0}, 6226: {8: 0.0}, 22: {3: 0.0, 4: 0.0, 5: 0.0, 6: 0.0, 7: 0.0, 8: 0.0}, 508: {3: 0.0, 4: 1.0, 6: 0.0, 7: 0.0, 8: 0.0}, 7069: {3: 0.0, 4: 0.0, 6: 0.0, 7: 0.0}, 2824: {6: 0.0, 8: 0.0}, 15946: {6: 0.0}, 487: {1: 0.0, 2: 0.0, 3: 0.0, 4: 1.0, 6: 0.0, 7: 0.0, 8: 0.0}, 1216: {1: 0.0, 2: 1.0, 3: 0.0, 4: 0.0, 7: 0.0, 8: 0.0}, 1270: {1: 0.0, 2: 0.0, 4: 0.0, 7: 0.0, 8: 0.0}, 1273: {2: 0.0, 4: 0.0, 7: 0.0, 8: 0.0}, 1291: {4: 0.0, 7: 0.0, 8: 0.0}, 3478: {4: 0.0, 8: 0.0}, 1459: {1: 0.0, 2: 0.0, 3: 0.0, 4: 0.0, 5: 1.0, 7: 0.0, 8: 0.0}, 3646: {1: 0.0, 2: 1.0, 3: 0.0, 4: 0.0, 5: 0.0, 8: 0.0}, 3700: {1: 1.0, 2: 0.0, 4: 0.0, 5: 0.0, 8: 0.0}, 3709: {1: 0.0, 4: 0.0, 5: 0.0, 8: 0.0}, 4195: {1: 1.0, 4: 0.0, 8: 0.0}, 4276: {1: 1.0, 8: 0.0}, 4282: {8: 0.0}, 5511: {0: 0.0, 2: 1.0, 3: 0.0, 8: 0.0}, 5565: {0: 0.0, 2: 0.0, 8: 0.0}, 5574: {0: 1.0, 8: 0.0}, 5576: {8: 0.0}, 9412: {3: 0.0, 6: 0.0}, 4375: {1: 0.0, 2: 0.0, 3: 0.0, 4: 0.0, 5: 0.0, 6: 0.0, 8: 0.0}, 4378: {2: 0.0, 3: 1.0, 4: 0.0, 5: 0.0, 6: 0.0, 8: 0.0}, 4396: {3: 0.0, 4: 0.0, 5: 0.0, 6: 0.0, 8: 0.0}, 4423: {4: 0.0, 5: 0.0, 6: 0.0, 8: 0.0}, 17545: {4: 0.0, 5: 0.0, 6: 0.0}, 17788: {4: 0.0, 6: 0.0}, 1378: {1: 0.0, 2: 1.0, 3: 0.0, 7: 0.0, 8: 0.0}, 15811: {3: 0.0, 4: 0.0, 6: 0.0}, 88: {2: 0.0, 3: 0.0, 5: 0.0, 6: 0.0, 7: 0.0, 8: 0.0}, 142: {2: 0.0, 5: 0.0, 6: 0.0, 7: 0.0, 8: 0.0}, 385: {2: 1.0, 6: 0.0, 7: 0.0, 8: 0.0}, 4759: {2: 0.0, 6: 0.0, 8: 0.0}, 5488: {2: 0.0, 8: 0.0}, 18610: {2: 0.0}, 6769: {1: 0.0, 5: 0.0, 6: 0.0, 7: 0.0}, 4147: {3: 0.0, 4: 0.0, 8: 0.0}, 4540: {2: 0.0, 3: 1.0, 5: 0.0, 6: 0.0, 8: 0.0}, 5269: {2: 0.0, 3: 0.0, 5: 0.0, 8: 0.0}, 5287: {3: 0.0, 5: 0.0, 8: 0.0}, 11848: {3: 0.0, 5: 0.0}, 12334: {3: 0.0}, 163: {1: 0.0, 2: 0.0, 3: 0.0, 5: 1.0, 6: 0.0, 7: 0.0, 8: 0.0}, 2350: {1: 1.0, 2: 0.0, 3: 0.0, 5: 0.0, 6: 0.0, 8: 0.0}, 2368: {1: 0.0, 3: 0.0, 5: 0.0, 6: 0.0, 8: 0.0}, 17296: {4: 0.0}, 205: {5: 0.0, 6: 0.0, 7: 0.0, 8: 0.0}, 1663: {5: 0.0, 7: 0.0, 8: 0.0}, 3850: {5: 0.0, 8: 0.0}, 4336: {8: 0.0}, 70: {4: 0.0, 5: 0.0, 6: 0.0, 7: 0.0, 8: 0.0}, 799: {4: 0.0, 5: 0.0, 7: 0.0, 8: 0.0}, 13921: {4: 0.0, 5: 0.0, 7: 0.0}, 14164: {4: 0.0, 7: 0.0}, 14326: {7: 0.0}, 151: {5: 0.0, 6: 0.0, 7: 0.0, 8: 0.0}, 637: {6: 0.0, 7: 0.0, 8: 0.0}, 10260: {0: 1.0, 1: 0.0, 2: 0.0, 4: 0.0, 5: 0.0}, 4864: {2: 1.0, 3: 0.0, 4: 0.0, 6: 0.0, 8: 0.0}, 4945: {2: 0.0, 3: 0.0, 6: 0.0, 8: 0.0}, 4963: {3: 0.0, 6: 0.0, 8: 0.0}, 18538: {4: 0.0}, 1043: {4: 0.0, 7: 0.0, 8: 0.0}, 3230: {4: 0.0, 8: 0.0}, 10942: {2: 1.0, 3: 0.0, 4: 0.0, 5: 0.0, 6: 0.0}, 11671: {2: 1.0, 3: 0.0, 4: 0.0, 5: 0.0}, 7063: {3: 0.0, 4: 0.0, 6: 0.0, 7: 0.0}, 7225: {3: 0.0, 6: 0.0, 7: 0.0}, 871: {2: 0.0, 5: 0.0, 7: 0.0, 8: 0.0}, 13993: {2: 1.0, 5: 0.0, 7: 0.0}, 16180: {2: 0.0, 5: 0.0}, 16666: {2: 0.0}, 1231: {3: 0.0, 4: 0.0, 7: 0.0, 8: 0.0}, 1285: {4: 0.0, 7: 0.0, 8: 0.0}, 4999: {2: 0.0, 6: 0.0, 8: 0.0}, 250: {2: 1.0, 3: 0.0, 4: 0.0, 6: 0.0, 7: 0.0, 8: 0.0}, 412: {2: 0.0, 3: 0.0, 6: 0.0, 7: 0.0, 8: 0.0}, 529: {4: 0.0, 6: 0.0, 7: 0.0, 8: 0.0}, 691: {6: 0.0, 7: 0.0, 8: 0.0}, 7252: {6: 0.0, 7: 0.0}, 1393: {3: 0.0, 7: 0.0, 8: 0.0}, 7954: {3: 0.0, 7: 0.0}, 13123: {1: 1.0, 2: 0.0, 3: 0.0, 4: 0.0, 5: 0.0, 6: 0.0, 7: 0.0}, 10217: {1: 1.0, 3: 0.0, 4: 0.0, 5: 0.0}, 10703: {1: 1.0, 3: 0.0, 4: 0.0}, 552: {0: 1.0, 4: 0.0, 6: 0.0, 7: 0.0, 8: 0.0}, 5352: {0: 0.0, 2: 0.0, 3: 0.0, 4: 0.0, 8: 0.0}, 5361: {0: 0.0, 3: 0.0, 4: 0.0, 8: 0.0}, 5415: {0: 0.0, 4: 0.0, 8: 0.0}, 13138: {3: 0.0, 4: 0.0, 5: 0.0, 6: 0.0, 7: 0.0}, 13165: {4: 0.0, 5: 0.0, 6: 0.0, 7: 0.0}, 46: {1: 0.0, 4: 0.0, 5: 0.0, 6: 0.0, 7: 0.0, 8: 0.0}, 1504: {1: 0.0, 4: 0.0, 5: 0.0, 7: 0.0, 8: 0.0}, 1747: {1: 0.0, 4: 0.0, 7: 0.0, 8: 0.0}, 1753: {4: 0.0, 7: 0.0, 8: 0.0}, 3940: {4: 0.0, 8: 0.0}, 13219: {3: 0.0, 5: 0.0, 6: 0.0, 7: 0.0}, 14677: {3: 0.0, 5: 0.0, 7: 0.0}, 16864: {3: 0.0, 5: 0.0}, 16918: {5: 0.0}, 16831: {1: 0.0, 4: 0.0, 5: 0.0}, 17593: {3: 0.0, 5: 0.0, 6: 0.0}, 17620: {5: 0.0, 6: 0.0}, 14704: {5: 0.0, 7: 0.0}, 4624: {2: 1.0, 3: 0.0, 4: 0.0, 6: 0.0, 8: 0.0}, 4705: {2: 0.0, 3: 1.0, 6: 0.0, 8: 0.0}, 4723: {3: 0.0, 6: 0.0, 8: 0.0}, 5452: {3: 0.0, 8: 0.0}, 5506: {8: 0.0}, 1279: {1: 0.0, 4: 0.0, 7: 0.0, 8: 0.0}, 7846: {4: 0.0, 7: 0.0}, 15487: {3: 0.0, 5: 0.0, 6: 0.0}, 16216: {3: 0.0, 5: 0.0}, 16270: {5: 0.0}, 14920: {3: 0.0, 7: 0.0}, 14974: {7: 0.0}, 2324: {1: 0.0, 2: 0.0, 5: 0.0, 6: 0.0, 8: 0.0}, 3053: {1: 0.0, 2: 0.0, 5: 0.0, 8: 0.0}, 16175: {1: 1.0, 2: 0.0, 5: 0.0}, 567: {0: 0.0, 1: 1.0, 2: 0.0, 3: 0.0, 6: 0.0, 7: 0.0, 8: 0.0}, 1296: {0: 1.0, 1: 0.0, 2: 0.0, 3: 0.0, 7: 0.0, 8: 0.0}, 1298: {1: 0.0, 2: 0.0, 3: 0.0, 7: 0.0, 8: 0.0}, 7859: {1: 0.0, 2: 0.0, 3: 0.0, 7: 0.0}, 7865: {2: 0.0, 3: 0.0, 7: 0.0}, 7892: {2: 0.0, 7: 0.0}, 3470: {4: 0.0, 8: 0.0}, 2401: {5: 0.0, 6: 0.0, 8: 0.0}, 2436: {0: 0.0, 2: 0.0, 3: 0.0, 4: 0.0, 6: 0.0, 8: 0.0}, 15558: {0: 0.0, 2: 0.0, 3: 0.0, 4: 0.0, 6: 0.0}, 15567: {0: 0.0, 3: 0.0, 4: 0.0, 6: 0.0}, 15729: {0: 0.0, 3: 0.0, 6: 0.0}, 15756: {0: 0.0, 6: 0.0}, 17214: {0: 1.0}, 2260: {1: 0.0, 4: 0.0, 5: 0.0, 6: 0.0, 8: 0.0}, 2503: {1: 0.0, 4: 0.0, 6: 0.0, 8: 0.0}, 15625: {1: 0.0, 4: 0.0, 6: 0.0}, 15628: {4: 0.0, 6: 0.0}, 15790: {6: 0.0}, 14623: {4: 0.0, 5: 0.0, 7: 0.0}, 16810: {4: 0.0, 5: 0.0}, 2383: {2: 0.0, 5: 0.0, 6: 0.0, 8: 0.0}, 1558: {1: 1.0, 3: 0.0, 5: 0.0, 7: 0.0, 8: 0.0}, 1585: {1: 0.0, 5: 0.0, 7: 0.0, 8: 0.0}, 14707: {1: 0.0, 5: 0.0, 7: 0.0}, 14710: {5: 0.0, 7: 0.0}, 4651: {2: 1.0, 4: 0.0, 6: 0.0, 8: 0.0}, 6109: {2: 1.0, 4: 0.0, 8: 0.0}, 2993: {4: 0.0, 5: 0.0, 8: 0.0}, 3236: {4: 0.0, 8: 0.0}, 16358: {4: 0.0}, 189: {0: 0.0, 1: 0.0, 2: 0.0, 5: 1.0, 6: 0.0, 7: 0.0, 8: 0.0}, 2376: {0: 0.0, 1: 0.0, 2: 1.0, 5: 0.0, 6: 0.0, 8: 0.0}, 2378: {1: 0.0, 2: 0.0, 5: 0.0, 6: 0.0, 8: 0.0}, 8939: {1: 0.0, 2: 0.0, 5: 0.0, 6: 0.0}, 10397: {1: 0.0, 2: 1.0, 5: 0.0}, 10400: {2: 0.0, 5: 0.0}, 1329: {0: 0.0, 2: 0.0, 7: 0.0, 8: 0.0}, 1347: {0: 0.0, 7: 0.0, 8: 0.0}, 7908: {0: 1.0, 7: 0.0}, 4489: {2: 1.0, 5: 0.0, 6: 0.0, 8: 0.0}, 5947: {2: 1.0, 5: 0.0, 8: 0.0}, 2662: {6: 0.0, 8: 0.0}, 15784: {6: 0.0}, 12922: {4: 0.0}, 5400: {0: 0.0, 1: 0.0, 2: 0.0, 4: 0.0, 8: 0.0}, 5481: {0: 0.0, 1: 1.0, 2: 0.0, 8: 0.0}, 5487: {0: 0.0, 2: 0.0, 8: 0.0}, 864: {0: 0.0, 1: 0.0, 2: 1.0, 5: 0.0, 7: 0.0, 8: 0.0}, 5238: {0: 1.0, 1: 0.0, 2: 0.0, 5: 0.0, 8: 0.0}, 5239: {1: 1.0, 2: 0.0, 5: 0.0, 8: 0.0}, 18361: {1: 0.0, 2: 0.0, 5: 0.0}, 18364: {2: 0.0, 5: 0.0}, 18382: {5: 0.0}, 5353: {2: 0.0, 3: 0.0, 4: 0.0, 8: 0.0}, 5407: {2: 1.0, 4: 0.0, 8: 0.0}, 11968: {2: 0.0, 4: 0.0}, 326: {1: 0.0, 2: 0.0, 3: 0.0, 6: 0.0, 7: 0.0, 8: 0.0}, 13448: {1: 0.0, 2: 0.0, 3: 1.0, 6: 0.0, 7: 0.0}, 14177: {1: 1.0, 2: 0.0, 3: 0.0, 7: 0.0}, 14195: {1: 1.0, 3: 0.0, 7: 0.0}, 7557: {0: 0.0, 3: 0.0, 4: 0.0, 7: 0.0}, 7719: {0: 0.0, 3: 0.0, 7: 0.0}, 5416: {4: 0.0, 8: 0.0}, 7746: {0: 1.0, 7: 0.0}, 758: {1: 0.0, 2: 0.0, 4: 0.0, 5: 0.0, 7: 0.0, 8: 0.0}, 764: {2: 1.0, 4: 0.0, 5: 0.0, 7: 0.0, 8: 0.0}, 1007: {2: 0.0, 4: 0.0, 7: 0.0, 8: 0.0}, 1169: {2: 0.0, 7: 0.0, 8: 0.0}, 15552: {0: 1.0, 1: 0.0, 2: 0.0, 3: 0.0, 4: 0.0, 6: 0.0}, 15554: {1: 0.0, 2: 0.0, 3: 0.0, 4: 1.0, 6: 0.0}, 16283: {1: 0.0, 2: 0.0, 3: 1.0, 4: 0.0}, 18475: {2: 0.0, 3: 0.0, 4: 0.0}, 4626: {0: 0.0, 1: 0.0, 3: 0.0, 4: 1.0, 6: 0.0, 8: 0.0}, 6084: {0: 0.0, 1: 0.0, 3: 1.0, 4: 0.0, 8: 0.0}, 6165: {0: 0.0, 1: 0.0, 3: 0.0, 8: 0.0}, 12636: {0: 0.0, 1: 0.0, 2: 0.0, 3: 1.0, 4: 0.0}, 12637: {1: 0.0, 2: 0.0, 3: 0.0, 4: 0.0}, 12799: {1: 0.0, 2: 1.0, 3: 0.0}, 12826: {1: 1.0, 2: 0.0}, 297: {0: 0.0, 1: 0.0, 2: 0.0, 4: 0.0, 6: 1.0, 7: 0.0, 8: 0.0}, 6858: {0: 0.0, 1: 0.0, 2: 1.0, 4: 0.0, 6: 0.0, 7: 0.0}, 6957: {0: 0.0, 1: 0.0, 6: 0.0, 7: 0.0}, 8415: {0: 0.0, 1: 0.0, 7: 0.0}, 8418: {0: 0.0, 7: 0.0}, 18639: {0: 0.0, 1: 0.0, 3: 0.0}, 18666: {0: 0.0, 1: 1.0}, 1701: {0: 0.0, 1: 1.0, 2: 0.0, 3: 0.0, 4: 0.0, 7: 0.0, 8: 0.0}, 1704: {0: 1.0, 2: 0.0, 3: 0.0, 4: 0.0, 7: 0.0, 8: 0.0}, 1706: {2: 0.0, 3: 0.0, 4: 0.0, 7: 0.0, 8: 0.0}, 3893: {2: 1.0, 3: 0.0, 4: 0.0, 8: 0.0}, 4055: {2: 1.0, 3: 0.0, 8: 0.0}, 10616: {2: 0.0, 3: 0.0}, 2250: {0: 0.0, 1: 0.0, 4: 0.0, 5: 0.0, 6: 0.0, 8: 0.0}, 2412: {0: 0.0, 1: 0.0, 5: 0.0, 6: 0.0, 8: 0.0}, 8973: {0: 0.0, 1: 0.0, 5: 0.0, 6: 0.0}, 783: {0: 0.0, 1: 1.0, 2: 0.0, 4: 0.0, 5: 0.0, 7: 0.0, 8: 0.0}, 786: {0: 1.0, 2: 0.0, 4: 0.0, 5: 0.0, 7: 0.0, 8: 0.0}, 17500: {2: 0.0, 3: 0.0, 4: 0.0, 5: 0.0, 6: 0.0}, 18229: {2: 0.0, 3: 0.0, 4: 0.0, 5: 0.0}, 18247: {3: 0.0, 4: 0.0, 5: 0.0}, 18328: {3: 0.0, 5: 0.0}, 752: {3: 0.0, 4: 1.0, 5: 0.0, 7: 0.0, 8: 0.0}, 7313: {3: 0.0, 4: 0.0, 5: 0.0, 7: 0.0}, 7799: {3: 0.0, 4: 0.0, 7: 0.0}, 18468: {0: 0.0, 1: 0.0, 2: 1.0, 3: 0.0, 4: 0.0}, 18471: {0: 0.0, 2: 1.0, 3: 0.0, 4: 0.0}, 18525: {0: 1.0, 2: 0.0, 4: 0.0}, 18606: {0: 0.0, 2: 0.0}, 18624: {0: 1.0}, 5647: {2: 0.0, 4: 0.0, 8: 0.0}, 5391: {0: 1.0, 1: 0.0, 4: 0.0, 8: 0.0}, 5393: {1: 0.0, 4: 0.0, 8: 0.0}, 11954: {1: 1.0, 4: 0.0}, 12116: {1: 0.0}, 5433: {0: 0.0, 2: 0.0, 3: 0.0, 8: 0.0}, 5451: {0: 0.0, 3: 0.0, 8: 0.0}, 4698: {0: 1.0, 1: 0.0, 2: 0.0, 3: 0.0, 6: 0.0, 8: 0.0}, 4700: {1: 1.0, 2: 0.0, 3: 0.0, 6: 0.0, 8: 0.0}, 11913: {0: 1.0, 2: 0.0, 3: 0.0, 4: 0.0}, 11915: {2: 0.0, 3: 0.0, 4: 0.0}, 11942: {2: 0.0, 4: 0.0}, 5348: {1: 0.0, 2: 1.0, 3: 0.0, 4: 0.0, 8: 0.0}, 5375: {1: 0.0, 2: 0.0, 4: 0.0, 8: 0.0}, 5381: {2: 0.0, 4: 0.0, 8: 0.0}, 5390: {4: 0.0, 8: 0.0}, 18477: {0: 0.0, 1: 0.0, 3: 1.0, 4: 0.0}, 18483: {0: 1.0, 3: 0.0, 4: 0.0}, 18510: {0: 0.0, 4: 0.0}, 18484: {3: 0.0, 4: 0.0}, 5379: {0: 0.0, 2: 1.0, 4: 0.0, 8: 0.0}, 2676: {0: 0.0, 2: 0.0, 3: 1.0, 4: 0.0, 6: 0.0, 8: 0.0}, 2838: {0: 0.0, 2: 1.0, 3: 0.0, 6: 0.0, 8: 0.0}, 2865: {0: 0.0, 2: 0.0, 6: 0.0, 8: 0.0}, 2883: {0: 1.0, 6: 0.0, 8: 0.0}, 2884: {6: 0.0, 8: 0.0}, 5572: {1: 1.0, 8: 0.0}, 18694: {1: 0.0}, 18512: {4: 0.0}, 258: {0: 0.0, 3: 0.0, 4: 1.0, 6: 0.0, 7: 0.0, 8: 0.0}, 4632: {0: 0.0, 3: 1.0, 4: 0.0, 6: 0.0, 8: 0.0}, 18531: {0: 1.0, 1: 0.0, 4: 0.0}, 18532: {1: 0.0, 4: 0.0}, 11232: {0: 0.0, 1: 1.0, 2: 0.0, 4: 0.0, 6: 0.0}, 11235: {0: 0.0, 2: 0.0, 4: 0.0, 6: 0.0}, 11253: {0: 0.0, 4: 0.0, 6: 0.0}, 11982: {0: 0.0, 4: 0.0}, 12144: {0: 1.0}, 13620: {0: 1.0, 3: 0.0, 4: 0.0, 6: 0.0, 7: 0.0}, 14349: {0: 0.0, 3: 0.0, 4: 0.0, 7: 0.0}, 14403: {0: 0.0, 4: 0.0, 7: 0.0}, 2205: {0: 0.0, 1: 0.0, 3: 0.0, 4: 0.0, 5: 0.0, 6: 1.0, 8: 0.0}, 10602: {0: 1.0, 1: 0.0}, 18549: {0: 0.0, 1: 1.0, 2: 0.0, 3: 0.0}, 18555: {0: 0.0, 2: 0.0, 3: 0.0}, 18067: {2: 0.0, 3: 0.0, 6: 0.0}, 408: {0: 1.0, 2: 0.0, 3: 0.0, 6: 0.0, 7: 0.0, 8: 0.0}, 410: {2: 0.0, 3: 0.0, 6: 0.0, 7: 0.0, 8: 0.0}, 6971: {2: 0.0, 3: 1.0, 6: 0.0, 7: 0.0}, 8429: {2: 0.0, 3: 0.0, 7: 0.0}, 8456: {2: 0.0, 7: 0.0}, 12830: {2: 0.0}, 5397: {0: 0.0, 4: 0.0, 8: 0.0}, 18495: {0: 0.0, 1: 0.0, 2: 1.0, 4: 0.0}, 18513: {0: 1.0, 1: 0.0, 4: 0.0}, 4709: {1: 0.0, 3: 0.0, 6: 0.0, 8: 0.0}, 8349: {0: 0.0, 2: 0.0, 3: 1.0, 7: 0.0}, 12723: {0: 0.0, 2: 0.0, 3: 0.0}, 13446: {0: 0.0, 1: 0.0, 2: 0.0, 3: 1.0, 6: 0.0, 7: 0.0}, 13500: {0: 0.0, 1: 0.0, 2: 0.0, 6: 0.0, 7: 0.0}, 15687: {0: 0.0, 1: 1.0, 2: 0.0, 6: 0.0}, 15689: {1: 0.0, 2: 1.0, 6: 0.0}, 16418: {1: 0.0, 2: 0.0}, 16424: {2: 0.0}, 3123: {0: 1.0, 1: 0.0, 5: 0.0, 8: 0.0}, 3125: {1: 1.0, 5: 0.0, 8: 0.0}, 3368: {1: 0.0, 8: 0.0}, 8955: {0: 0.0, 1: 1.0, 5: 0.0, 6: 0.0}, 8961: {0: 0.0, 5: 0.0, 6: 0.0}, 9204: {0: 0.0, 6: 0.0}, 5535: {0: 1.0, 1: 0.0, 2: 0.0, 8: 0.0}, 18657: {0: 0.0, 1: 1.0, 2: 0.0}, 18660: {0: 0.0, 2: 0.0}, 18678: {0: 1.0}, 18640: {1: 0.0, 3: 0.0}, 287: {4: 0.0, 6: 0.0, 7: 0.0, 8: 0.0}, 1745: {4: 0.0, 7: 0.0, 8: 0.0}, 1462: {2: 0.0, 3: 0.0, 4: 0.0, 5: 0.0, 7: 0.0, 8: 0.0}, 1516: {2: 1.0, 4: 0.0, 5: 0.0, 7: 0.0, 8: 0.0}, 1759: {2: 0.0, 4: 0.0, 7: 0.0, 8: 0.0}, 14881: {2: 1.0, 4: 0.0, 7: 0.0}, 17068: {2: 0.0, 4: 0.0}, 17230: {2: 0.0}, 4650: {0: 0.0, 2: 0.0, 4: 0.0, 6: 0.0, 8: 0.0}, 4659: {0: 1.0, 4: 0.0, 6: 0.0, 8: 0.0}, 4661: {4: 0.0, 6: 0.0, 8: 0.0}, 6984: {0: 0.0, 1: 1.0, 3: 0.0, 6: 0.0, 7: 0.0}, 6987: {0: 0.0, 3: 0.0, 6: 0.0, 7: 0.0}, 7041: {0: 0.0, 6: 0.0, 7: 0.0}, 9228: {0: 0.0, 6: 0.0}, 12048: {0: 1.0, 2: 0.0}, 12050: {2: 0.0}, 17820: {0: 0.0, 1: 1.0, 2: 0.0, 3: 0.0, 6: 0.0}, 17823: {0: 1.0, 2: 0.0, 3: 0.0, 6: 0.0}, 17825: {2: 0.0, 3: 0.0, 6: 0.0}, 17834: {3: 0.0, 6: 0.0}, 17888: {6: 0.0}, 17827: {2: 0.0, 3: 0.0, 6: 0.0}, 1733: {2: 0.0, 4: 0.0, 7: 0.0, 8: 0.0}, 6107: {2: 0.0, 4: 0.0, 8: 0.0}, 6116: {4: 0.0, 8: 0.0}, 6278: {8: 0.0}, 6219: {0: 0.0, 1: 0.0, 8: 0.0}, 3069: {0: 1.0, 1: 0.0, 5: 0.0, 8: 0.0}, 3071: {1: 0.0, 5: 0.0, 8: 0.0}, 2881: {1: 0.0, 6: 0.0, 8: 0.0}, 1788: {0: 1.0, 2: 0.0, 3: 0.0, 7: 0.0, 8: 0.0}, 1789: {2: 0.0, 3: 0.0, 7: 0.0, 8: 0.0}, 1807: {3: 0.0, 7: 0.0, 8: 0.0}, 1751: {4: 0.0, 7: 0.0, 8: 0.0}, 8312: {4: 0.0, 7: 0.0}, 3435: {0: 0.0, 2: 1.0, 4: 0.0, 8: 0.0}, 3597: {0: 1.0, 2: 0.0, 8: 0.0}, 12290: {2: 0.0}, 13991: {2: 0.0, 5: 0.0, 7: 0.0}, 5675: {2: 1.0, 3: 0.0, 8: 0.0}, 12236: {2: 0.0, 3: 0.0}, 870: {0: 0.0, 2: 0.0, 5: 0.0, 7: 0.0, 8: 0.0}, 7431: {0: 1.0, 2: 0.0, 5: 0.0, 7: 0.0}, 7917: {0: 1.0, 2: 0.0, 7: 0.0}, 13851: {0: 1.0, 1: 0.0, 2: 0.0, 3: 0.0, 4: 0.0, 5: 0.0, 7: 0.0}, 13852: {1: 0.0, 2: 1.0, 3: 0.0, 4: 0.0, 5: 0.0, 7: 0.0}, 13906: {1: 0.0, 2: 0.0, 4: 1.0, 5: 0.0, 7: 0.0}, 16093: {1: 1.0, 2: 0.0, 4: 0.0, 5: 0.0}, 16579: {1: 0.0, 2: 0.0, 4: 0.0}, 16582: {2: 0.0, 4: 0.0}, 13858: {2: 0.0, 3: 0.0, 4: 0.0, 5: 0.0, 7: 0.0}, 13867: {3: 0.0, 4: 0.0, 5: 0.0, 7: 0.0}, 14353: {3: 0.0, 4: 0.0, 7: 0.0}, 891: {0: 0.0, 1: 0.0, 2: 0.0, 3: 1.0, 5: 0.0, 7: 0.0, 8: 0.0}, 918: {0: 0.0, 1: 0.0, 2: 0.0, 5: 0.0, 7: 0.0, 8: 0.0}, 1404: {0: 0.0, 1: 0.0, 2: 1.0, 7: 0.0, 8: 0.0}, 7965: {0: 0.0, 1: 0.0, 2: 1.0, 7: 0.0}, 7983: {0: 0.0, 1: 1.0, 7: 0.0}, 7986: {0: 1.0, 7: 0.0}, 7349: {2: 0.0, 4: 0.0, 5: 0.0, 7: 0.0}, 7367: {4: 0.0, 5: 0.0, 7: 0.0}, 7448: {5: 0.0, 7: 0.0}, 7934: {7: 0.0}, 995: {3: 0.0, 4: 0.0, 7: 0.0, 8: 0.0}, 5369: {3: 0.0, 4: 0.0, 8: 0.0}, 5396: {4: 0.0, 8: 0.0}, 5558: {8: 0.0}, 4383: {0: 0.0, 1: 1.0, 3: 0.0, 4: 0.0, 5: 0.0, 6: 0.0, 8: 0.0}, 4386: {0: 0.0, 3: 0.0, 4: 1.0, 5: 0.0, 6: 0.0, 8: 0.0}, 4388: {3: 0.0, 4: 0.0, 5: 0.0, 6: 0.0, 8: 0.0}, 4469: {3: 0.0, 5: 0.0, 6: 0.0, 8: 0.0}, 4523: {5: 0.0, 6: 0.0, 8: 0.0}, 4766: {6: 0.0, 8: 0.0}, 87: {0: 1.0, 2: 0.0, 3: 0.0, 5: 0.0, 6: 0.0, 7: 0.0, 8: 0.0}, 378: {0: 0.0, 1: 1.0, 2: 0.0, 6: 0.0, 7: 0.0, 8: 0.0}, 15705: {0: 0.0, 1: 0.0, 6: 0.0}, 16434: {0: 0.0, 1: 1.0}, 16436: {1: 0.0}, 21: {0: 1.0, 3: 0.0, 4: 0.0, 5: 0.0, 6: 0.0, 7: 0.0, 8: 0.0}, 144: {0: 0.0, 1: 0.0, 5: 0.0, 6: 0.0, 7: 0.0, 8: 0.0}, 13266: {0: 0.0, 1: 1.0, 5: 0.0, 6: 0.0, 7: 0.0}, 13269: {0: 1.0, 5: 0.0, 6: 0.0, 7: 0.0}, 13271: {5: 0.0, 6: 0.0, 7: 0.0}, 13514: {6: 0.0, 7: 0.0}, 3781: {1: 1.0, 2: 0.0, 5: 0.0, 8: 0.0}, 1596: {0: 0.0, 2: 0.0, 5: 0.0, 7: 0.0, 8: 0.0}, 4512: {0: 0.0, 2: 0.0, 5: 0.0, 6: 0.0, 8: 0.0}, 11073: {0: 0.0, 2: 0.0, 5: 0.0, 6: 0.0}, 11091: {0: 1.0, 5: 0.0, 6: 0.0}, 140: {2: 0.0, 5: 0.0, 6: 0.0, 7: 0.0, 8: 0.0}, 6701: {2: 0.0, 5: 0.0, 6: 0.0, 7: 0.0}, 6719: {5: 0.0, 6: 0.0, 7: 0.0}, 6962: {6: 0.0, 7: 0.0}, 11523: {0: 0.0, 3: 0.0, 6: 0.0}, 12252: {0: 0.0, 3: 0.0}, 12306: {0: 1.0}, 5257: {1: 0.0, 5: 0.0, 8: 0.0}, 157: {5: 0.0, 6: 0.0, 7: 0.0, 8: 0.0}, 1615: {5: 0.0, 7: 0.0, 8: 0.0}, 1858: {7: 0.0, 8: 0.0}, 6232: {8: 0.0}, 1151: {3: 0.0, 7: 0.0, 8: 0.0}, 3421: {1: 0.0, 3: 1.0, 4: 0.0, 8: 0.0}, 4377: {0: 0.0, 2: 0.0, 3: 0.0, 4: 0.0, 5: 0.0, 6: 0.0, 8: 0.0}, 5844: {0: 0.0, 3: 0.0, 4: 0.0, 5: 0.0, 8: 0.0}, 12405: {0: 0.0, 3: 1.0, 4: 0.0, 5: 0.0}, 13932: {0: 0.0, 1: 0.0, 2: 0.0, 3: 1.0, 5: 0.0, 7: 0.0}, 13986: {0: 0.0, 1: 1.0, 2: 0.0, 5: 0.0, 7: 0.0}, 13987: {1: 0.0, 2: 0.0, 5: 0.0, 7: 0.0}, 13698: {0: 0.0, 1: 0.0, 3: 0.0, 6: 0.0, 7: 0.0}, 15885: {0: 0.0, 1: 0.0, 3: 0.0, 6: 0.0}, 15939: {0: 1.0, 1: 0.0, 6: 0.0}, 747: {0: 0.0, 1: 0.0, 3: 1.0, 4: 0.0, 5: 0.0, 7: 0.0, 8: 0.0}, 828: {0: 0.0, 1: 0.0, 3: 1.0, 5: 0.0, 7: 0.0, 8: 0.0}, 1314: {0: 0.0, 1: 1.0, 3: 0.0, 7: 0.0, 8: 0.0}, 1317: {0: 1.0, 3: 0.0, 7: 0.0, 8: 0.0}, 1319: {3: 0.0, 7: 0.0, 8: 0.0}, 7880: {3: 0.0, 7: 0.0}, 99: {0: 0.0, 1: 0.0, 3: 0.0, 5: 0.0, 6: 0.0, 7: 0.0, 8: 0.0}, 126: {0: 0.0, 1: 1.0, 5: 0.0, 6: 0.0, 7: 0.0, 8: 0.0}, 132: {0: 0.0, 5: 0.0, 6: 0.0, 7: 0.0, 8: 0.0}, 6693: {0: 0.0, 5: 0.0, 6: 0.0, 7: 0.0}, 7187: {2: 0.0, 6: 0.0, 7: 0.0}, 7916: {2: 0.0, 7: 0.0}, 8766: {0: 0.0, 1: 1.0, 3: 0.0, 4: 0.0, 5: 0.0, 6: 0.0}, 8772: {0: 0.0, 3: 0.0, 4: 1.0, 5: 0.0, 6: 0.0}, 9380: {1: 1.0, 6: 0.0}, 902: {1: 0.0, 3: 0.0, 5: 0.0, 7: 0.0, 8: 0.0}, 7463: {1: 0.0, 3: 1.0, 5: 0.0, 7: 0.0}, 11837: {1: 0.0, 3: 0.0, 5: 0.0}, 11840: {3: 0.0, 5: 0.0}, 11894: {5: 0.0}, 624: {0: 0.0, 2: 1.0, 6: 0.0, 7: 0.0, 8: 0.0}, 1353: {0: 0.0, 2: 0.0, 7: 0.0, 8: 0.0}, 1371: {0: 1.0, 7: 0.0, 8: 0.0}, 1372: {7: 0.0, 8: 0.0}, 619: {6: 0.0, 7: 0.0, 8: 0.0}, 5500: {1: 1.0, 8: 0.0}, 18622: {1: 0.0}, 1350: {0: 1.0, 1: 0.0, 2: 0.0, 7: 0.0, 8: 0.0}, 1351: {1: 1.0, 2: 0.0, 7: 0.0, 8: 0.0}, 1369: {1: 0.0, 7: 0.0, 8: 0.0}, 1461: {0: 0.0, 2: 1.0, 3: 0.0, 4: 0.0, 5: 0.0, 7: 0.0, 8: 0.0}, 2328: {0: 0.0, 2: 0.0, 5: 0.0, 6: 0.0, 8: 0.0}, 3057: {0: 0.0, 2: 0.0, 5: 0.0, 8: 0.0}, 3059: {2: 0.0, 5: 0.0, 8: 0.0}, 13989: {0: 0.0, 2: 1.0, 5: 0.0, 7: 0.0}, 14475: {0: 0.0, 2: 0.0, 7: 0.0}, 882: {0: 0.0, 1: 0.0, 5: 0.0, 7: 0.0, 8: 0.0}, 1125: {0: 0.0, 1: 0.0, 7: 0.0, 8: 0.0}, 14247: {0: 0.0, 1: 1.0, 7: 0.0}, 14250: {0: 0.0, 7: 0.0}, 14252: {7: 0.0}, 2918: {1: 0.0, 2: 0.0, 3: 0.0, 4: 0.0, 5: 1.0, 8: 0.0}, 16040: {1: 0.0, 2: 0.0, 3: 0.0, 4: 0.0, 5: 0.0}, 16043: {2: 0.0, 3: 0.0, 4: 0.0, 5: 0.0}, 16529: {2: 0.0, 3: 0.0, 4: 0.0}, 16538: {3: 0.0, 4: 0.0}, 16592: {4: 0.0}, 1539: {0: 1.0, 1: 0.0, 2: 0.0, 3: 0.0, 5: 0.0, 7: 0.0, 8: 0.0}, 1540: {1: 0.0, 2: 1.0, 3: 0.0, 5: 0.0, 7: 0.0, 8: 0.0}, 1594: {1: 0.0, 2: 0.0, 5: 0.0, 7: 0.0, 8: 0.0}, 1597: {2: 0.0, 5: 0.0, 7: 0.0, 8: 0.0}, 2083: {2: 0.0, 7: 0.0, 8: 0.0}, 7433: {2: 0.0, 5: 0.0, 7: 0.0}, 4402: {1: 0.0, 2: 0.0, 4: 0.0, 5: 1.0, 6: 0.0, 8: 0.0}, 861: {0: 1.0, 5: 0.0, 7: 0.0, 8: 0.0}, 5245: {2: 0.0, 5: 0.0, 8: 0.0}, 3501: {0: 0.0, 1: 0.0, 3: 1.0, 8: 0.0}, 83: {1: 0.0, 2: 1.0, 3: 0.0, 5: 0.0, 6: 0.0, 7: 0.0, 8: 0.0}, 92: {1: 0.0, 3: 0.0, 5: 1.0, 6: 0.0, 7: 0.0, 8: 0.0}, 13214: {1: 0.0, 3: 1.0, 5: 0.0, 6: 0.0, 7: 0.0}, 6696: {0: 0.0, 1: 0.0, 2: 0.0, 5: 0.0, 6: 0.0, 7: 0.0}, 11070: {0: 1.0, 1: 0.0, 2: 0.0, 5: 0.0, 6: 0.0}, 11079: {0: 0.0, 1: 0.0, 5: 0.0, 6: 0.0}, 11565: {0: 0.0, 1: 0.0, 6: 0.0}, 11568: {0: 1.0, 6: 0.0}, 11570: {6: 0.0}, 14248: {1: 1.0, 7: 0.0}, 6698: {1: 0.0, 2: 1.0, 5: 0.0, 6: 0.0, 7: 0.0}, 6941: {1: 1.0, 2: 0.0, 6: 0.0, 7: 0.0}, 6959: {1: 0.0, 6: 0.0, 7: 0.0}, 8102: {1: 0.0, 2: 0.0, 3: 0.0, 5: 0.0, 7: 0.0}, 750: {0: 0.0, 3: 1.0, 4: 0.0, 5: 0.0, 7: 0.0, 8: 0.0}, 1236: {0: 0.0, 3: 0.0, 4: 0.0, 7: 0.0, 8: 0.0}, 1263: {0: 0.0, 4: 0.0, 7: 0.0, 8: 0.0}, 5637: {0: 1.0, 4: 0.0, 8: 0.0}, 5718: {0: 0.0, 8: 0.0}, 5725: {1: 1.0, 2: 0.0, 8: 0.0}, 15693: {0: 0.0, 2: 1.0, 6: 0.0}, 16422: {0: 1.0, 2: 0.0}, 16440: {0: 1.0}, 6724: {1: 0.0, 2: 0.0, 3: 0.0, 5: 0.0, 6: 0.0, 7: 0.0}, 6730: {2: 0.0, 3: 0.0, 5: 0.0, 6: 0.0, 7: 0.0}, 6757: {2: 0.0, 5: 0.0, 6: 0.0, 7: 0.0}, 7243: {2: 0.0, 6: 0.0, 7: 0.0}, 4455: {0: 0.0, 1: 1.0, 2: 0.0, 3: 0.0, 5: 0.0, 6: 0.0, 8: 0.0}, 11780: {2: 0.0, 5: 0.0}, 883: {1: 0.0, 5: 0.0, 7: 0.0, 8: 0.0}, 889: {5: 0.0, 7: 0.0, 8: 0.0}, 1127: {1: 0.0, 7: 0.0, 8: 0.0}, 1130: {7: 0.0, 8: 0.0}, 5241: {0: 0.0, 2: 0.0, 5: 0.0, 8: 0.0}, 5259: {0: 0.0, 5: 0.0, 8: 0.0}, 5502: {0: 1.0, 8: 0.0}, 5504: {8: 0.0}, 110: {1: 0.0, 2: 0.0, 5: 0.0, 6: 0.0, 7: 0.0, 8: 0.0}, 11531: {1: 0.0, 2: 0.0, 6: 0.0}, 11534: {2: 0.0, 6: 0.0}, 12992: {2: 0.0}, 16191: {0: 0.0, 1: 0.0, 5: 0.0}, 1131: {0: 1.0, 7: 0.0, 8: 0.0}, 1132: {7: 0.0, 8: 0.0}, 14254: {7: 0.0}, 15444: {0: 0.0, 1: 0.0, 2: 1.0, 5: 0.0, 6: 0.0}, 15453: {0: 1.0, 1: 0.0, 5: 0.0, 6: 0.0}, 15455: {1: 0.0, 5: 0.0, 6: 0.0}, 4462: {2: 0.0, 3: 1.0, 5: 0.0, 6: 0.0, 8: 0.0}, 5191: {2: 0.0, 3: 1.0, 5: 0.0, 8: 0.0}, 5677: {2: 0.0, 3: 0.0, 8: 0.0}, 14229: {0: 1.0, 1: 0.0, 2: 0.0, 7: 0.0}, 14235: {0: 1.0, 2: 0.0, 7: 0.0}, 14236: {2: 0.0, 7: 0.0}, 13125: {0: 1.0, 2: 0.0, 3: 0.0, 4: 0.0, 5: 0.0, 6: 0.0, 7: 0.0}, 15312: {0: 0.0, 2: 1.0, 3: 0.0, 4: 0.0, 5: 0.0, 6: 0.0}, 15366: {0: 0.0, 2: 0.0, 4: 0.0, 5: 0.0, 6: 0.0}, 15375: {0: 0.0, 4: 0.0, 5: 0.0, 6: 0.0}, 15537: {0: 0.0, 5: 0.0, 6: 0.0}, 15780: {0: 1.0, 6: 0.0}, 574: {2: 0.0, 3: 1.0, 6: 0.0, 7: 0.0, 8: 0.0}, 2761: {2: 0.0, 3: 0.0, 6: 0.0, 8: 0.0}, 2815: {2: 0.0, 6: 0.0, 8: 0.0}, 3544: {2: 0.0, 8: 0.0}, 3562: {8: 0.0}, 13267: {1: 1.0, 5: 0.0, 6: 0.0, 7: 0.0}, 13273: {5: 0.0, 6: 0.0, 7: 0.0}, 3555: {0: 0.0, 1: 1.0, 8: 0.0}, 384: {0: 0.0, 2: 0.0, 6: 0.0, 7: 0.0, 8: 0.0}, 2571: {0: 0.0, 2: 0.0, 6: 0.0, 8: 0.0}, 15702: {0: 1.0, 6: 0.0}, 15704: {6: 0.0}, 2071: {1: 0.0, 7: 0.0, 8: 0.0}, 2074: {7: 0.0, 8: 0.0}, 6448: {8: 0.0}, 3075: {0: 1.0, 5: 0.0, 8: 0.0}, 7182: {0: 0.0, 1: 0.0, 2: 0.0, 6: 0.0, 7: 0.0}, 576: {0: 0.0, 1: 0.0, 3: 0.0, 6: 0.0, 7: 0.0, 8: 0.0}, 4950: {0: 0.0, 1: 0.0, 3: 0.0, 6: 0.0, 8: 0.0}, 11511: {0: 0.0, 1: 0.0, 3: 0.0, 6: 0.0}, 5836: {2: 1.0, 3: 0.0, 4: 0.0, 5: 0.0, 8: 0.0}, 5917: {2: 0.0, 3: 0.0, 5: 0.0, 8: 0.0}, 5971: {2: 0.0, 5: 0.0, 8: 0.0}, 6214: {2: 0.0, 8: 0.0}, 176: {3: 0.0, 5: 0.0, 6: 0.0, 7: 0.0, 8: 0.0}, 203: {5: 0.0, 6: 0.0, 7: 0.0, 8: 0.0}, 689: {6: 0.0, 7: 0.0, 8: 0.0}, 7250: {6: 0.0, 7: 0.0}, 8928: {0: 0.0, 1: 1.0, 3: 0.0, 5: 0.0, 6: 0.0}, 8931: {0: 0.0, 3: 0.0, 5: 0.0, 6: 0.0}, 9417: {0: 0.0, 3: 0.0, 6: 0.0}, 5593: {2: 1.0, 3: 0.0, 4: 0.0, 8: 0.0}, 5755: {2: 0.0, 3: 0.0, 8: 0.0}, 4891: {2: 1.0, 4: 0.0, 6: 0.0, 8: 0.0}, 6349: {2: 0.0, 4: 0.0, 8: 0.0}, 6430: {2: 0.0, 8: 0.0}, 784: {1: 0.0, 2: 0.0, 4: 0.0, 5: 0.0, 7: 0.0, 8: 0.0}, 13126: {2: 0.0, 3: 1.0, 4: 0.0, 5: 0.0, 6: 0.0, 7: 0.0}, 13612: {2: 0.0, 3: 0.0, 4: 1.0, 6: 0.0, 7: 0.0}, 15799: {2: 1.0, 3: 0.0, 4: 0.0, 6: 0.0}, 15961: {2: 0.0, 3: 0.0, 6: 0.0}, 5104: {1: 0.0, 2: 0.0, 3: 0.0, 4: 0.0, 5: 0.0, 8: 0.0}, 5110: {2: 0.0, 3: 0.0, 4: 1.0, 5: 0.0, 8: 0.0}, 5728: {2: 0.0, 8: 0.0}, 5746: {8: 0.0}, 4390: {3: 0.0, 4: 0.0, 5: 0.0, 6: 0.0, 8: 0.0}, 4417: {4: 0.0, 5: 0.0, 6: 0.0, 8: 0.0}, 4903: {4: 0.0, 6: 0.0, 8: 0.0}, 4432: {2: 0.0, 4: 0.0, 5: 0.0, 6: 0.0, 8: 0.0}, 4513: {2: 1.0, 5: 0.0, 6: 0.0, 8: 0.0}, 4384: {1: 1.0, 3: 0.0, 4: 0.0, 5: 0.0, 6: 0.0, 8: 0.0}, 4438: {1: 0.0, 4: 0.0, 5: 0.0, 6: 0.0, 8: 0.0}, 7050: {0: 1.0, 2: 0.0, 3: 0.0, 4: 0.0, 6: 0.0, 7: 0.0}, 7052: {2: 0.0, 3: 1.0, 4: 0.0, 6: 0.0, 7: 0.0}, 7079: {2: 1.0, 4: 0.0, 6: 0.0, 7: 0.0}, 11902: {5: 0.0}, 12157: {2: 0.0, 3: 0.0, 4: 0.0}, 6403: {2: 0.0, 3: 0.0, 8: 0.0}, 496: {1: 0.0, 3: 0.0, 4: 0.0, 6: 0.0, 7: 0.0, 8: 0.0}, 2878: {6: 0.0, 8: 0.0}, 4420: {1: 0.0, 4: 0.0, 5: 0.0, 6: 0.0, 8: 0.0}, 11425: {2: 0.0, 3: 1.0, 4: 0.0, 6: 0.0}, 18094: {2: 0.0, 6: 0.0}, 10936: {1: 0.0, 2: 0.0, 3: 1.0, 4: 0.0, 5: 0.0, 6: 0.0}, 18469: {1: 0.0, 2: 0.0, 3: 1.0, 4: 0.0}, 18631: {1: 0.0, 2: 0.0, 3: 0.0}, 18634: {2: 0.0, 3: 0.0}, 18688: {2: 0.0}, 527: {4: 0.0, 6: 0.0, 7: 0.0, 8: 0.0}, 1985: {4: 0.0, 7: 0.0, 8: 0.0}, 4172: {4: 0.0, 8: 0.0}, 8679: {0: 0.0, 3: 0.0, 7: 0.0}, 10866: {0: 0.0, 3: 0.0}, 13132: {1: 0.0, 3: 0.0, 4: 1.0, 5: 0.0, 6: 0.0, 7: 0.0}, 14590: {1: 0.0, 3: 0.0, 4: 0.0, 5: 0.0, 7: 0.0}, 14617: {1: 0.0, 4: 0.0, 5: 0.0, 7: 0.0}, 15103: {1: 1.0, 4: 0.0, 7: 0.0}, 15184: {1: 1.0, 7: 0.0}, 8051: {2: 0.0, 4: 0.0, 5: 0.0, 7: 0.0}, 8213: {2: 0.0, 5: 0.0, 7: 0.0}, 8222: {5: 0.0, 7: 0.0}, 12596: {5: 0.0}, 1956: {0: 1.0, 3: 0.0, 4: 0.0, 7: 0.0, 8: 0.0}, 165: {0: 1.0, 2: 0.0, 3: 0.0, 5: 0.0, 6: 0.0, 7: 0.0, 8: 0.0}, 166: {2: 0.0, 3: 0.0, 5: 0.0, 6: 0.0, 7: 0.0, 8: 0.0}, 4631: {3: 0.0, 4: 0.0, 6: 0.0, 8: 0.0}, 4685: {4: 0.0, 6: 0.0, 8: 0.0}, 7781: {2: 0.0, 3: 1.0, 4: 0.0, 7: 0.0}, 12155: {2: 0.0, 3: 0.0, 4: 0.0}, 12182: {2: 0.0, 4: 0.0}, 12344: {2: 0.0}, 18850: {2: 0.0}, 4909: {4: 0.0, 6: 0.0, 8: 0.0}, 4990: {6: 0.0, 8: 0.0}, 38: {1: 0.0, 4: 0.0, 5: 0.0, 6: 0.0, 7: 0.0, 8: 0.0}, 1496: {1: 0.0, 4: 0.0, 5: 0.0, 7: 0.0, 8: 0.0}, 1499: {4: 0.0, 5: 0.0, 7: 0.0, 8: 0.0}, 14621: {4: 0.0, 5: 0.0, 7: 0.0}, 14864: {4: 0.0, 7: 0.0}, 58: {2: 0.0, 4: 0.0, 5: 0.0, 6: 0.0, 7: 0.0, 8: 0.0}, 220: {2: 0.0, 5: 0.0, 6: 0.0, 7: 0.0, 8: 0.0}, 773: {4: 0.0, 5: 0.0, 7: 0.0, 8: 0.0}, 13895: {4: 0.0, 5: 0.0, 7: 0.0}, 16082: {4: 0.0, 5: 0.0}, 4410: {0: 0.0, 1: 1.0, 4: 0.0, 5: 0.0, 6: 0.0, 8: 0.0}, 4416: {0: 1.0, 4: 0.0, 5: 0.0, 6: 0.0, 8: 0.0}, 146: {1: 0.0, 5: 0.0, 6: 0.0, 7: 0.0, 8: 0.0}, 6707: {1: 0.0, 5: 0.0, 6: 0.0, 7: 0.0}, 935: {5: 0.0, 7: 0.0, 8: 0.0}, 3122: {5: 0.0, 8: 0.0}, 2934: {0: 0.0, 1: 1.0, 3: 0.0, 4: 0.0, 5: 0.0, 8: 0.0}, 2940: {0: 0.0, 3: 0.0, 4: 0.0, 5: 0.0, 8: 0.0}, 2967: {0: 0.0, 4: 0.0, 5: 0.0, 8: 0.0}, 3129: {0: 0.0, 5: 0.0, 8: 0.0}, 1413: {0: 0.0, 1: 1.0, 7: 0.0, 8: 0.0}, 1419: {0: 1.0, 7: 0.0, 8: 0.0}, 5114: {1: 0.0, 3: 1.0, 4: 0.0, 5: 0.0, 8: 0.0}, 5357: {1: 0.0, 3: 0.0, 4: 0.0, 8: 0.0}, 5411: {1: 0.0, 4: 0.0, 8: 0.0}, 578: {1: 0.0, 3: 0.0, 6: 0.0, 7: 0.0, 8: 0.0}, 581: {3: 0.0, 6: 0.0, 7: 0.0, 8: 0.0}, 2039: {3: 0.0, 7: 0.0, 8: 0.0}, 2066: {7: 0.0, 8: 0.0}, 6440: {8: 0.0}, 5925: {0: 0.0, 3: 1.0, 5: 0.0, 8: 0.0}, 2933: {3: 0.0, 4: 0.0, 5: 0.0, 8: 0.0}, 3419: {3: 0.0, 4: 0.0, 8: 0.0}, 15807: {0: 0.0, 3: 1.0, 4: 0.0, 6: 0.0}, 15969: {0: 0.0, 3: 0.0, 6: 0.0}, 16698: {0: 1.0, 3: 0.0}, 1467: {0: 0.0, 1: 1.0, 3: 0.0, 4: 0.0, 5: 0.0, 7: 0.0, 8: 0.0}, 1470: {0: 1.0, 3: 0.0, 4: 0.0, 5: 0.0, 7: 0.0, 8: 0.0}, 1632: {0: 0.0, 3: 0.0, 5: 0.0, 7: 0.0, 8: 0.0}, 1875: {0: 0.0, 3: 0.0, 7: 0.0, 8: 0.0}, 1929: {0: 1.0, 7: 0.0, 8: 0.0}, 1472: {3: 0.0, 4: 1.0, 5: 0.0, 7: 0.0, 8: 0.0}, 8033: {3: 0.0, 4: 0.0, 5: 0.0, 7: 0.0}, 7058: {1: 1.0, 3: 0.0, 4: 0.0, 6: 0.0, 7: 0.0}, 7085: {1: 0.0, 4: 0.0, 6: 0.0, 7: 0.0}, 7247: {1: 0.0, 6: 0.0, 7: 0.0}, 9434: {1: 0.0, 6: 0.0}, 9440: {6: 0.0}, 490: {2: 0.0, 3: 0.0, 4: 0.0, 6: 0.0, 7: 0.0, 8: 0.0}, 652: {2: 0.0, 3: 0.0, 6: 0.0, 7: 0.0, 8: 0.0}, 18479: {1: 0.0, 3: 0.0, 4: 0.0}, 13701: {0: 0.0, 3: 1.0, 6: 0.0, 7: 0.0}, 18075: {0: 1.0, 3: 0.0, 6: 0.0}, 13647: {0: 0.0, 4: 0.0, 6: 0.0, 7: 0.0}, 15105: {0: 0.0, 4: 0.0, 7: 0.0}, 12531: {0: 1.0, 2: 0.0, 5: 0.0}, 7091: {4: 0.0, 6: 0.0, 7: 0.0}, 7172: {6: 0.0, 7: 0.0}, 4456: {1: 0.0, 2: 0.0, 3: 0.0, 5: 1.0, 6: 0.0, 8: 0.0}, 4942: {1: 0.0, 2: 1.0, 3: 0.0, 6: 0.0, 8: 0.0}, 4969: {1: 1.0, 2: 0.0, 6: 0.0, 8: 0.0}, 4023: {0: 0.0, 1: 0.0, 2: 1.0, 8: 0.0}, 4041: {0: 1.0, 1: 0.0, 8: 0.0}, 1488: {0: 0.0, 2: 0.0, 4: 0.0, 5: 1.0, 7: 0.0, 8: 0.0}, 14610: {0: 0.0, 2: 0.0, 4: 0.0, 5: 0.0, 7: 0.0}, 14853: {0: 0.0, 2: 1.0, 4: 0.0, 7: 0.0}, 15015: {0: 0.0, 2: 1.0, 7: 0.0}, 17202: {0: 1.0, 2: 0.0}, 9278: {4: 0.0, 6: 0.0}, 13158: {0: 0.0, 1: 1.0, 4: 0.0, 5: 0.0, 6: 0.0, 7: 0.0}, 13164: {0: 0.0, 4: 0.0, 5: 0.0, 6: 0.0, 7: 0.0}, 13407: {0: 0.0, 4: 0.0, 6: 0.0, 7: 0.0}, 13409: {4: 0.0, 6: 0.0, 7: 0.0}, 14138: {4: 0.0, 7: 0.0}})\n"
     ]
    }
   ]
  },
  {
   "cell_type": "code",
   "source": [],
   "metadata": {
    "id": "AlrFqIOW_QBN",
    "pycharm": {
     "name": "#%%\n"
    }
   },
   "execution_count": null,
   "outputs": []
  },
  {
   "cell_type": "code",
   "source": [],
   "metadata": {
    "id": "Klh9GWdfUVtV",
    "pycharm": {
     "name": "#%%\n"
    }
   },
   "execution_count": null,
   "outputs": []
  }
 ]
}